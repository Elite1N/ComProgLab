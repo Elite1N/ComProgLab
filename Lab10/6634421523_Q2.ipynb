{
 "cells": [
  {
   "cell_type": "markdown",
   "metadata": {
    "deletable": false,
    "editable": false,
    "nbgrader": {
     "cell_type": "markdown",
     "checksum": "a5bb0a9666786dd4d321e10c66f8eadc",
     "grade": false,
     "grade_id": "cell-dbf37dcea5d7dc5c",
     "locked": true,
     "schema_version": 3,
     "solution": false,
     "task": false
    }
   },
   "source": [
    "## Q2 (3 points)\n",
    "- เขียนฟังก์ชัน get_dict(file_name) โดยรับพารามิเตอร์เป็น file_name ที่สร้าง dictionary จากการอ่านไฟล์ conversation.txt (มีไฟล์ให้)  <br>\n",
    "    - จากนั้นนับความถี่ของแต่ละคำที่ปรากฏในไฟล์ โดยแต่ละคำคั่นด้วยช่องว่าง และให้ตัด **: ? , .** ที่อยู่หน้าหรือหลังคำ \n",
    "ออกจากข้อความด้วย <br> และแสดงผลลัพธ์เป็นข้อมูลใน dictionary ตามตัวอย่างการทำงาน "
   ]
  },
  {
   "cell_type": "markdown",
   "metadata": {
    "deletable": false,
    "editable": false,
    "nbgrader": {
     "cell_type": "markdown",
     "checksum": "058df05370f3b6125aa67755715d1352",
     "grade": false,
     "grade_id": "cell-7ae57c7b0fc2869d",
     "locked": true,
     "schema_version": 3,
     "solution": false,
     "task": false
    }
   },
   "source": [
    "### ตัวอย่างการทำงาน: \n",
    "get_dict(**'conversation1.txt'**) <br>\n",
    "{'Tom': 2, 'Hi': 1, 'I': 2, 'am': 2, 'Ana': 2}"
   ]
  },
  {
   "cell_type": "markdown",
   "metadata": {
    "deletable": false,
    "editable": false,
    "nbgrader": {
     "cell_type": "markdown",
     "checksum": "c2bdb28e0e5217454e33e4b0c723edf0",
     "grade": false,
     "grade_id": "cell-49124b4536819ee4",
     "locked": true,
     "schema_version": 3,
     "solution": false,
     "task": false
    }
   },
   "source": [
    "### ตัวอย่างการทำงาน: \n",
    "get_dict(**'conversation2.txt'**) <br>\n",
    "{'Mr': 3, 'Bean': 3, 'Good': 2, 'morning': 2, 'Mrs': 2, 'Jones': 2, 'How': 1, 'are': 1, 'you': 1, \"I'm\": 1, 'fine': 1, 'Thanks': 1}"
   ]
  },
  {
   "cell_type": "markdown",
   "metadata": {
    "deletable": false,
    "editable": false,
    "nbgrader": {
     "cell_type": "markdown",
     "checksum": "e8f606be38974057f8a781058390b6b3",
     "grade": false,
     "grade_id": "cell-2ea830a3179a93b7",
     "locked": true,
     "schema_version": 3,
     "solution": false,
     "task": false
    }
   },
   "source": [
    "### ตัวอย่างการทำงาน: \n",
    "get_dict(**'conversation3.txt'**) <br>\n",
    "{'Tom': 3, \"It's\": 2, 'an': 1, 'ugly': 1, 'day': 1, 'today': 2, 'Jerry': 2, 'I': 2, 'know': 1, 'think': 1, 'it': 2, 'may': 1, 'rain': 2, 'the': 1, 'middle': 1, 'of': 1, 'summer': 1, \"shouldn't\": 1, 'That': 1, 'would': 1, 'be': 1, 'weird': 1, 'Yeah': 1, 'especially': 1, 'since': 1, \"it's\": 1, 'ninety': 1, 'degrees': 1, 'outside': 1}"
   ]
  },
  {
   "cell_type": "code",
   "execution_count": 2,
   "metadata": {
    "deletable": false,
    "nbgrader": {
     "cell_type": "code",
     "checksum": "194d6fb0d40a408de595cc2ea25896d0",
     "grade": false,
     "grade_id": "name",
     "locked": false,
     "schema_version": 3,
     "solution": true
    }
   },
   "outputs": [],
   "source": [
    "def get_dict(file_name):\n",
    "    ''' สร้าง dictionary จากไฟล์ file_name'''\n",
    "    with open(file_name) as f :\n",
    "        lines = \" \".join([i.strip().replace(\":\", \"\").replace(\",\", \"\").replace(\".\", \"\").replace(\"?\", \"\") for i in f.readlines()])  \n",
    "        word_count = {}\n",
    "    \n",
    "    for word in lines.split():\n",
    "        if word not in word_count: #add ค่าเข้าถ้าไม่มีค่า\n",
    "            word_count[word] = 0\n",
    "        word_count[word] += 1   #count ค่านั้นลง value\n",
    "    return word_count"
   ]
  },
  {
   "cell_type": "code",
   "execution_count": 3,
   "metadata": {},
   "outputs": [
    {
     "name": "stdout",
     "output_type": "stream",
     "text": [
      "{'Tom': 1}\n",
      "{'Tom': 1, 'Hi': 1}\n",
      "{'Tom': 1, 'Hi': 1, 'I': 1}\n",
      "{'Tom': 1, 'Hi': 1, 'I': 1, 'am': 1}\n",
      "{'Tom': 2, 'Hi': 1, 'I': 1, 'am': 1}\n",
      "{'Tom': 2, 'Hi': 1, 'I': 1, 'am': 1, 'Ana': 1}\n",
      "{'Tom': 2, 'Hi': 1, 'I': 2, 'am': 1, 'Ana': 1}\n",
      "{'Tom': 2, 'Hi': 1, 'I': 2, 'am': 2, 'Ana': 1}\n",
      "{'Tom': 2, 'Hi': 1, 'I': 2, 'am': 2, 'Ana': 2}\n"
     ]
    },
    {
     "data": {
      "text/plain": [
       "{'Tom': 2, 'Hi': 1, 'I': 2, 'am': 2, 'Ana': 2}"
      ]
     },
     "execution_count": 3,
     "metadata": {},
     "output_type": "execute_result"
    }
   ],
   "source": [
    "'''ตรวจสอบผลลัพธ์ของโปรแกรมด้วยการรันที่ cell นี้'''\n",
    "'''ตัวอย่าง get_dict(\"ใส่ชื่อไฟล์.txt\")'''\n",
    "get_dict(\"conversation1.txt\")"
   ]
  },
  {
   "cell_type": "code",
   "execution_count": null,
   "metadata": {
    "deletable": false,
    "editable": false,
    "nbgrader": {
     "cell_type": "code",
     "checksum": "1736e8d6b1f9cf9d15a389f22216d7a2",
     "grade": true,
     "grade_id": "cell-6767d685a0f9e628",
     "locked": true,
     "points": 1,
     "schema_version": 3,
     "solution": false,
     "task": false
    }
   },
   "outputs": [],
   "source": [
    "'''ตรวจสอบการแสดงผลลัพธ์อย่างง่าย'''\n",
    "assert get_dict('conversation1.txt') == {'Tom': 2, 'Hi': 1, 'I': 2, 'am': 2, 'Ana': 2}"
   ]
  },
  {
   "cell_type": "code",
   "execution_count": null,
   "metadata": {
    "deletable": false,
    "editable": false,
    "nbgrader": {
     "cell_type": "code",
     "checksum": "989cacaa17e5212b58cc4424c81a87e2",
     "grade": true,
     "grade_id": "cell-b082fbfab4c14322",
     "locked": true,
     "points": 1,
     "schema_version": 3,
     "solution": false,
     "task": false
    }
   },
   "outputs": [],
   "source": [
    "'''ตรวจสอบผลการคำนวณและการแสดงผลลัพธ์ให้เหมือนกับโจทย์ที่กำหนดให้'''\n",
    "assert get_dict('conversation1.txt') == {'Tom': 2, 'Hi': 1, 'I': 2, 'am': 2, 'Ana': 2}\n",
    "assert get_dict('conversation2.txt') == {'Mr': 3, 'Bean': 3, 'Good': 2, 'morning': 2, 'Mrs': 2, 'Jones': 2, 'How': 1, 'are': 1, 'you': 1, \"I'm\": 1, 'fine': 1, 'Thanks': 1}\n",
    "print('OK')"
   ]
  },
  {
   "cell_type": "code",
   "execution_count": null,
   "metadata": {
    "deletable": false,
    "editable": false,
    "nbgrader": {
     "cell_type": "code",
     "checksum": "33109fb01793ad19a92ea989f8433f7e",
     "grade": true,
     "grade_id": "cell-4edb7a354d38a7f0",
     "locked": true,
     "points": 1,
     "schema_version": 3,
     "solution": false,
     "task": false
    }
   },
   "outputs": [],
   "source": [
    "'''เทสลับ'''"
   ]
  }
 ],
 "metadata": {
  "kernelspec": {
   "display_name": "Python 3 (ipykernel)",
   "language": "python",
   "name": "python3"
  },
  "language_info": {
   "codemirror_mode": {
    "name": "ipython",
    "version": 3
   },
   "file_extension": ".py",
   "mimetype": "text/x-python",
   "name": "python",
   "nbconvert_exporter": "python",
   "pygments_lexer": "ipython3",
   "version": "3.11.4"
  }
 },
 "nbformat": 4,
 "nbformat_minor": 1
}
