{
 "cells": [
  {
   "cell_type": "markdown",
   "metadata": {
    "deletable": false,
    "editable": false,
    "nbgrader": {
     "cell_type": "markdown",
     "checksum": "0e50e6667ddc131aea85b0455e64e190",
     "grade": false,
     "grade_id": "cell-dbf37dcea5d7dc5c",
     "locked": true,
     "schema_version": 3,
     "solution": false,
     "task": false
    }
   },
   "source": [
    "## Q3 (4 points)\n",
    "จงเขียนโปรแกรมที่อ่านไฟล์ studentScore.txt ที่มีรายชื่อนักเรียนและคะแนนสอบดังแสดงในตัวอย่างข้างล่างเก็บเป็น dictionary แล้วแสดงชื่อนักเรียนเรียงจากคะแนนสูงสุดไปต่ำสุด กำหนดให้ ไม่มีใครได้คะแนนเท่ากัน"
   ]
  },
  {
   "cell_type": "markdown",
   "metadata": {
    "deletable": false,
    "editable": false,
    "nbgrader": {
     "cell_type": "markdown",
     "checksum": "980b638d8757dd229231d51b2dab95f1",
     "grade": false,
     "grade_id": "cell-03f39e4ccd9fcca1",
     "locked": true,
     "schema_version": 3,
     "solution": false,
     "task": false
    }
   },
   "source": [
    "### ตัวอย่างไฟล์ studentScore1.txt: \n",
    "\n",
    "Piti 25 <br>\n",
    "Mana 32 <br>\n",
    "Ari 19 <br>\n",
    "Suda 28 <br>\n",
    "Somsak 26 <br>"
   ]
  },
  {
   "cell_type": "markdown",
   "metadata": {
    "deletable": false,
    "editable": false,
    "nbgrader": {
     "cell_type": "markdown",
     "checksum": "10c9137f261d24528e220eab2e0554e7",
     "grade": false,
     "grade_id": "cell-c5c873cd4b0d9800",
     "locked": true,
     "schema_version": 3,
     "solution": false,
     "task": false
    }
   },
   "source": [
    "### ตัวอย่างไฟล์ studentScore2.txt: \n",
    "\n",
    "Manee 22 <br>\n",
    "Piti 32 <br>\n",
    "Ton 35 <br>\n",
    "Tree 21 <br>\n",
    "Siri 23 <br>\n",
    "Mon 20 <br>"
   ]
  },
  {
   "cell_type": "markdown",
   "metadata": {
    "deletable": false,
    "editable": false,
    "nbgrader": {
     "cell_type": "markdown",
     "checksum": "50d59113feabc5480970f904acf10f7f",
     "grade": false,
     "grade_id": "cell-e02bd30c7ce943f0",
     "locked": true,
     "schema_version": 3,
     "solution": false,
     "task": false
    }
   },
   "source": [
    "### ตัวอย่างการทำงาน: \n",
    "Choose your studentScore: **studentScore1.txt** <br>\n",
    "Mana <br>\n",
    "Suda <br>\n",
    "Somsak <br>\n",
    "Piti <br>\n",
    "Ari <br>"
   ]
  },
  {
   "cell_type": "markdown",
   "metadata": {
    "deletable": false,
    "editable": false,
    "nbgrader": {
     "cell_type": "markdown",
     "checksum": "2828593ab7264f78beed375df7b56b59",
     "grade": false,
     "grade_id": "cell-807edfbdea063af2",
     "locked": true,
     "schema_version": 3,
     "solution": false,
     "task": false
    }
   },
   "source": [
    "### ตัวอย่างการทำงาน: \n",
    "Choose your studentScore: **studentScore2.txt** <br>\n",
    "Ton <br>\n",
    "Piti <br>\n",
    "Siri <br>\n",
    "Manee <br>\n",
    "Tree <br>"
   ]
  },
  {
   "cell_type": "code",
   "execution_count": 5,
   "metadata": {
    "deletable": false,
    "nbgrader": {
     "cell_type": "code",
     "checksum": "87d9b295539318aa9221aa375c6b053c",
     "grade": false,
     "grade_id": "name",
     "locked": false,
     "schema_version": 3,
     "solution": true
    }
   },
   "outputs": [],
   "source": [
    "def get_dict(file_name):\n",
    "    ''' สร้าง dictionary จากไฟล์ file_name'''\n",
    "    ScoreDict={}\n",
    "    with open(file_name) as f:\n",
    "        for i in f:\n",
    "            student,score = i.strip().split()\n",
    "            score = int(score)\n",
    "            ScoreDict[student]=score\n",
    "    return ScoreDict\n",
    "        \n",
    "    \n",
    "def run(): #HELPPPP\n",
    "    ''' รับชื่อไฟล์ที่มีรายชื่อนักเรียนและคะแนนสอบ แล้วแสดงชื่อนักเรียนเรียงจากคะแนนสูงสุดไปต่ำสุด กำหนดให้ ไม่มีใครได้คะแนนเท่ากัน'''\n",
    "    file_name = input('Choose your studentScore: ')\n",
    "    studentScore = get_dict(file_name)\n",
    "    \n",
    "    sortedscore = sorted(studentScore.items(), key=lambda item:item[1] , reverse=True) #เรียงคะแนนมาก-->น้อย \n",
    "    studentScore = dict(sortedscore) #เปลี่ยน tuple-->dict\n",
    "    for name in studentScore:\n",
    "        print (name)\n"
   ]
  },
  {
   "cell_type": "code",
   "execution_count": 6,
   "metadata": {
    "deletable": false,
    "editable": false,
    "nbgrader": {
     "cell_type": "code",
     "checksum": "b7b03893ed0aaf1a2af60ae612b4be37",
     "grade": false,
     "grade_id": "cell-befa13e6c82bd29b",
     "locked": true,
     "schema_version": 3,
     "solution": false,
     "task": false
    }
   },
   "outputs": [
    {
     "name": "stdout",
     "output_type": "stream",
     "text": [
      "Choose your studentScore: studentScore1.txt\n",
      "Mana\n",
      "Suda\n",
      "Somsak\n",
      "Piti\n",
      "Ari\n"
     ]
    }
   ],
   "source": [
    "'''ตรวจสอบผลลัพธ์ของโปรแกรมด้วยการรันที่ cell นี้'''\n",
    "run()"
   ]
  },
  {
   "cell_type": "code",
   "execution_count": null,
   "metadata": {
    "deletable": false,
    "editable": false,
    "nbgrader": {
     "cell_type": "code",
     "checksum": "3ae860f465e37f619f98574f2b1b96c0",
     "grade": false,
     "grade_id": "partial3",
     "locked": true,
     "schema_version": 3,
     "solution": false,
     "task": false
    }
   },
   "outputs": [],
   "source": [
    "'''ตรวจสอบผลการคำนวณ'''\n",
    "from unittest.mock import patch\n",
    "from io import StringIO\n",
    "\n",
    "def test(inputs,expected_output): \n",
    "    with patch('builtins.input', side_effect=inputs), patch('sys.stdout', new_callable=StringIO) as mock_stdout:\n",
    "        run()\n",
    "        assert mock_stdout.getvalue() == expected_output,mock_stdout.getvalue()     \n",
    "def test_easy_print(inputs,expected_output):\n",
    "    with patch('builtins.input', side_effect=inputs), patch('sys.stdout', new_callable=StringIO) as mock_stdout:\n",
    "        run()\n",
    "        assert expected_output in mock_stdout.getvalue(), mock_stdout.getvalue()"
   ]
  },
  {
   "cell_type": "code",
   "execution_count": null,
   "metadata": {
    "deletable": false,
    "editable": false,
    "nbgrader": {
     "cell_type": "code",
     "checksum": "c50902502a00dd0824a809f5f15c0422",
     "grade": true,
     "grade_id": "cell-baa6351bd29ebb54",
     "locked": true,
     "points": 1,
     "schema_version": 3,
     "solution": false,
     "task": false
    }
   },
   "outputs": [],
   "source": [
    "'''ตรวจสอบการแสดงผลลัพธ์อย่างง่าย'''\n",
    "test_easy_print(inputs=['studentScore1.txt'],expected_output='M')\n",
    "print('OK')"
   ]
  },
  {
   "cell_type": "code",
   "execution_count": null,
   "metadata": {
    "deletable": false,
    "editable": false,
    "nbgrader": {
     "cell_type": "code",
     "checksum": "60b78f0c465a425670ee07a06f9c4088",
     "grade": true,
     "grade_id": "cell-159cd7c85a0c7a54",
     "locked": true,
     "points": 1,
     "schema_version": 3,
     "solution": false,
     "task": false
    }
   },
   "outputs": [],
   "source": [
    "'''ตรวจสอบผลการคำนวณและการแสดงผลลัพธ์ให้เหมือนกับโจทย์ที่กำหนดให้'''\n",
    "assert get_dict('studentScore1.txt') == {'Piti': 25, 'Mana': 32, 'Ari': 19, 'Suda': 28, 'Somsak': 26}\n",
    "assert get_dict('studentScore2.txt') == {'Manee': 22, 'Piti': 32, 'Ton': 35, 'Tree': 21, 'Siri': 23, 'Mon': 20}\n",
    "print('OK')"
   ]
  },
  {
   "cell_type": "code",
   "execution_count": null,
   "metadata": {
    "deletable": false,
    "editable": false,
    "nbgrader": {
     "cell_type": "code",
     "checksum": "147b418c479d4203d26b0721ce3bef5b",
     "grade": true,
     "grade_id": "exact",
     "locked": false,
     "points": 1,
     "schema_version": 3,
     "solution": false
    }
   },
   "outputs": [],
   "source": [
    "'''ตรวจสอบผลการคำนวณและการแสดงผลลัพธ์ให้เหมือนกับโจทย์ที่กำหนดให้'''\n",
    "test(['studentScore1.txt'],'Mana\\nSuda\\nSomsak\\nPiti\\nAri\\n') \n",
    "test(['studentScore2.txt'],'Ton\\nPiti\\nSiri\\nManee\\nTree\\nMon\\n') \n",
    "print('OK')"
   ]
  },
  {
   "cell_type": "code",
   "execution_count": null,
   "metadata": {
    "deletable": false,
    "editable": false,
    "nbgrader": {
     "cell_type": "code",
     "checksum": "abc465180e3aef7d16585e65372bfe99",
     "grade": true,
     "grade_id": "cell-9241545eb2b30f20",
     "locked": true,
     "points": 1,
     "schema_version": 3,
     "solution": false,
     "task": false
    }
   },
   "outputs": [],
   "source": [
    "'เทสลับ'"
   ]
  }
 ],
 "metadata": {
  "kernelspec": {
   "display_name": "Python 3 (ipykernel)",
   "language": "python",
   "name": "python3"
  },
  "language_info": {
   "codemirror_mode": {
    "name": "ipython",
    "version": 3
   },
   "file_extension": ".py",
   "mimetype": "text/x-python",
   "name": "python",
   "nbconvert_exporter": "python",
   "pygments_lexer": "ipython3",
   "version": "3.11.4"
  }
 },
 "nbformat": 4,
 "nbformat_minor": 1
}
