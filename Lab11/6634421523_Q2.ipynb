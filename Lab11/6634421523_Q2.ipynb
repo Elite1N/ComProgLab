{
 "cells": [
  {
   "cell_type": "markdown",
   "metadata": {
    "deletable": false,
    "editable": false,
    "id": "CsvhfDASHETV",
    "nbgrader": {
     "cell_type": "markdown",
     "checksum": "a120d59ce572348551dcdf816a55b1ed",
     "grade": false,
     "grade_id": "cell-dbf37dcea5d7dc5c",
     "locked": true,
     "schema_version": 3,
     "solution": false,
     "task": false
    }
   },
   "source": [
    "---\n",
    "## Q2 (6 points)\n",
    "จงเขียนโปรแกรมที่รับรหัสนิสิต และ ภาคการศึกษา (1/2/3) แล้วแสดงค่าธรรมเนียมการศึกษาของนิสิตในภาค <br>\n",
    "นั้นตามตารางข้างล่างนี้ซึ่ง เก็บเป็น **dictionary** <br>\n",
    "\n",
    "![Lab11_2.png](attachment:Lab11_2.png)\n",
    "\n",
    "เลขหลักที่ 3 (จากหน้า) ของรหัสนิสิตระดับปริญญาบัณฑิต คือ 3, 4 และรหัสนิสิตระดับบัณฑิตศึกษา เป็น 7 <br>\n",
    "เลข 2 หลักสุดท้ายของรหัสนิสิตเป็นรหัสคณะ <br>\n",
    "รหัสคณะในกลุ่ม 1 คือ 21 23 25 28 30 31 32 33 35 36 37 38 39 53  <br>\n",
    "รหัสคณะในกลุ่ม 2 คือ 22 24 26 27 29 34 40 51  <br>\n",
    "และแสดงผลลัพธ์ดังตัวอย่างข้างล่างนี้ <br>\n",
    "\n",
    "จงเขียนฟังก์ชัน `get_dict()` ที่สร้าง dictionary จากตารางค่าเทอม ซึ่งมี <br>\n",
    "\n",
    "- key เป็นสตริงของรหัสคณะในกลุ่ม 1 และ 2 มีค่าเป็น `group1` หรือ `group2`\n",
    "- value เป็น dictionary ที่มี \n",
    "    - key เป็นสตริงของระดับการศึกษา มีค่าเป็น `Bachelor` หรือ `Graduate`\n",
    "    - value เป็น dictionary ที่มี\n",
    "        - key เป็นสตริงของภาคการศึกษา ภาค1/2 มีค่าเป็น `S1_2` หรือ ภาค 3 มีค่าเป็น `S3`\n",
    "        - value เป็น dictionary ที่มี\n",
    "            - key เป็นสตริงของรหัสนิสิต มีค่าเป็น `ID_1` , `ID_2` หรือ `ID_3` สำหรับรหัสนิสิตที่ขึ้นต้นด้วยปี 48-49 , 50-55 และ 56 เป็นต้นไป ตามลำดับ\n",
    "            - value เป็นค่าเทอม\n",
    "\n",
    "และแสดงผลลัพธ์เป็นข้อมูลใน dictionary ตามตัวอย่างการทำงาน\n"
   ]
  },
  {
   "cell_type": "markdown",
   "metadata": {
    "deletable": false,
    "editable": false,
    "id": "TXUopjiEHETf",
    "nbgrader": {
     "cell_type": "markdown",
     "checksum": "d7dd788b1627d4b5ed5b14c2eca3408f",
     "grade": false,
     "grade_id": "cell-7ae57c7b0fc2869d",
     "locked": true,
     "schema_version": 3,
     "solution": false,
     "task": false
    }
   },
   "source": [
    "### ตัวอย่างการทำงาน: \n",
    "\n",
    "Enter student ID : **6033235423**<br>\n",
    "Enter semester : **1**<br>\n",
    "Registration fee : 21000"
   ]
  },
  {
   "cell_type": "markdown",
   "metadata": {
    "deletable": false,
    "editable": false,
    "id": "JEjPMHs-HETg",
    "nbgrader": {
     "cell_type": "markdown",
     "checksum": "b2115e3f20859ab3ab19fc6d2d218390",
     "grade": false,
     "grade_id": "cell-1b10c564484fa711",
     "locked": true,
     "schema_version": 3,
     "solution": false,
     "task": false
    }
   },
   "source": [
    "### ตัวอย่างการทำงาน: \n",
    "Enter student ID : **6070013223**<br>\n",
    "Enter semester : **2**<br>\n",
    "Registration fee : 31000"
   ]
  },
  {
   "cell_type": "markdown",
   "metadata": {
    "deletable": false,
    "editable": false,
    "id": "Vp8lIOVtHETh",
    "nbgrader": {
     "cell_type": "markdown",
     "checksum": "1bcf8ba026c09b835ab4984bf39ff830",
     "grade": false,
     "grade_id": "cell-fc86ada0a7d9d7ee",
     "locked": true,
     "schema_version": 3,
     "solution": false,
     "task": false
    }
   },
   "source": [
    "### ตัวอย่างการทำงาน: \n",
    "\n",
    "Enter student ID : **5473200022**<br>\n",
    "Enter semester : **3**<br>\n",
    "Registration fee : 7000"
   ]
  },
  {
   "cell_type": "markdown",
   "metadata": {
    "deletable": false,
    "editable": false,
    "id": "VR8pt1pUHETi",
    "nbgrader": {
     "cell_type": "markdown",
     "checksum": "2547d82fa13a8d0fa6ada23b3d5fc9fa",
     "grade": false,
     "grade_id": "cell-7756331ade47aa76",
     "locked": true,
     "schema_version": 3,
     "solution": false,
     "task": false
    }
   },
   "source": [
    "### ตัวอย่างการทำงาน: \n",
    "\n",
    "Enter student ID : **5473200022**<br>\n",
    "Enter semester : **0**<br>\n",
    "Invalid semester"
   ]
  },
  {
   "cell_type": "markdown",
   "metadata": {
    "deletable": false,
    "editable": false,
    "id": "qHt7Pd7nHETk",
    "nbgrader": {
     "cell_type": "markdown",
     "checksum": "f823bd215be9690c2163dda82a84b86a",
     "grade": false,
     "grade_id": "cell-c4bec50505bf5651",
     "locked": true,
     "schema_version": 3,
     "solution": false,
     "task": false
    }
   },
   "source": [
    "### ตัวอย่างการทำงาน: \n",
    "\n",
    "Enter student ID : **60499**<br>\n",
    "Invalid ID"
   ]
  },
  {
   "cell_type": "markdown",
   "metadata": {
    "deletable": false,
    "editable": false,
    "id": "hHzaGKvqHETl",
    "nbgrader": {
     "cell_type": "markdown",
     "checksum": "a21b0ad91bf7a91fae4ed7cb5aa81326",
     "grade": false,
     "grade_id": "cell-1da5027704110967",
     "locked": true,
     "schema_version": 3,
     "solution": false,
     "task": false
    }
   },
   "source": [
    "### ตัวอย่างการทำงาน: \n",
    "\n",
    "Enter student ID : **9913235499**<br> \n",
    "Invalid ID"
   ]
  },
  {
   "cell_type": "code",
   "execution_count": 19,
   "metadata": {
    "deletable": false,
    "id": "kfd9NkfaHETm",
    "nbgrader": {
     "cell_type": "code",
     "checksum": "fef9bbaa758c69d5595afbc72649283e",
     "grade": false,
     "grade_id": "name",
     "locked": false,
     "schema_version": 3,
     "solution": true
    }
   },
   "outputs": [],
   "source": [
    "def get_dict():\n",
    "    '''สร้าง dictionary ของค่าเทอม แล้วคืนค่า dictionary'''\n",
    "    return {\n",
    "        \"group1\": {\n",
    "            'Bachelor': {\n",
    "                'S1_2': {\n",
    "                    'ID_1': 16000, \n",
    "                    'ID_2': 18000, \n",
    "                    'ID_3': 21000\n",
    "                }, \n",
    "                'S3': {\n",
    "                    'ID_1': 4000, \n",
    "                    'ID_2': 4500,\n",
    "                    'ID_3': 5250\n",
    "                }\n",
    "            }, 'Graduate': {\n",
    "                'S1_2': {\n",
    "                    'ID_1': 22500, \n",
    "                    'ID_2': 26000, \n",
    "                    'ID_3': 31000\n",
    "                }, \n",
    "                'S3': {\n",
    "                    'ID_1': 6000, \n",
    "                    'ID_2': 7000,\n",
    "                    'ID_3': 7750\n",
    "                }\n",
    "            }\n",
    "        },\n",
    "        \"group2\": {\n",
    "            'Bachelor': {\n",
    "                'S1_2': {\n",
    "                    'ID_1': 12000, \n",
    "                    'ID_2': 14500, \n",
    "                    'ID_3': 17000\n",
    "                }, \n",
    "                'S3': {\n",
    "                    'ID_1': 4000, \n",
    "                    'ID_2': 4500,\n",
    "                    'ID_3': 5250\n",
    "                }\n",
    "            }, 'Graduate': {\n",
    "                'S1_2': {\n",
    "                    'ID_1': 16500, \n",
    "                    'ID_2': 19000, \n",
    "                    'ID_3': 23000\n",
    "                }, \n",
    "                'S3': {\n",
    "                    'ID_1': 6000, \n",
    "                    'ID_2': 7000,\n",
    "                    'ID_3': 7750\n",
    "                }\n",
    "            }\n",
    "        }\n",
    "    }\n",
    "def run():\n",
    "    '''รับเลขประจำตัวนิสิต ตรวจสอบ และแสดงค่าเทอม'''\n",
    "    ID = input('Enter student ID: ')\n",
    "    if len(ID)!=10 :\n",
    "        return print ('Invalid ID')\n",
    "    elif int(ID[:2]) not in range(48,67):\n",
    "        return print ('Invalid ID')\n",
    "    elif ID[2] not in \"347\":\n",
    "        return print(\"Invalid ID\")\n",
    "    elif ID[8] != \"2\" or ID[9] not in \"12345678\":\n",
    "        return print(\"Invalid ID\")\n",
    "    \n",
    "    semester = input('Enter semester: ')\n",
    "    if semester not in '123':\n",
    "        return print('Invalid semester')\n",
    "    \n",
    "    semester = 'S3' if semester == '3' else 'S1_2' \n",
    "    tier = 'Bachelor' if ID[2] in '34' else 'Graduate'\n",
    "    group = 'group1' if  ID[8:10] in '21 23 25 28 30 31 32 33 35 36 37 38 39 53'.split() else 'group2'\n",
    "    year = int(ID[:2])\n",
    "    if year <= 49:\n",
    "        yearclass = 'ID_1'\n",
    "    elif year <= 55:\n",
    "        yearclass = 'ID_2'\n",
    "    else:\n",
    "        yearclass = 'ID_3'\n",
    "        \n",
    "    #print (group,tier,semester,yearclass)\n",
    "    fee = get_dict()[group][tier][semester][yearclass]    \n",
    "    print (f'Registration fee : {fee}')"
   ]
  },
  {
   "cell_type": "code",
   "execution_count": 20,
   "metadata": {
    "id": "wUGJOcd1JCvj"
   },
   "outputs": [
    {
     "data": {
      "text/plain": [
       "{'group1': {'Bachelor': {'S1_2': {'ID_1': 16000, 'ID_2': 18000, 'ID_3': 21000},\n",
       "   'S3': {'ID_1': 4000, 'ID_2': 4500, 'ID_3': 5250}},\n",
       "  'Graduate': {'S1_2': {'ID_1': 22500, 'ID_2': 26000, 'ID_3': 31000},\n",
       "   'S3': {'ID_1': 6000, 'ID_2': 7000, 'ID_3': 7750}}},\n",
       " 'group2': {'Bachelor': {'S1_2': {'ID_1': 12000, 'ID_2': 14500, 'ID_3': 17000},\n",
       "   'S3': {'ID_1': 4000, 'ID_2': 4500, 'ID_3': 5250}},\n",
       "  'Graduate': {'S1_2': {'ID_1': 16500, 'ID_2': 19000, 'ID_3': 23000},\n",
       "   'S3': {'ID_1': 6000, 'ID_2': 7000, 'ID_3': 7750}}}}"
      ]
     },
     "execution_count": 20,
     "metadata": {},
     "output_type": "execute_result"
    }
   ],
   "source": [
    "'''ทดสอบ การสร้าง dict'''\n",
    "get_dict()"
   ]
  },
  {
   "cell_type": "code",
   "execution_count": null,
   "metadata": {
    "deletable": false,
    "editable": false,
    "id": "P0MX_TQDHETw",
    "nbgrader": {
     "cell_type": "code",
     "checksum": "7c7dc40f00b88ab69d5c7fe080aa7c05",
     "grade": true,
     "grade_id": "exact",
     "locked": false,
     "points": 1,
     "schema_version": 3,
     "solution": false
    }
   },
   "outputs": [],
   "source": [
    "'''ตรวจสอบผลการคำนวณและการแสดงผลลัพธ์ให้เหมือนกับโจทย์ที่กำหนดให้'''\n",
    "assert get_dict()['group1'] == {'Bachelor': {'S1_2': {'ID_1': 16000, 'ID_2': 18000, 'ID_3': 21000}, 'S3': {'ID_1': 4000, 'ID_2': 4500, 'ID_3': 5250}}, 'Graduate': {'S1_2': {'ID_1': 22500, 'ID_2': 26000, 'ID_3': 31000}, 'S3': {'ID_1': 6000, 'ID_2': 7000, 'ID_3': 7750}}}\n",
    "assert get_dict()['group1']['Bachelor'] == {'S1_2': {'ID_1': 16000, 'ID_2': 18000, 'ID_3': 21000}, 'S3': {'ID_1': 4000, 'ID_2': 4500, 'ID_3': 5250}}\n",
    "assert get_dict()['group1']['Bachelor']['S3'] == {'ID_1': 4000, 'ID_2': 4500, 'ID_3': 5250}\n",
    "print('OK')"
   ]
  },
  {
   "cell_type": "code",
   "execution_count": 21,
   "metadata": {
    "deletable": false,
    "editable": false,
    "id": "Hw9OHforHETs",
    "nbgrader": {
     "cell_type": "code",
     "checksum": "b7b03893ed0aaf1a2af60ae612b4be37",
     "grade": false,
     "grade_id": "cell-befa13e6c82bd29b",
     "locked": true,
     "schema_version": 3,
     "solution": false,
     "task": false
    },
    "outputId": "73ba543f-83e7-4f40-ec48-5f601bd59845"
   },
   "outputs": [
    {
     "name": "stdout",
     "output_type": "stream",
     "text": [
      "Enter student ID: 5273235421\n",
      "Enter semester: 2\n",
      "Registration fee: 18000\n"
     ]
    }
   ],
   "source": [
    "'''ตรวจสอบผลลัพธ์ของโปรแกรมด้วยการรันที่ cell นี้'''\n",
    "run()"
   ]
  },
  {
   "cell_type": "code",
   "execution_count": null,
   "metadata": {
    "deletable": false,
    "editable": false,
    "id": "MFEkjSAuHETv",
    "nbgrader": {
     "cell_type": "code",
     "checksum": "9f50d618baeaffd6145434ff5b2e3422",
     "grade": false,
     "grade_id": "partial2",
     "locked": true,
     "schema_version": 3,
     "solution": false,
     "task": false
    }
   },
   "outputs": [],
   "source": [
    "'''ตรวจสอบผลการคำนวณ'''\n",
    "from unittest.mock import patch\n",
    "from io import StringIO\n",
    "\n",
    "def test(inputs,expected_output): \n",
    "    with patch('builtins.input', side_effect=inputs), patch('sys.stdout', new_callable=StringIO) as mock_stdout:\n",
    "        run()\n",
    "        assert mock_stdout.getvalue() == expected_output,mock_stdout.getvalue()\n",
    "def test_easy_print(inputs,expected_output):\n",
    "    with patch('builtins.input', side_effect=inputs), patch('sys.stdout', new_callable=StringIO) as mock_stdout:\n",
    "        run()\n",
    "        assert expected_output in mock_stdout.getvalue(), mock_stdout.getvalue()"
   ]
  },
  {
   "cell_type": "code",
   "execution_count": null,
   "metadata": {
    "deletable": false,
    "editable": false,
    "nbgrader": {
     "cell_type": "code",
     "checksum": "8a956dd000cd20abae13cdaac72f8970",
     "grade": true,
     "grade_id": "cell-be181c3483ec7e11",
     "locked": true,
     "points": 1,
     "schema_version": 3,
     "solution": false,
     "task": false
    }
   },
   "outputs": [],
   "source": [
    "'''ตรวจสอบการแสดงผลลัพธ์อย่างง่าย'''\n",
    "test_easy_print(inputs=['5273235421','2'],expected_output='R')\n",
    "print('OK')"
   ]
  },
  {
   "cell_type": "code",
   "execution_count": null,
   "metadata": {
    "deletable": false,
    "editable": false,
    "id": "GinM10IbHETz",
    "nbgrader": {
     "cell_type": "code",
     "checksum": "32999f4fae82a638ed85c629c99526cb",
     "grade": true,
     "grade_id": "cell-25025451c4cc0722",
     "locked": true,
     "points": 1,
     "schema_version": 3,
     "solution": false,
     "task": false
    }
   },
   "outputs": [],
   "source": [
    "'''ตรวจสอบผลการคำนวณและการแสดงผลลัพธ์ให้เหมือนกับโจทย์ที่กำหนดให้'''\n",
    "'''ทั่วไป'''\n",
    "test(['5273235421','2'],'Registration fee : 26000\\n')\n",
    "test(['5273235423','3'],'Registration fee : 7000\\n')  \n",
    "test(['6070013223','1'],'Registration fee : 31000\\n') \n",
    "test(['6070013228','3'],'Registration fee : 7750\\n') \n",
    "print('OK')"
   ]
  },
  {
   "cell_type": "code",
   "execution_count": null,
   "metadata": {
    "deletable": false,
    "editable": false,
    "id": "mGP2mAejHET0",
    "nbgrader": {
     "cell_type": "code",
     "checksum": "0dc07fccfae08d1a730c37bffbe886cf",
     "grade": true,
     "grade_id": "cell-a7595ca4f976893e",
     "locked": true,
     "points": 1,
     "schema_version": 3,
     "solution": false,
     "task": false
    }
   },
   "outputs": [],
   "source": [
    "'''ตรวจสอบผลการคำนวณและการแสดงผลลัพธ์ให้เหมือนกับโจทย์ที่กำหนดให้'''\n",
    "'''Invalid cases'''\n",
    "test(['5443200022','0'],'Invalid semester\\n')  #\n",
    "test(['5443200022','4'],'Invalid semester\\n')  #\n",
    "test(['6433235460'],'Invalid ID\\n')\n",
    "test(['6453235430'],'Invalid ID\\n') \n",
    "test(['4773235430'],'Invalid ID\\n')\n",
    "test(['60499'],'Invalid ID\\n') #\n",
    "print('OK')"
   ]
  },
  {
   "cell_type": "code",
   "execution_count": null,
   "metadata": {
    "deletable": false,
    "editable": false,
    "id": "NcwbMEYrHETx",
    "nbgrader": {
     "cell_type": "code",
     "checksum": "52eda366bff08daa5a39c7dd591b2acc",
     "grade": true,
     "grade_id": "cell-3478c02530c40be9",
     "locked": true,
     "points": 1,
     "schema_version": 3,
     "solution": false,
     "task": false
    }
   },
   "outputs": [],
   "source": [
    "'''เทสลับ1'''"
   ]
  },
  {
   "cell_type": "code",
   "execution_count": null,
   "metadata": {
    "deletable": false,
    "editable": false,
    "nbgrader": {
     "cell_type": "code",
     "checksum": "23e8d54359096b4d45e702c5aa5df4e6",
     "grade": true,
     "grade_id": "cell-8749df472d842678",
     "locked": true,
     "points": 1,
     "schema_version": 3,
     "solution": false,
     "task": false
    }
   },
   "outputs": [],
   "source": [
    "'''เทสลับ2'''"
   ]
  }
 ],
 "metadata": {
  "colab": {
   "collapsed_sections": [],
   "provenance": []
  },
  "kernelspec": {
   "display_name": "Python 3 (ipykernel)",
   "language": "python",
   "name": "python3"
  },
  "language_info": {
   "codemirror_mode": {
    "name": "ipython",
    "version": 3
   },
   "file_extension": ".py",
   "mimetype": "text/x-python",
   "name": "python",
   "nbconvert_exporter": "python",
   "pygments_lexer": "ipython3",
   "version": "3.11.4"
  }
 },
 "nbformat": 4,
 "nbformat_minor": 1
}
