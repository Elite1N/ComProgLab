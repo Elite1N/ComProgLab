{
 "cells": [
  {
   "cell_type": "markdown",
   "id": "f126ece9",
   "metadata": {
    "deletable": false,
    "editable": false,
    "nbgrader": {
     "cell_type": "markdown",
     "checksum": "77496552f33092db8313225e74def6c6",
     "grade": false,
     "grade_id": "cell-7f90c4fad483cde5",
     "locked": true,
     "schema_version": 3,
     "solution": false,
     "task": false
    }
   },
   "source": [
    "## Q1 (5 points)\n",
    "สร้างคลาส Rectangle ที่สามารถคำนวณพื้นที่และเส้นรอบรูปได้ เพื่อให้โปรแกรมผ่านการทดสอบด้านล่าง"
   ]
  },
  {
   "attachments": {
    "image.png": {
     "image/png": "[encoded data removed]"
    }
   },
   "cell_type": "markdown",
   "id": "8085d67c",
   "metadata": {
    "deletable": false,
    "editable": false,
    "nbgrader": {
     "cell_type": "markdown",
     "checksum": "d90f99511c901c0a59094970c9486067",
     "grade": false,
     "grade_id": "cell-4b20ba66d859e988",
     "locked": true,
     "schema_version": 3,
     "solution": false,
     "task": false
    }
   },
   "source": [
    "![image.png](attachment:image.png)"
   ]
  },
  {
   "cell_type": "code",
   "execution_count": 1,
   "id": "52c2ba41",
   "metadata": {
    "deletable": false,
    "nbgrader": {
     "cell_type": "code",
     "checksum": "97af6071d4390256f4bdc2601da6c876",
     "grade": false,
     "grade_id": "cell-ee554d171ce96e64",
     "locked": false,
     "schema_version": 3,
     "solution": true,
     "task": false
    }
   },
   "outputs": [],
   "source": [
    "class Rectangle:\n",
    "  def __init__(self, length, width):\n",
    "    self.length = length \n",
    "    self.width = width\n",
    "\n",
    "  def calculate_area(self):\n",
    "    return (self.length*self.width)\n",
    "    \n",
    "  def calculate_perimeter(self):\n",
    "    return 2*(self.length+self.width)"
   ]
  },
  {
   "cell_type": "code",
   "execution_count": null,
   "id": "eaa3af10",
   "metadata": {
    "deletable": false,
    "editable": false,
    "nbgrader": {
     "cell_type": "code",
     "checksum": "165c2914d125b2f0f52c915e54666ab4",
     "grade": true,
     "grade_id": "cell-223527a575bd8a66",
     "locked": true,
     "points": 1,
     "schema_version": 3,
     "solution": false,
     "task": false
    }
   },
   "outputs": [],
   "source": [
    "'''ตรวจสอบผลลัพธ์'''\n",
    "assert Rectangle(2,3).length == 2\n",
    "assert Rectangle(2,3).width == 3"
   ]
  },
  {
   "cell_type": "code",
   "execution_count": null,
   "id": "1a484086",
   "metadata": {
    "deletable": false,
    "editable": false,
    "nbgrader": {
     "cell_type": "code",
     "checksum": "6ed18861505e925ef3d3387da5760be8",
     "grade": true,
     "grade_id": "cell-3f0c10440ebdca9d",
     "locked": true,
     "points": 2,
     "schema_version": 3,
     "solution": false,
     "task": false
    }
   },
   "outputs": [],
   "source": [
    "'''ตรวจสอบผลลัพธ์'''\n",
    "assert Rectangle(2,3).calculate_area() == 6\n",
    "assert Rectangle(3,4).calculate_area() == 12"
   ]
  },
  {
   "cell_type": "code",
   "execution_count": null,
   "id": "12990c53",
   "metadata": {
    "deletable": false,
    "editable": false,
    "nbgrader": {
     "cell_type": "code",
     "checksum": "3aea8bfc7567f584bb8561150b8a84b0",
     "grade": true,
     "grade_id": "cell-843961dd599aff21",
     "locked": true,
     "points": 2,
     "schema_version": 3,
     "solution": false,
     "task": false
    }
   },
   "outputs": [],
   "source": [
    "'''ตรวจสอบผลลัพธ์'''\n",
    "assert Rectangle(2,3).calculate_perimeter() == 10\n",
    "assert Rectangle(3,4).calculate_perimeter() == 14"
   ]
  }
 ],
 "metadata": {
  "kernelspec": {
   "display_name": "Python 3 (ipykernel)",
   "language": "python",
   "name": "python3"
  },
  "language_info": {
   "codemirror_mode": {
    "name": "ipython",
    "version": 3
   },
   "file_extension": ".py",
   "mimetype": "text/x-python",
   "name": "python",
   "nbconvert_exporter": "python",
   "pygments_lexer": "ipython3",
   "version": "3.11.4"
  }
 },
 "nbformat": 4,
 "nbformat_minor": 5
}
