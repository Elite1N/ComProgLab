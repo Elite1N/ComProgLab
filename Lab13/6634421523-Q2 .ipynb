{
 "cells": [
  {
   "cell_type": "markdown",
   "id": "599c30dc",
   "metadata": {
    "deletable": false,
    "editable": false,
    "nbgrader": {
     "cell_type": "markdown",
     "checksum": "5fe2d4e7da88d10b816753ac1f99257c",
     "grade": false,
     "grade_id": "cell-b65b887f9299529a",
     "locked": true,
     "schema_version": 3,
     "solution": false,
     "task": false
    }
   },
   "source": [
    "## Q2 (10 points)\n",
    "สร้างฟังก์ชันต่อไปนี้ของคลาส ShoppingCart ในส่วนที่กำหนดให้สมบูรณ์ เพื่อให้โปรแกรมด้านล่างทำงานได้ถูกต้องตาม test cases ต่าง ๆ\n",
    "- add_item(self, item_name, qty) ฟังก์ชันสำหรับการเพิ่มรายการสินค้า (item) ลงในตะกร้า (cart) ด้วยจำนวนที่กำหนด (qty)\n",
    "- remove_item(self, item_name, qty) ฟังก์ชันสำหรับการลดรายการสินค้า (item) ในตะกร้า (cart) ด้วยจำนวนที่กำหนด (qty) ถ้าสินค้าใดมีจำนวนเป็น 0 หรือติดลบ ให้เอาสินค้านั้นออกจากตะกร้าเลย\n",
    "- get_total_qty(self) ฟังก์ชันสำหรับการคำนวณจำนวนรายการสินค้าทั้งหมด"
   ]
  },
  {
   "attachments": {
    "image-2.png": {
     "image/png": "[encoded data removed]"
    }
   },
   "cell_type": "markdown",
   "id": "3caad367",
   "metadata": {
    "deletable": false,
    "editable": false,
    "nbgrader": {
     "cell_type": "markdown",
     "checksum": "24100bde22da30ea0d03424ef58d10bb",
     "grade": false,
     "grade_id": "cell-17a401d04ee91e89",
     "locked": true,
     "schema_version": 3,
     "solution": false,
     "task": false
    }
   },
   "source": [
    "![image-2.png](attachment:image-2.png)"
   ]
  },
  {
   "cell_type": "code",
   "execution_count": 2,
   "id": "5f4698dc",
   "metadata": {
    "deletable": false,
    "nbgrader": {
     "cell_type": "code",
     "checksum": "08a4d9e02f9fc582a7ba42a9ee6a7338",
     "grade": false,
     "grade_id": "cell-0020162dc339ee30",
     "locked": false,
     "schema_version": 3,
     "solution": true,
     "task": false
    }
   },
   "outputs": [],
   "source": [
    "class ShoppingCart:\n",
    "    def __init__(self):\n",
    "        self.cart = {}\n",
    "\n",
    "    def add_item(self, item, qty):\n",
    "        if item not in self.cart:\n",
    "            self.cart[item] = 0\n",
    "        self.cart[item] += qty\n",
    "\n",
    "\n",
    "    def remove_item(self, item, qty):\n",
    "        if item in self.cart:\n",
    "            self.cart[item] -= qty\n",
    "        if self.cart[item] <=0:\n",
    "            del self.cart[item]\n",
    "\n",
    "    def get_total_qty(self):\n",
    "        return sum(self.cart.values())"
   ]
  },
  {
   "cell_type": "code",
   "execution_count": null,
   "id": "842aaffc",
   "metadata": {
    "deletable": false,
    "editable": false,
    "nbgrader": {
     "cell_type": "code",
     "checksum": "202d5d0999e70a5a072cd3ef11525ac7",
     "grade": true,
     "grade_id": "cell-bc49bec968ae4254",
     "locked": true,
     "points": 5,
     "schema_version": 3,
     "solution": false,
     "task": false
    }
   },
   "outputs": [],
   "source": [
    "'''ตรวจสอบผลลัพธ์'''\n",
    "mycart = ShoppingCart()\n",
    "\n",
    "mycart.add_item(\"Papaya\", 100)\n",
    "mycart.add_item(\"Guava\", 200)\n",
    "mycart.add_item(\"Orange\", 150)\n",
    "\n",
    "assert len(mycart.cart) == 3\n",
    "assert mycart.cart['Papaya'] == 100\n",
    "assert mycart.cart['Guava'] == 200\n",
    "assert mycart.cart['Orange'] == 150\n",
    "\n",
    "assert mycart.get_total_qty() == 450"
   ]
  },
  {
   "cell_type": "code",
   "execution_count": null,
   "id": "a77e5f64",
   "metadata": {
    "deletable": false,
    "editable": false,
    "nbgrader": {
     "cell_type": "code",
     "checksum": "b86d513ed7056ddac290b45dd99cef01",
     "grade": true,
     "grade_id": "cell-555901611fcc86ce",
     "locked": true,
     "points": 5,
     "schema_version": 3,
     "solution": false,
     "task": false
    }
   },
   "outputs": [],
   "source": [
    "'''ตรวจสอบผลลัพธ์'''\n",
    "mycart = ShoppingCart()\n",
    "\n",
    "mycart.add_item(\"Papaya\", 100)\n",
    "mycart.add_item(\"Guava\", 200)\n",
    "mycart.add_item(\"Orange\", 150)\n",
    "\n",
    "mycart.remove_item(\"Orange\",20)\n",
    "mycart.remove_item(\"Papaya\",200)\n",
    "\n",
    "assert len(mycart.cart) == 2\n",
    "assert mycart.cart['Guava'] == 200\n",
    "assert mycart.cart['Orange'] == 130\n",
    "\n",
    "assert mycart.get_total_qty() == 330"
   ]
  }
 ],
 "metadata": {
  "kernelspec": {
   "display_name": "Python 3 (ipykernel)",
   "language": "python",
   "name": "python3"
  },
  "language_info": {
   "codemirror_mode": {
    "name": "ipython",
    "version": 3
   },
   "file_extension": ".py",
   "mimetype": "text/x-python",
   "name": "python",
   "nbconvert_exporter": "python",
   "pygments_lexer": "ipython3",
   "version": "3.11.4"
  }
 },
 "nbformat": 4,
 "nbformat_minor": 5
}
