{
 "cells": [
  {
   "cell_type": "markdown",
   "id": "7948f77c",
   "metadata": {
    "deletable": false,
    "editable": false,
    "nbgrader": {
     "cell_type": "markdown",
     "checksum": "23fe87cfde39cf10f0fa666fe1bea826",
     "grade": false,
     "grade_id": "cell-a6a0e7137eccdd76",
     "locked": true,
     "schema_version": 3,
     "solution": false,
     "task": false
    }
   },
   "source": [
    "## Q3 (10 points)\n",
    "เขียนคลาส Bank ในส่วนที่กำหนดให้สมบูรณ์ โดยมีฟังก์ชันต่อไปนี้\n",
    "- `create_accounts(self,profiles)` ฟังก์ชันสำหรับการสร้างบัญชีธนาคาร (accounts) ตาม dictionary ที่ชื่อ profiles โดย accounts มี key เป็น ชื่อบัญชี ซึ่งเป็น key ของ profiles หนึ่ง ๆ และมี value เป็นชนิด Account ที่มียอดเงินเริ่มต้น (initial_balance) เท่ากับ value ของ profiles ที่ตรงกับชื่อบัญชีนั้น ๆ เช่น \n",
    "    - ถ้า profiles มีค่าเป็น {'Carol':1000,'Marta':-100} ดังนั้น accounts ที่เป็น dictionary ของคลาส Bank จะมีค่าเป็น {'Carol':Account object ที่มี initial_balance เป็น 1000,'Marta':Account object ที่มี initial_balance เป็น -100}\n",
    "- `transfer(self,from_who,to_who,amt)` ฟังก์ชันสำหรับการโอนเงินจากบัญชีชื่อ from_who ไปที่บัญชีชื่อ to_who ด้วยจำนวน amt\n",
    "- `get_names_in_debt(self)` ฟังก์ชันนี้คืนค่าเป็นลิสต์ของรายชื่อที่ติดหนี้กับธนาคาร นั่นคือยอดเงินในบัญชีติดลบ\n",
    "- `update_with_interest(self)` ฟังก์ชันสำหรับการอัพเดททุกบัญชีในธนาคารด้วยการคิดดอกเบี้ยเงินฝากและดอกเบี้ยเงินกู้"
   ]
  },
  {
   "attachments": {
    "image.png": {
     "image/png": "[encoded data removed]"
    }
   },
   "cell_type": "markdown",
   "id": "de53744c",
   "metadata": {
    "deletable": false,
    "editable": false,
    "nbgrader": {
     "cell_type": "markdown",
     "checksum": "570be6a60d7491c66727dd0a241aa62d",
     "grade": false,
     "grade_id": "cell-10b2138804c58caa",
     "locked": true,
     "schema_version": 3,
     "solution": false,
     "task": false
    }
   },
   "source": [
    "![image.png](attachment:image.png)"
   ]
  },
  {
   "cell_type": "code",
   "execution_count": 4,
   "id": "76c0a2b6",
   "metadata": {
    "deletable": false,
    "editable": false,
    "nbgrader": {
     "cell_type": "code",
     "checksum": "279a95c99ea06277710d9be725bd90ee",
     "grade": false,
     "grade_id": "cell-08ee59d007019834",
     "locked": true,
     "schema_version": 3,
     "solution": false,
     "task": false
    }
   },
   "outputs": [],
   "source": [
    "class Account:\n",
    "    def __init__(self, initial_balance=0):\n",
    "        self.__balance = initial_balance\n",
    "\n",
    "    def deposit(self, amount):\n",
    "        self.__balance += amount\n",
    "\n",
    "    def withdraw(self, amount):\n",
    "        self.__balance -= amount        \n",
    "\n",
    "    def get_balance(self):\n",
    "        return self.__balance"
   ]
  },
  {
   "cell_type": "code",
   "execution_count": 5,
   "id": "99b024cc",
   "metadata": {
    "deletable": false,
    "nbgrader": {
     "cell_type": "code",
     "checksum": "45e8082c82503254e33ee0156e4efad9",
     "grade": false,
     "grade_id": "cell-8dbc613bfcf42ec8",
     "locked": false,
     "schema_version": 3,
     "solution": true,
     "task": false
    }
   },
   "outputs": [],
   "source": [
    "class Bank:\n",
    "    def __init__(self,profiles):\n",
    "        self.accounts = {} # dictionary\n",
    "        self.create_accounts(profiles)\n",
    "    \n",
    "    def create_accounts(self, profiles):\n",
    "        for k,v in profiles.items():\n",
    "            self.accounts[k] = Account(v)\n",
    "        \n",
    "    \n",
    "    def transfer(self,from_who,to_who,amt):\n",
    "        self.accounts[from_who].withdraw(amt)\n",
    "        self.accounts[to_who].deposit(amt)\n",
    "    \n",
    "    def get_names_in_debt(self):\n",
    "        return [k for k,v in self.accounts.items() if v.get_balance() < 0]\n",
    "    \n",
    "    def update_with_interest(self,interest_rate):\n",
    "        for account in self.accounts.values():\n",
    "            account.deposit(account.get_balance() * (interest_rate/100))"
   ]
  },
  {
   "cell_type": "code",
   "execution_count": 6,
   "id": "4ceaed7a",
   "metadata": {
    "deletable": false,
    "editable": false,
    "nbgrader": {
     "cell_type": "code",
     "checksum": "b0ada1591f0e376f55d3f492b3616c82",
     "grade": true,
     "grade_id": "cell-2d3abd37e7dcb6c8",
     "locked": true,
     "points": 2,
     "schema_version": 3,
     "solution": false,
     "task": false
    }
   },
   "outputs": [],
   "source": [
    "'''ตรวจสอบผลลัพธ์'''\n",
    "csBank = Bank({'Carol':1000,'Marta':-100})\n",
    "assert csBank.accounts['Carol'].get_balance() == 1000\n",
    "assert csBank.accounts['Marta'].get_balance() == -100"
   ]
  },
  {
   "cell_type": "code",
   "execution_count": 7,
   "id": "cf59d36d",
   "metadata": {
    "deletable": false,
    "editable": false,
    "nbgrader": {
     "cell_type": "code",
     "checksum": "20ffc20a0be0cda10999b7d9f6540047",
     "grade": true,
     "grade_id": "cell-c771114bbf7e7065",
     "locked": true,
     "points": 3,
     "schema_version": 3,
     "solution": false,
     "task": false
    }
   },
   "outputs": [],
   "source": [
    "'''ตรวจสอบผลลัพธ์'''\n",
    "csBank = Bank({'Carol':1000,'Marta':-100})\n",
    "csBank.transfer('Carol','Marta',500)\n",
    "assert csBank.accounts['Carol'].get_balance() == 500\n",
    "assert csBank.accounts['Marta'].get_balance() == 400"
   ]
  },
  {
   "cell_type": "code",
   "execution_count": 8,
   "id": "df80b48e",
   "metadata": {
    "deletable": false,
    "editable": false,
    "nbgrader": {
     "cell_type": "code",
     "checksum": "90bd9b8ade8f142e4bc047ccaaa156e6",
     "grade": true,
     "grade_id": "cell-75a8b32f4de7309c",
     "locked": true,
     "points": 2,
     "schema_version": 3,
     "solution": false,
     "task": false
    }
   },
   "outputs": [],
   "source": [
    "'''ตรวจสอบผลลัพธ์'''\n",
    "csBank = Bank({'Carol':1000,'Marta':-100})\n",
    "assert csBank.get_names_in_debt() == ['Marta']"
   ]
  },
  {
   "cell_type": "code",
   "execution_count": 9,
   "id": "b77b3ba1",
   "metadata": {
    "deletable": false,
    "editable": false,
    "nbgrader": {
     "cell_type": "code",
     "checksum": "8f219a75296f7a0cce14b59630056b73",
     "grade": true,
     "grade_id": "cell-7de82036b9ff61c0",
     "locked": true,
     "points": 3,
     "schema_version": 3,
     "solution": false,
     "task": false
    }
   },
   "outputs": [],
   "source": [
    "'''ตรวจสอบผลลัพธ์'''\n",
    "csBank = Bank({'Carol':1000,'Marta':-500})\n",
    "csBank.update_with_interest(1.5)\n",
    "assert csBank.accounts['Carol'].get_balance() == 1015\n",
    "assert csBank.accounts['Marta'].get_balance() == -507.5,  csBank.accounts['Marta'].get_balance()"
   ]
  },
  {
   "cell_type": "code",
   "execution_count": null,
   "id": "a3b92835",
   "metadata": {},
   "outputs": [],
   "source": []
  }
 ],
 "metadata": {
  "kernelspec": {
   "display_name": "Python 3 (ipykernel)",
   "language": "python",
   "name": "python3"
  },
  "language_info": {
   "codemirror_mode": {
    "name": "ipython",
    "version": 3
   },
   "file_extension": ".py",
   "mimetype": "text/x-python",
   "name": "python",
   "nbconvert_exporter": "python",
   "pygments_lexer": "ipython3",
   "version": "3.11.4"
  }
 },
 "nbformat": 4,
 "nbformat_minor": 5
}
