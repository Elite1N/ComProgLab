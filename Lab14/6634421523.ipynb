{
 "cells": [
  {
   "cell_type": "markdown",
   "id": "18402ad6",
   "metadata": {
    "id": "67ae0e2c",
    "nbgrader": {
     "grade": false,
     "grade_id": "cell-62d8eb984150e98c",
     "locked": true,
     "schema_version": 3,
     "solution": false,
     "task": false
    }
   },
   "source": [
    "จงเขียน pygame ที่มีลูกบอลสองลูกเคลื่อนที่ไปมา และเมื่อลูกบอลชนกันให้เปลี่ยนสีพื้นหลังตามตัวอย่างด้านล่าง\n"
   ]
  },
  {
   "cell_type": "markdown",
   "id": "6351b172",
   "metadata": {
    "id": "6351b172",
    "nbgrader": {
     "grade": false,
     "grade_id": "cell-6706b359ff78be95",
     "locked": true,
     "schema_version": 3,
     "solution": false,
     "task": false
    }
   },
   "source": [
    "![](https://drive.google.com/uc?id=1uRE3njOzgI34rImGDKkGQjlJon7lMhiU)"
   ]
  },
  {
   "cell_type": "markdown",
   "id": "623e8e61",
   "metadata": {
    "id": "8yCPiiGLZVM5",
    "nbgrader": {
     "grade": false,
     "grade_id": "cell-8ff8fe2f28a9f775",
     "locked": true,
     "schema_version": 3,
     "solution": false,
     "task": false
    }
   },
   "source": [
    "1.กำหนด library pygame\n",
    "2.สร้าง clock\n",
    "3.ตั้งค่าหน้าจอเกมขนาด (800,600)\n",
    "สร้าง class Ball\n",
    "กำหนด attributes ของ class Ball\n",
    "4.เรียกภาพลูกบอล\n",
    "5.กำหนดขนาดของภาพลูกบอล\n",
    "กำหนด methods\n",
    "6.ตรวจสอบการชนขอบหน้าจอและเปลี่ยนทิศทางของลูกบอล\n",
    "7.แสดงภาพลูกบอลทางหน้าจอ\n",
    "8.ตรวจจับ event จนกว่าจะปิดเกม\n",
    "9.ตรวจสอบการชนกันของลูกบอล และกำหนดสีพื้นหลังที่จะแสดง\n",
    "10.ใส่สีพื้หลัง\n",
    "11.แสดงภาพลูกบอลด้วย method draw() ของ class Ball\n",
    "12.อัปเดตการแสดงผลหน้าจอทั้งหมด"
   ]
  },
  {
   "cell_type": "code",
   "execution_count": 1,
   "id": "47f7daa5",
   "metadata": {
    "id": "47f7daa5",
    "nbgrader": {
     "grade": false,
     "grade_id": "cell-3fe54db07bed79ec",
     "locked": false,
     "schema_version": 3,
     "solution": true,
     "task": false
    },
    "outputId": "100c9125-5f58-4623-cc77-7cfca35a0c56",
    "scrolled": true
   },
   "outputs": [
    {
     "name": "stdout",
     "output_type": "stream",
     "text": [
      "pygame 2.5.2 (SDL 2.28.3, Python 3.11.4)\n",
      "Hello from the pygame community. https://www.pygame.org/contribute.html\n"
     ]
    },
    {
     "ename": "SystemExit",
     "evalue": "",
     "output_type": "error",
     "traceback": [
      "An exception has occurred, use %tb to see the full traceback.\n",
      "\u001b[1;31mSystemExit\u001b[0m\n"
     ]
    },
    {
     "name": "stderr",
     "output_type": "stream",
     "text": [
      "c:\\Users\\tanap\\anaconda3\\Lib\\site-packages\\IPython\\core\\interactiveshell.py:3513: UserWarning: To exit: use 'exit', 'quit', or Ctrl-D.\n",
      "  warn(\"To exit: use 'exit', 'quit', or Ctrl-D.\", stacklevel=1)\n"
     ]
    }
   ],
   "source": [
    "# Import the pygame library\n",
    "import pygame\n",
    "\n",
    "# Import system\n",
    "import sys\n",
    "\n",
    "# Import random\n",
    "import random\n",
    "\n",
    "# 1. Initialize the pygame library\n",
    "pygame.init()\n",
    "\n",
    "# 2. Create clock\n",
    "clock = pygame.time.Clock()\n",
    "\n",
    "# 3. Set up the drawing window with (800,600)\n",
    "screen = pygame.display.set_mode((800, 600))\n",
    "\n",
    "# Set up the drawing window with \"title\"\n",
    "pygame.display.set_caption(\"Ball PyGame\")\n",
    "\n",
    "# Define backgound color\n",
    "bgB = pygame.Color(0, 0, 0) #Black\n",
    "bgG = pygame.Color(0, 255, 0)  #Green\n",
    "background = bgB\n",
    "\n",
    "# Ball class\n",
    "class Ball():\n",
    "    def __init__(self, screen, screenWidth, screenHeight):\n",
    "        self.screen = screen\n",
    "        self.screenWidth = screenWidth\n",
    "        self.screenHeight = screenHeight\n",
    "\n",
    "        # 4. Load ball image (ball.png)\n",
    "        self.ballImage = pygame.image.load('ball.png') \n",
    "\n",
    "        # 5. Define self.width and self.height\n",
    "        self.width = self.ballImage.get_width()\n",
    "        self.height = self.ballImage.get_height()\n",
    "        \n",
    "        self.maxWidth = screenWidth - self.width\n",
    "        self.maxHeight = screenHeight - self.height\n",
    "\n",
    "        # Pick a random starting position\n",
    "        self.x = random.randrange(0, self.maxWidth)\n",
    "        self.y = random.randrange(0, self.maxHeight)\n",
    "\n",
    "        # Choose a random speed between -3 and 3\n",
    "        speedsList = [-3, -2, -1, 1, 2, 3]\n",
    "        self.xSpeed = random.choice(speedsList)\n",
    "        self.ySpeed = random.choice(speedsList)\n",
    "\n",
    "    def update(self):\n",
    "        # 6. Check for hitting a wall and change the direction\n",
    "        if self.x<= 0 or self.x >= self.maxWidth:  #hit wall --> change direction\n",
    "            self.xSpeed *= -1\n",
    "        if self.y<= 0 or self.y >= self.maxHeight:\n",
    "            self.ySpeed *= -1\n",
    "        \n",
    "        self.x += self.xSpeed  #move\n",
    "        self.y += self.ySpeed\n",
    "    def draw(self):\n",
    "        # 7. Display balls on screen\n",
    "        screen.blit(self.ballImage,(self.x,self.y))\n",
    "#------------------------------------------------------------------------------------------------------#\n",
    "ballList = []   # 2 balls\n",
    "ball1 = Ball(screen, 800, 600)\n",
    "ballList.append(ball1)\n",
    "ball2 = Ball(screen, 800, 600)\n",
    "ballList.append(ball2)\n",
    "\n",
    "# Run until the user asks to quit\n",
    "running = True\n",
    "while running:\n",
    "    # 8. Detect all events\n",
    "    for event in pygame.event.get():\n",
    "        if event.type == pygame.QUIT:\n",
    "            running = False\n",
    "\n",
    "    # 9. Check  collision and change background color\n",
    "    ballRect1 = pygame.Rect(ballList[0].x, ballList[0].y, ballList[0].width, ballList[0].height)\n",
    "    ballRect2 = pygame.Rect(ballList[1].x, ballList[1].y, ballList[1].width, ballList[1].height)\n",
    "    if ballRect1.colliderect(ballRect2):\n",
    "        background = bgB\n",
    "    else:\n",
    "        background = bgG\n",
    "    # Update balls\n",
    "    for objBall in ballList:\n",
    "        objBall.update()\n",
    "\n",
    "    # 10. Fill the screen background\n",
    "    screen.fill(background)\n",
    "\n",
    "    # 11. Draw balls\n",
    "    for ball in ballList:\n",
    "        ball.draw()\n",
    "\n",
    "    # 12. Update the screen\n",
    "    pygame.display.update()\n",
    "\n",
    "    # Slow things down a bit\n",
    "    clock.tick(80)\n",
    "\n",
    "pygame.quit()\n",
    "sys.exit()"
   ]
  },
  {
   "cell_type": "code",
   "execution_count": null,
   "id": "4fa22752",
   "metadata": {},
   "outputs": [],
   "source": []
  }
 ],
 "metadata": {
  "colab": {
   "provenance": []
  },
  "kernelspec": {
   "display_name": "Python 3 (ipykernel)",
   "language": "python",
   "name": "python3"
  },
  "language_info": {
   "codemirror_mode": {
    "name": "ipython",
    "version": 3
   },
   "file_extension": ".py",
   "mimetype": "text/x-python",
   "name": "python",
   "nbconvert_exporter": "python",
   "pygments_lexer": "ipython3",
   "version": "3.11.4"
  }
 },
 "nbformat": 4,
 "nbformat_minor": 5
}
