{
 "cells": [
  {
   "cell_type": "markdown",
   "metadata": {
    "deletable": false,
    "editable": false,
    "id": "eb1o9qen3c7r",
    "nbgrader": {
     "cell_type": "markdown",
     "checksum": "90bfd5d2fbe272ad51295f9723affba1",
     "grade": false,
     "grade_id": "cell-dbf37dcea5d7dc5c",
     "locked": true,
     "schema_version": 3,
     "solution": false,
     "task": false
    }
   },
   "source": [
    "---\n",
    "## Q1 (3 points)\n",
    "จงเขียนโปรแกรมที่คำนวณหาผลเฉลยของสมการกำลังสอง (quadratic equation) โดยให้รับสัมประสิทธิ์\n",
    "$𝑎, 𝑏, 𝑐$ ในสมการ $𝑎𝑥^2 + 𝑏𝑥 + 𝑐 = 0$ จากผู้ใช้แล้วคำนวณหาผลเฉลยจากสูตร $𝑥 = \\frac{−𝑏± \\sqrt{b^2-4ac}} {2a} $ แล้ว\n",
    "แสดงผลลัพธ์ดังตัวอย่างข้างล่างนี้ ($𝑎$ ต้องไม่เป็น $0$ และ $𝑏^2 ≥ 4𝑎𝑐$)\n",
    "\n",
    "หมายเหตุ: การหารากที่สองทำได้โดยใช้การยกกำลัง ½ เช่น 2**0.5 หรือ ใช้ฟังก์ชัน sqrt ในโมดูล math ซึ่ง\n",
    "ต้องใช้คำสั่ง import math เพื่อระบุว่าโปรแกรมนี้ใช้ฟังก์ชันในโมดูล math และ เรียกใช้ฟังก์ชัน sqrt ดัง\n",
    "ตัวอย่างนี้\n",
    "\n",
    "import math\n",
    "\n",
    "z = math.sqrt(2) # value in z is 1.4142135…"
   ]
  },
  {
   "cell_type": "markdown",
   "metadata": {
    "deletable": false,
    "editable": false,
    "id": "6pRIuNtW3c7s",
    "nbgrader": {
     "cell_type": "markdown",
     "checksum": "da30f88fb453c001091187373f248cb7",
     "grade": false,
     "grade_id": "cell-7ae57c7b0fc2869d",
     "locked": true,
     "schema_version": 3,
     "solution": false,
     "task": false
    }
   },
   "source": [
    "ตัวอย่างการทำงาน: <br>\n",
    "Enter coefficients a, b, c : 1,4,3<br>\n",
    "x = -1.0 , -3.0"
   ]
  },
  {
   "cell_type": "markdown",
   "metadata": {
    "deletable": false,
    "editable": false,
    "id": "wlYhRPxY3c7t",
    "nbgrader": {
     "cell_type": "markdown",
     "checksum": "6e9a377ccee83910e9362d874657adfd",
     "grade": false,
     "grade_id": "cell-1b10c564484fa711",
     "locked": true,
     "schema_version": 3,
     "solution": false,
     "task": false
    }
   },
   "source": [
    "ตัวอย่างการทำงาน: <br>\n",
    "Enter coefficients a, b, c : 2.5,-8.7,2.1<br>\n",
    "x = 3.219053751558745 , 0.26094624844125425"
   ]
  },
  {
   "cell_type": "code",
   "execution_count": null,
   "metadata": {
    "deletable": false,
    "id": "726lIq1z3c7t",
    "nbgrader": {
     "cell_type": "code",
     "checksum": "7cdbfbe9adff090240b8714464991fd0",
     "grade": false,
     "grade_id": "quardatic",
     "locked": false,
     "schema_version": 3,
     "solution": true
    }
   },
   "outputs": [],
   "source": [
    "def run():\n",
    "    import math\n",
    "    a,b,c = input('Enter coefficients a,b,c:').split(',')\n",
    "    a,b,c = float(a),float(b),float(c)\n",
    "    j = (b**2) - (4*a*c)  #ใน root\n",
    "    ans1 = (-b+math.sqrt(j))\n",
    "    ans2 = (-b-math.sqrt(j))\n",
    "    if a != 0 and b**2 >= 4*a*c:\n",
    "      print (f'x = {ans1/(2*a)} , {ans2/(2*a)}')\n",
    "\n",
    "    else:\n",
    "      print ('Uncallculable')"
   ]
  },
  {
   "cell_type": "code",
   "execution_count": null,
   "metadata": {
    "colab": {
     "base_uri": "https://localhost:8080/"
    },
    "deletable": false,
    "editable": false,
    "id": "vjL8wxpP3c7u",
    "nbgrader": {
     "cell_type": "code",
     "checksum": "b7b03893ed0aaf1a2af60ae612b4be37",
     "grade": false,
     "grade_id": "cell-befa13e6c82bd29b",
     "locked": true,
     "schema_version": 3,
     "solution": false,
     "task": false
    },
    "outputId": "09217707-678f-436a-b7c2-f092022da52b"
   },
   "outputs": [],
   "source": [
    "'''ตรวจสอบผลลัพธ์ของโปรแกรมด้วยการรันที่ cell นี้'''\n",
    "run()"
   ]
  },
  {
   "cell_type": "code",
   "execution_count": null,
   "metadata": {
    "deletable": false,
    "editable": false,
    "id": "lOQlL0_y3c7v",
    "nbgrader": {
     "cell_type": "code",
     "checksum": "5821c55f13d17e9c95801392003c4faa",
     "grade": false,
     "grade_id": "partial",
     "locked": true,
     "schema_version": 3,
     "solution": false,
     "task": false
    }
   },
   "outputs": [],
   "source": [
    "'''ตรวจสอบผลการคำนวณ'''\n",
    "from unittest.mock import patch\n",
    "from io import StringIO\n",
    "import math\n",
    "\n",
    "def test(inputs,expected_output): \n",
    "     with patch('builtins.input', side_effect=inputs), patch('sys.stdout', new_callable=StringIO) as mock_stdout:\n",
    "        run()\n",
    "        assert mock_stdout.getvalue() == expected_output,mock_stdout.getvalue()\n",
    "def test_easy_print(inputs,expected_output):\n",
    "    with patch('builtins.input', side_effect=inputs), patch('sys.stdout', new_callable=StringIO) as mock_stdout:\n",
    "        run()\n",
    "        assert expected_output in mock_stdout.getvalue(), mock_stdout.getvalue()"
   ]
  },
  {
   "cell_type": "code",
   "execution_count": null,
   "metadata": {
    "deletable": false,
    "editable": false,
    "nbgrader": {
     "cell_type": "code",
     "checksum": "d870980eeda940d8359b50192842be75",
     "grade": true,
     "grade_id": "easy_print",
     "locked": true,
     "points": 1,
     "schema_version": 3,
     "solution": false,
     "task": false
    }
   },
   "outputs": [],
   "source": [
    "'''ตรวจสอบการแสดงผลลัพธ์อย่างง่าย'''\n",
    "test_easy_print(inputs=['1,4,3'],expected_output='x')"
   ]
  },
  {
   "cell_type": "code",
   "execution_count": null,
   "metadata": {
    "deletable": false,
    "editable": false,
    "id": "2H_BkqHc3c7w",
    "nbgrader": {
     "cell_type": "code",
     "checksum": "d5777e9a49da708638d6990d813660e3",
     "grade": true,
     "grade_id": "exact",
     "locked": false,
     "points": 1,
     "schema_version": 3,
     "solution": false
    }
   },
   "outputs": [],
   "source": [
    "'''ตรวจสอบผลการคำนวณและการแสดงผลลัพธ์ให้เหมือนกับโจทย์ที่กำหนดให้'''\n",
    "test(['1,4,3'],'x = -1.0 , -3.0\\n')\n",
    "test(['2.5,-8.7,2.1'],'x = 3.219053751558745 , 0.26094624844125425\\n')\n"
   ]
  },
  {
   "cell_type": "code",
   "execution_count": null,
   "metadata": {
    "deletable": false,
    "editable": false,
    "id": "90PIYtK-7Dix",
    "nbgrader": {
     "cell_type": "code",
     "checksum": "4eb7734e6d7ab9665fe726b05bfac4ee",
     "grade": true,
     "grade_id": "hidden_test",
     "locked": true,
     "points": 1,
     "schema_version": 3,
     "solution": false,
     "task": false
    }
   },
   "outputs": [],
   "source": [
    "'''เทสลับ'''"
   ]
  }
 ],
 "metadata": {
  "colab": {
   "provenance": [],
   "toc_visible": true
  },
  "kernelspec": {
   "display_name": "Python 3 (ipykernel)",
   "language": "python",
   "name": "python3"
  },
  "language_info": {
   "codemirror_mode": {
    "name": "ipython",
    "version": 3
   },
   "file_extension": ".py",
   "mimetype": "text/x-python",
   "name": "python",
   "nbconvert_exporter": "python",
   "pygments_lexer": "ipython3",
   "version": "3.11.4"
  }
 },
 "nbformat": 4,
 "nbformat_minor": 1
}
