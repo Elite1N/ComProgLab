{
 "cells": [
  {
   "cell_type": "markdown",
   "metadata": {
    "deletable": false,
    "editable": false,
    "id": "od_0NuJbBPPz",
    "nbgrader": {
     "cell_type": "markdown",
     "checksum": "49ee5571d649d77cff2d0f4d5ac0dd73",
     "grade": false,
     "grade_id": "cell-dbf37dcea5d7dc5c",
     "locked": true,
     "schema_version": 3,
     "solution": false,
     "task": false
    }
   },
   "source": [
    "---\n",
    "## Q3 (3 points)\n",
    "จงเขียนโปรแกรมที่รับความยาวด้าน 3 ด้านของสามเหลี่ยมจากผู้ใช้ แล้วตรวจสอบว่าเป็นด้านของสามเหลี่ยม\n",
    "หรือไม่ และแสดงผลลัพธ์ดังตัวอย่างข้างล่างนี้"
   ]
  },
  {
   "cell_type": "markdown",
   "metadata": {
    "deletable": false,
    "editable": false,
    "id": "aTqWDTrlBPP0",
    "nbgrader": {
     "cell_type": "markdown",
     "checksum": "14917790db9f744b1de7d9b297a490cb",
     "grade": false,
     "grade_id": "cell-7ae57c7b0fc2869d",
     "locked": true,
     "schema_version": 3,
     "solution": false,
     "task": false
    }
   },
   "source": [
    "ตัวอย่างการทำงาน: <br>\n",
    "Length of 3 sides: 3,7.5,4<br>\n",
    "Triangle: False"
   ]
  },
  {
   "cell_type": "markdown",
   "metadata": {
    "deletable": false,
    "editable": false,
    "id": "BpP6U6XiBPP1",
    "nbgrader": {
     "cell_type": "markdown",
     "checksum": "2df3cab22569d1f807a13e8c388c4919",
     "grade": false,
     "grade_id": "cell-1b10c564484fa711",
     "locked": true,
     "schema_version": 3,
     "solution": false,
     "task": false
    }
   },
   "source": [
    "ตัวอย่างการทำงาน:<br>\n",
    "Length of 3 sides: 3.4,5,4<br>\n",
    "Triangle: True"
   ]
  },
  {
   "cell_type": "code",
   "execution_count": null,
   "metadata": {
    "deletable": false,
    "id": "A9-C1uSHBPP2",
    "nbgrader": {
     "cell_type": "code",
     "checksum": "8210bde715bb395149e2942b60067472",
     "grade": false,
     "grade_id": "triangle",
     "locked": false,
     "schema_version": 3,
     "solution": true
    }
   },
   "outputs": [],
   "source": [
    "def run():\n",
    "    a,b,c = input('Length of 3 sides:').split(',')\n",
    "    a,b,c = float(a),float(b),float(c)\n",
    "    if a+b>c and b+c>a and a+c>b:\n",
    "      print ('Triangle: True')\n",
    "    else:\n",
    "      print ('Triangle: False')"
   ]
  },
  {
   "cell_type": "code",
   "execution_count": null,
   "metadata": {
    "colab": {
     "base_uri": "https://localhost:8080/"
    },
    "deletable": false,
    "editable": false,
    "id": "buJY6-XmBPP5",
    "nbgrader": {
     "cell_type": "code",
     "checksum": "b7b03893ed0aaf1a2af60ae612b4be37",
     "grade": false,
     "grade_id": "cell-befa13e6c82bd29b",
     "locked": true,
     "schema_version": 3,
     "solution": false,
     "task": false
    },
    "outputId": "9745af8c-991a-4abb-dd46-033e04e9798b"
   },
   "outputs": [],
   "source": [
    "'''ตรวจสอบผลลัพธ์ของโปรแกรมด้วยการรันที่ cell นี้'''\n",
    "run()"
   ]
  },
  {
   "cell_type": "code",
   "execution_count": null,
   "metadata": {
    "deletable": false,
    "editable": false,
    "id": "tX9qsXD5BPP7",
    "nbgrader": {
     "cell_type": "code",
     "checksum": "98777bef341b333d2832a797ee356d8a",
     "grade": false,
     "grade_id": "partial",
     "locked": true,
     "schema_version": 3,
     "solution": false,
     "task": false
    }
   },
   "outputs": [],
   "source": [
    "'''ตรวจสอบผลการคำนวณ'''\n",
    "from unittest.mock import patch\n",
    "from io import StringIO\n",
    "import math\n",
    "\n",
    "def test(inputs,expected_output): \n",
    "    with patch('builtins.input', side_effect=inputs), patch('sys.stdout', new_callable=StringIO) as mock_stdout:\n",
    "        run()\n",
    "        assert mock_stdout.getvalue() == expected_output,mock_stdout.getvalue()\n",
    "def test_easy_print(inputs,expected_output):\n",
    "    with patch('builtins.input', side_effect=inputs), patch('sys.stdout', new_callable=StringIO) as mock_stdout:\n",
    "        run()\n",
    "        assert expected_output in mock_stdout.getvalue(), mock_stdout.getvalue()"
   ]
  },
  {
   "cell_type": "code",
   "execution_count": null,
   "metadata": {
    "deletable": false,
    "editable": false,
    "nbgrader": {
     "cell_type": "code",
     "checksum": "357d88259844cd0c3017a86fd3bcf759",
     "grade": true,
     "grade_id": "easy_print",
     "locked": true,
     "points": 1,
     "schema_version": 3,
     "solution": false,
     "task": false
    }
   },
   "outputs": [],
   "source": [
    "'''ตรวจสอบการแสดงผลลัพธ์อย่างง่าย'''\n",
    "test_easy_print(inputs=['1,2,3'],expected_output='Triangle')"
   ]
  },
  {
   "cell_type": "code",
   "execution_count": null,
   "metadata": {
    "deletable": false,
    "editable": false,
    "id": "urrNdwMtBPP8",
    "nbgrader": {
     "cell_type": "code",
     "checksum": "8787668c653c9bd65c1f5db2a247998e",
     "grade": true,
     "grade_id": "exact",
     "locked": false,
     "points": 1,
     "schema_version": 3,
     "solution": false
    }
   },
   "outputs": [],
   "source": [
    "'''ตรวจสอบผลการคำนวณและการแสดงผลลัพธ์ให้เหมือนกับโจทย์ที่กำหนดให้'''\n",
    "test(['1,2,3'],'Triangle: False\\n')\n",
    "test(['3,7.5,4'],'Triangle: False\\n')\n",
    "test(['3.4,5,4'],'Triangle: True\\n')"
   ]
  },
  {
   "cell_type": "code",
   "execution_count": null,
   "metadata": {
    "deletable": false,
    "editable": false,
    "id": "Q4PsnDWzCMnU",
    "nbgrader": {
     "cell_type": "code",
     "checksum": "8df9fbfab97bbee1197c60b52b7047df",
     "grade": true,
     "grade_id": "hidden_tests",
     "locked": true,
     "points": 1,
     "schema_version": 3,
     "solution": false,
     "task": false
    }
   },
   "outputs": [],
   "source": [
    "'''เทสลับ'''"
   ]
  }
 ],
 "metadata": {
  "colab": {
   "provenance": []
  },
  "kernelspec": {
   "display_name": "Python 3 (ipykernel)",
   "language": "python",
   "name": "python3"
  },
  "language_info": {
   "codemirror_mode": {
    "name": "ipython",
    "version": 3
   },
   "file_extension": ".py",
   "mimetype": "text/x-python",
   "name": "python",
   "nbconvert_exporter": "python",
   "pygments_lexer": "ipython3",
   "version": "3.9.7"
  },
  "vscode": {
   "interpreter": {
    "hash": "6be8050420abbc3e9d6268a86434bcee2c24fb660e5fbe6b2c0a73d1e6743b58"
   }
  }
 },
 "nbformat": 4,
 "nbformat_minor": 1
}
