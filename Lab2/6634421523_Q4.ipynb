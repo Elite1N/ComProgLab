{
 "cells": [
  {
   "cell_type": "markdown",
   "metadata": {
    "deletable": false,
    "editable": false,
    "id": "H8SraZxyDTYr",
    "nbgrader": {
     "cell_type": "markdown",
     "checksum": "e1813547673c7cfaf1164c595ec349ab",
     "grade": false,
     "grade_id": "cell-dbf37dcea5d7dc5c",
     "locked": true,
     "schema_version": 3,
     "solution": false,
     "task": false
    }
   },
   "source": [
    "---\n",
    "## Q4 (3 points)\n",
    "จงเขียนโปรแกรมที่รับความยาวด้าน 3 ด้านของสามเหลี่ยมจากผู้ใช้ แล้วตรวจสอบว่าเป็นด้านของสามเหลี่ยม\n",
    "มุมฉากหรือไม่ และแสดงผลลัพธ์ดังตัวอย่างข้างล่างนี้"
   ]
  },
  {
   "cell_type": "markdown",
   "metadata": {
    "deletable": false,
    "editable": false,
    "id": "JWBM8ScBDTYs",
    "nbgrader": {
     "cell_type": "markdown",
     "checksum": "f557044b58e6793714b853878628edb8",
     "grade": false,
     "grade_id": "cell-7ae57c7b0fc2869d",
     "locked": true,
     "schema_version": 3,
     "solution": false,
     "task": false
    }
   },
   "source": [
    "ตัวอย่างการทำงาน: <br>\n",
    "Length of 3 sides: 3,5,4<br>\n",
    "Right triangle: True"
   ]
  },
  {
   "cell_type": "markdown",
   "metadata": {
    "deletable": false,
    "editable": false,
    "id": "XdXQD2CnDTYt",
    "nbgrader": {
     "cell_type": "markdown",
     "checksum": "f424b57858e12c88cdca279eb4d2e93b",
     "grade": false,
     "grade_id": "cell-1b10c564484fa711",
     "locked": true,
     "schema_version": 3,
     "solution": false,
     "task": false
    }
   },
   "source": [
    "ตัวอย่างการทำงาน: <br>\n",
    "Length of 3 sides: 3.4,5,4 <br>\n",
    "Right triangle: False"
   ]
  },
  {
   "cell_type": "code",
   "execution_count": null,
   "metadata": {
    "deletable": false,
    "id": "7-wVrZpwDTYt",
    "nbgrader": {
     "cell_type": "code",
     "checksum": "41d19dfc819991f37b08fdf532b7612d",
     "grade": false,
     "grade_id": "right_triangle",
     "locked": false,
     "schema_version": 3,
     "solution": true
    }
   },
   "outputs": [],
   "source": [
    "def run():\n",
    "    a,b,c = input('Length of 3 sides: ').split(',')\n",
    "    a,b,c = float(a),float(b),float(c)\n",
    "    a,b,c = (a**2),(b**2),(c**2)\n",
    "    if a+b==c or b+c==a or a+c==b:\n",
    "      print ('Right triangle: True')\n",
    "    else:\n",
    "      print ('Right triangle: False')"
   ]
  },
  {
   "cell_type": "code",
   "execution_count": null,
   "metadata": {
    "colab": {
     "base_uri": "https://localhost:8080/"
    },
    "deletable": false,
    "editable": false,
    "id": "AFgiowWVDTYv",
    "nbgrader": {
     "cell_type": "code",
     "checksum": "b7b03893ed0aaf1a2af60ae612b4be37",
     "grade": false,
     "grade_id": "cell-befa13e6c82bd29b",
     "locked": true,
     "schema_version": 3,
     "solution": false,
     "task": false
    },
    "outputId": "e3669fb4-abf0-4e4d-eb32-e5c00b9aac07"
   },
   "outputs": [],
   "source": [
    "'''ตรวจสอบผลลัพธ์ของโปรแกรมด้วยการรันที่ cell นี้'''\n",
    "run()"
   ]
  },
  {
   "cell_type": "code",
   "execution_count": null,
   "metadata": {
    "deletable": false,
    "editable": false,
    "id": "Yk_e8zTwDTYw",
    "nbgrader": {
     "cell_type": "code",
     "checksum": "98777bef341b333d2832a797ee356d8a",
     "grade": false,
     "grade_id": "partial",
     "locked": true,
     "schema_version": 3,
     "solution": false,
     "task": false
    }
   },
   "outputs": [],
   "source": [
    "'''ตรวจสอบผลการคำนวณ'''\n",
    "from unittest.mock import patch\n",
    "from io import StringIO\n",
    "import math\n",
    "\n",
    "def test(inputs,expected_output): \n",
    "    with patch('builtins.input', side_effect=inputs), patch('sys.stdout', new_callable=StringIO) as mock_stdout:\n",
    "        run()\n",
    "        assert mock_stdout.getvalue() == expected_output,mock_stdout.getvalue()\n",
    "def test_easy_print(inputs,expected_output):\n",
    "    with patch('builtins.input', side_effect=inputs), patch('sys.stdout', new_callable=StringIO) as mock_stdout:\n",
    "        run()\n",
    "        assert expected_output in mock_stdout.getvalue(), mock_stdout.getvalue()"
   ]
  },
  {
   "cell_type": "code",
   "execution_count": null,
   "metadata": {
    "deletable": false,
    "editable": false,
    "nbgrader": {
     "cell_type": "code",
     "checksum": "052f415f920aa0a988b3a3d39a5287d1",
     "grade": true,
     "grade_id": "easy_print",
     "locked": true,
     "points": 1,
     "schema_version": 3,
     "solution": false,
     "task": false
    }
   },
   "outputs": [],
   "source": [
    "'''ตรวจสอบการแสดงผลลัพธ์อย่างง่าย'''\n",
    "test_easy_print(inputs=['1,2,3'],expected_output='Right')"
   ]
  },
  {
   "cell_type": "code",
   "execution_count": null,
   "metadata": {
    "deletable": false,
    "editable": false,
    "id": "dBnCzYYpDTYw",
    "nbgrader": {
     "cell_type": "code",
     "checksum": "45aac6472faeed8a7357d9fdadb107cf",
     "grade": true,
     "grade_id": "exact",
     "locked": false,
     "points": 1,
     "schema_version": 3,
     "solution": false
    }
   },
   "outputs": [],
   "source": [
    "'''ตรวจสอบผลการคำนวณและการแสดงผลลัพธ์ให้เหมือนกับโจทย์ที่กำหนดให้'''\n",
    "test(['3,5,4'],'Right triangle: True\\n')\n",
    "test(['3,4,5'],'Right triangle: True\\n')\n",
    "test(['4,3,5'],'Right triangle: True\\n')\n",
    "test(['4,5,3'],'Right triangle: True\\n')\n",
    "test(['5,4,3'],'Right triangle: True\\n')\n",
    "test(['5,3,4'],'Right triangle: True\\n')\n",
    "test(['3.4,5,4'],'Right triangle: False\\n')"
   ]
  },
  {
   "cell_type": "code",
   "execution_count": null,
   "metadata": {
    "deletable": false,
    "editable": false,
    "id": "ECRf6CWNK6kc",
    "nbgrader": {
     "cell_type": "code",
     "checksum": "8df9fbfab97bbee1197c60b52b7047df",
     "grade": true,
     "grade_id": "hidden_tests",
     "locked": true,
     "points": 1,
     "schema_version": 3,
     "solution": false,
     "task": false
    }
   },
   "outputs": [],
   "source": [
    "'''เทสลับ'''"
   ]
  }
 ],
 "metadata": {
  "colab": {
   "provenance": []
  },
  "kernelspec": {
   "display_name": "Python 3 (ipykernel)",
   "language": "python",
   "name": "python3"
  },
  "language_info": {
   "codemirror_mode": {
    "name": "ipython",
    "version": 3
   },
   "file_extension": ".py",
   "mimetype": "text/x-python",
   "name": "python",
   "nbconvert_exporter": "python",
   "pygments_lexer": "ipython3",
   "version": "3.9.7"
  },
  "vscode": {
   "interpreter": {
    "hash": "6be8050420abbc3e9d6268a86434bcee2c24fb660e5fbe6b2c0a73d1e6743b58"
   }
  }
 },
 "nbformat": 4,
 "nbformat_minor": 1
}
