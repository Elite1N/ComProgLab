{
 "cells": [
  {
   "cell_type": "markdown",
   "metadata": {
    "deletable": false,
    "editable": false,
    "nbgrader": {
     "cell_type": "markdown",
     "checksum": "a515403ecbaec1b9e261005dafe9d995",
     "grade": false,
     "grade_id": "cell-dbf37dcea5d7dc5c",
     "locked": true,
     "schema_version": 3,
     "solution": false,
     "task": false
    }
   },
   "source": [
    "## Q1 (9 points)\n",
    "จงเขียนโปรแกรมที่รับตัวเลือก ( circle, square, rectangle ) จากผู้ใช้ แล้วรับความยาวรัศมีของ\n",
    "วงกลม หรือ ความยาวด้านของสี่เหลี่ยมจัตุรัส หรือ สี่เหลี่ยมผืนผ้า แล้วคำนวณหาพื้นที่และแสดงผลลัพธ์ดัง\n",
    "ตัวอย่างข้างล่างนี้ (กำหนดให้ใช้ค่า pi จาก module math)"
   ]
  },
  {
   "cell_type": "markdown",
   "metadata": {
    "deletable": false,
    "editable": false,
    "nbgrader": {
     "cell_type": "markdown",
     "checksum": "d1867af043b9f0ebc10c65db7d71fe2c",
     "grade": false,
     "grade_id": "cell-7ae57c7b0fc2869d",
     "locked": true,
     "schema_version": 3,
     "solution": false,
     "task": false
    }
   },
   "source": [
    "### ตัวอย่างการทำงาน: \n",
    "\n",
    "Choose circle, square or rectangle : **circle** <br>\n",
    "Length of the radius of the circle : **3.6** <br>\n",
    "Area is 40.71504079052372"
   ]
  },
  {
   "cell_type": "markdown",
   "metadata": {
    "deletable": false,
    "editable": false,
    "nbgrader": {
     "cell_type": "markdown",
     "checksum": "a18bb1d6833a0f5d449e0106d4e4b56e",
     "grade": false,
     "grade_id": "cell-1b10c564484fa711",
     "locked": true,
     "schema_version": 3,
     "solution": false,
     "task": false
    }
   },
   "source": [
    "### ตัวอย่างการทำงาน: \n",
    "\n",
    "Choose circle, square or rectangle : **square** <br>\n",
    "Length of the side of the square : **3.6** <br>\n",
    "Area is 12.96"
   ]
  },
  {
   "cell_type": "markdown",
   "metadata": {
    "deletable": false,
    "editable": false,
    "nbgrader": {
     "cell_type": "markdown",
     "checksum": "df3e2905d95760153e57e1ed0e1bb819",
     "grade": false,
     "grade_id": "cell-fc86ada0a7d9d7ee",
     "locked": true,
     "schema_version": 3,
     "solution": false,
     "task": false
    }
   },
   "source": [
    "### ตัวอย่างการทำงาน: \n",
    "\n",
    "Choose circle, square or rectangle : **rectangle** <br>\n",
    "Length of two sides of the rectangle : **2.5,3.6** <br>\n",
    "Area is 9.0"
   ]
  },
  {
   "cell_type": "markdown",
   "metadata": {
    "deletable": false,
    "editable": false,
    "nbgrader": {
     "cell_type": "markdown",
     "checksum": "e57ab9860c594efa87aa26d19547af02",
     "grade": false,
     "grade_id": "cell-7756331ade47aa76",
     "locked": true,
     "schema_version": 3,
     "solution": false,
     "task": false
    }
   },
   "source": [
    "### ตัวอย่างการทำงาน: \n",
    "\n",
    "Choose circle, square or rectangle : **xx** <br>\n",
    "Invalid choice."
   ]
  },
  {
   "cell_type": "code",
   "execution_count": null,
   "metadata": {
    "deletable": false,
    "nbgrader": {
     "cell_type": "code",
     "checksum": "b200d6e6b1dcb53db9c7782614ea5d49",
     "grade": false,
     "grade_id": "name",
     "locked": false,
     "schema_version": 3,
     "solution": true
    }
   },
   "outputs": [],
   "source": [
    "def run():\n",
    "    import math\n",
    "    shape = str(input('Choose circle, square or rectangle : '))\n",
    "    if shape in ['circle','square','rectangle'] :\n",
    "        if shape=='circle':\n",
    "            r = float(input('Length of the radius of the circle : '))\n",
    "            area = (math.pi*(pow(r,2)))\n",
    "            print (f'Area is {area}')\n",
    "        \n",
    "        elif shape=='square':\n",
    "            r = float(input('Length of two sides of the rectangle :'))\n",
    "            area = (pow(r,2))\n",
    "            print (f'Area is {area}')\n",
    "        else : \n",
    "            r,h = input('Length of two sides of the rectangle :').split(',')\n",
    "            r,h=float(r),float(h)\n",
    "            area = (r*h) \n",
    "            print (f'Area is {area}')\n",
    "    \n",
    "    else :\n",
    "        print ('Invalid choice.')"
   ]
  },
  {
   "cell_type": "code",
   "execution_count": null,
   "metadata": {
    "deletable": false,
    "editable": false,
    "nbgrader": {
     "cell_type": "code",
     "checksum": "b7b03893ed0aaf1a2af60ae612b4be37",
     "grade": false,
     "grade_id": "cell-befa13e6c82bd29b",
     "locked": true,
     "schema_version": 3,
     "solution": false,
     "task": false
    }
   },
   "outputs": [],
   "source": [
    "'''ตรวจสอบผลลัพธ์ของโปรแกรมด้วยการรันที่ cell นี้'''\n",
    "run()"
   ]
  },
  {
   "cell_type": "code",
   "execution_count": null,
   "metadata": {
    "deletable": false,
    "editable": false,
    "nbgrader": {
     "cell_type": "code",
     "checksum": "f1301e553a15120f391cf34fbd8463af",
     "grade": false,
     "grade_id": "partial",
     "locked": true,
     "schema_version": 3,
     "solution": false,
     "task": false
    }
   },
   "outputs": [],
   "source": [
    "'''ตรวจสอบผลการคำนวณ'''\n",
    "from unittest.mock import patch\n",
    "from io import StringIO\n",
    "   \n",
    "def test(inputs,expected_output): \n",
    "    with patch('builtins.input', side_effect=inputs), patch('sys.stdout', new_callable=StringIO) as mock_stdout:\n",
    "        run()\n",
    "        assert expected_output==mock_stdout.getvalue(),mock_stdout.getvalue()\n",
    "def test_easy_print(inputs,expected_output):\n",
    "    with patch('builtins.input', side_effect=inputs), patch('sys.stdout', new_callable=StringIO) as mock_stdout:\n",
    "        run()\n",
    "        assert expected_output in mock_stdout.getvalue(), mock_stdout.getvalue()"
   ]
  },
  {
   "cell_type": "code",
   "execution_count": null,
   "metadata": {
    "deletable": false,
    "editable": false,
    "nbgrader": {
     "cell_type": "code",
     "checksum": "836b4e96088960056166543593a195ff",
     "grade": true,
     "grade_id": "easy_print",
     "locked": true,
     "points": 1,
     "schema_version": 3,
     "solution": false,
     "task": false
    }
   },
   "outputs": [],
   "source": [
    "'''ตรวจสอบการแสดงผลลัพธ์อย่างง่าย'''\n",
    "test_easy_print(inputs=['circle','3.6'],expected_output='Area')"
   ]
  },
  {
   "cell_type": "code",
   "execution_count": null,
   "metadata": {
    "deletable": false,
    "editable": false,
    "nbgrader": {
     "cell_type": "code",
     "checksum": "f17555b160291706b7e8d307ef3637eb",
     "grade": true,
     "grade_id": "exact",
     "locked": false,
     "points": 1,
     "schema_version": 3,
     "solution": false
    }
   },
   "outputs": [],
   "source": [
    "'''ตรวจสอบผลการคำนวณและการแสดงผลลัพธ์ให้เหมือนกับโจทย์ที่กำหนดให้'''\n",
    "test(['circle','3.6'],'Area is 40.71504079052372\\n')   #radius is float value\n",
    "test(['circle','3.578'],'Area is 40.21893304503943\\n') #radius is float value\n",
    "test(['circle','5'],'Area is 78.53981633974483\\n')     #radius is int value\n",
    "test(['circle','9'],'Area is 254.46900494077323\\n')    #radius is int value\n"
   ]
  },
  {
   "cell_type": "code",
   "execution_count": null,
   "metadata": {
    "deletable": false,
    "editable": false,
    "nbgrader": {
     "cell_type": "code",
     "checksum": "c9cc8d86c4937246acad576fbc262b46",
     "grade": true,
     "grade_id": "cell-40d500747966a4b4",
     "locked": true,
     "points": 1,
     "schema_version": 3,
     "solution": false,
     "task": false
    }
   },
   "outputs": [],
   "source": [
    "'''ตรวจสอบผลการคำนวณและการแสดงผลลัพธ์ให้เหมือนกับโจทย์ที่กำหนดให้'''\n",
    "test(['square','3.6'],'Area is 12.96\\n') \n",
    "test(['square','3.578'],'Area is 12.802083999999999\\n')  \n",
    "test(['square','5'],'Area is 25.0\\n')  \n",
    "test(['square','9'],'Area is 81.0\\n')  \n"
   ]
  },
  {
   "cell_type": "code",
   "execution_count": null,
   "metadata": {
    "deletable": false,
    "editable": false,
    "nbgrader": {
     "cell_type": "code",
     "checksum": "5a38443850a5d3bbb94e04ae2102e459",
     "grade": true,
     "grade_id": "cell-8ed24f7a3c6c9b8b",
     "locked": true,
     "points": 1,
     "schema_version": 3,
     "solution": false,
     "task": false
    }
   },
   "outputs": [],
   "source": [
    "'''ตรวจสอบผลการคำนวณและการแสดงผลลัพธ์ให้เหมือนกับโจทย์ที่กำหนดให้'''\n",
    "test(['rectangle','2.5,3.6'],'Area is 9.0\\n')   #float,float\n",
    "test(['rectangle','3,4'],'Area is 12.0\\n')      #int,int\n",
    "test(['rectangle','2.5,4'],'Area is 10.0\\n')    #float,int\n",
    "test(['rectangle','5,3.6'],'Area is 18.0\\n')    #int,float"
   ]
  },
  {
   "cell_type": "code",
   "execution_count": null,
   "metadata": {
    "deletable": false,
    "editable": false,
    "nbgrader": {
     "cell_type": "code",
     "checksum": "7d1e025363a7d230c67a4d4a6a8c0388",
     "grade": true,
     "grade_id": "cell-5ea63f69411d8cea",
     "locked": true,
     "points": 1,
     "schema_version": 3,
     "solution": false,
     "task": false
    }
   },
   "outputs": [],
   "source": [
    "'''ตรวจสอบผลการคำนวณและการแสดงผลลัพธ์ให้เหมือนกับโจทย์ที่กำหนดให้'''\n",
    "test(['xx'],'Invalid choice.\\n')\n",
    "test(['test'],'Invalid choice.\\n')\n",
    "test(['cir'],'Invalid choice.\\n')\n"
   ]
  },
  {
   "cell_type": "code",
   "execution_count": null,
   "metadata": {
    "deletable": false,
    "editable": false,
    "nbgrader": {
     "cell_type": "code",
     "checksum": "ae64eff14ac512048a1517ba25bd4ad0",
     "grade": true,
     "grade_id": "cell-25416790032ad789",
     "locked": true,
     "points": 1,
     "schema_version": 3,
     "solution": false,
     "task": false
    }
   },
   "outputs": [],
   "source": [
    "'''เทสลับ1'''"
   ]
  },
  {
   "cell_type": "code",
   "execution_count": null,
   "metadata": {
    "deletable": false,
    "editable": false,
    "nbgrader": {
     "cell_type": "code",
     "checksum": "3a3cfb2e4a4e2d6a219b84b2d790141b",
     "grade": true,
     "grade_id": "cell-c7d863a4f1196c73",
     "locked": true,
     "points": 1,
     "schema_version": 3,
     "solution": false,
     "task": false
    }
   },
   "outputs": [],
   "source": [
    "'''เทสลับ2'''"
   ]
  },
  {
   "cell_type": "code",
   "execution_count": null,
   "metadata": {
    "deletable": false,
    "editable": false,
    "nbgrader": {
     "cell_type": "code",
     "checksum": "a6df3171653fb88e2a997b8a1464a1e3",
     "grade": true,
     "grade_id": "cell-41888b2f78cf1b0c",
     "locked": true,
     "points": 1,
     "schema_version": 3,
     "solution": false,
     "task": false
    }
   },
   "outputs": [],
   "source": [
    "'''เทสลับ3'''"
   ]
  },
  {
   "cell_type": "code",
   "execution_count": null,
   "metadata": {
    "deletable": false,
    "editable": false,
    "nbgrader": {
     "cell_type": "code",
     "checksum": "79a2b9bfacf77fbf6bc443255d2deb9f",
     "grade": true,
     "grade_id": "cell-215c3405255e1df3",
     "locked": true,
     "points": 1,
     "schema_version": 3,
     "solution": false,
     "task": false
    }
   },
   "outputs": [],
   "source": [
    "'''เทสลับ4'''"
   ]
  }
 ],
 "metadata": {
  "kernelspec": {
   "display_name": "Python 3 (ipykernel)",
   "language": "python",
   "name": "python3"
  },
  "language_info": {
   "codemirror_mode": {
    "name": "ipython",
    "version": 3
   },
   "file_extension": ".py",
   "mimetype": "text/x-python",
   "name": "python",
   "nbconvert_exporter": "python",
   "pygments_lexer": "ipython3",
   "version": "3.11.4"
  }
 },
 "nbformat": 4,
 "nbformat_minor": 1
}
