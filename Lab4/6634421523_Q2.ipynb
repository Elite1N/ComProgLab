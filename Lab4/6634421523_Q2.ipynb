{
 "cells": [
  {
   "cell_type": "markdown",
   "metadata": {
    "deletable": false,
    "editable": false,
    "nbgrader": {
     "cell_type": "markdown",
     "checksum": "df0ab3af40b4e9ad7b0b7a893aa8f8a1",
     "grade": false,
     "grade_id": "cell-dbf37dcea5d7dc5c",
     "locked": true,
     "schema_version": 3,
     "solution": false,
     "task": false
    }
   },
   "source": [
    "## Q2 (11 points)\n",
    "จงเขียนโปรแกรมที่รับน้ำหนัก และส่วนสูง จากผู้ใช้ มาคำนวณ bmi โดยให้ระบุหน่วยของน้ำหนักเป็น kg\n",
    "หรือ lbs และ หน่วยของส่วนสูงเป็น cm หรือ m หรือ ft แล้วไปแปลงเป็น kg และ m และคำนวณแสดงผลลัพธ์ว่าผู้ใช้มีรูปร่างในระดับใด <br>\n",
    "(1 kg. = 2.205 lbs, 1 m. = 3.2808399 feet)"
   ]
  },
  {
   "cell_type": "markdown",
   "metadata": {
    "deletable": false,
    "editable": false,
    "nbgrader": {
     "cell_type": "markdown",
     "checksum": "1ec1f24dc4a9df61e62d203873055fc1",
     "grade": false,
     "grade_id": "cell-7ae57c7b0fc2869d",
     "locked": true,
     "schema_version": 3,
     "solution": false,
     "task": false
    }
   },
   "source": [
    "### ตัวอย่างการทำงาน: \n",
    "\n",
    "Weight : **61.3 kg**<br>\n",
    "Height : **1.65 m**<br>\n",
    "รูปร่างปกติ"
   ]
  },
  {
   "cell_type": "markdown",
   "metadata": {
    "deletable": false,
    "editable": false,
    "nbgrader": {
     "cell_type": "markdown",
     "checksum": "78fffb602db981fdad692d3048d66eb8",
     "grade": false,
     "grade_id": "cell-1b10c564484fa711",
     "locked": true,
     "schema_version": 3,
     "solution": false,
     "task": false
    }
   },
   "source": [
    "### ตัวอย่างการทำงาน: \n",
    "\n",
    "Weight : **159.3 lbs** <br>\n",
    "Height : **4.92 ft**<br>\n",
    "อ้วนระดับ 2"
   ]
  },
  {
   "cell_type": "markdown",
   "metadata": {
    "deletable": false,
    "editable": false,
    "nbgrader": {
     "cell_type": "markdown",
     "checksum": "7f88f7b21bfddcec0a12c62a095360ab",
     "grade": false,
     "grade_id": "cell-8d6f849a001e7146",
     "locked": true,
     "schema_version": 3,
     "solution": false,
     "task": false
    }
   },
   "source": [
    "### ตัวอย่างการทำงาน:\n",
    "\n",
    "Weight : **110.8 lbs** <br> Height : **167 cm**<br>ผอม\n"
   ]
  },
  {
   "cell_type": "code",
   "execution_count": null,
   "metadata": {
    "deletable": false,
    "nbgrader": {
     "cell_type": "code",
     "checksum": "b200d6e6b1dcb53db9c7782614ea5d49",
     "grade": false,
     "grade_id": "name",
     "locked": false,
     "schema_version": 3,
     "solution": true
    }
   },
   "outputs": [],
   "source": [
    "def run():\n",
    "    Weight,Wunit = input('Wieght : ').split()\n",
    "    Height,Hunit = input('Height : ').split()\n",
    "    Weight,Height = float(Weight),float(Height)\n",
    "    if Wunit == 'lbs':        #convert lbs --> kg\n",
    "        Weight = Weight*0.45351473922\n",
    "    \n",
    "    if Hunit == 'ft':           #convert ft/cm --> m\n",
    "        Height = Height*0.30479999953\n",
    "    elif Hunit == 'cm':\n",
    "        Height = Height*0.01\n",
    "    \n",
    "    bmi = (Weight/(Height**2))\n",
    "    if bmi >= 30.0:\n",
    "        print ('อ้วนระดับ 2')\n",
    "    elif bmi >= 25.0:\n",
    "        print ('อ้วนระดับ 1')\n",
    "    elif bmi >= 23.0 :\n",
    "        print ('รูปร่างอ้วน')\n",
    "    elif bmi >= 18.5 :\n",
    "        print ('รูปร่างปกติ')\n",
    "    else :\n",
    "        print ('ผอม')"
   ]
  },
  {
   "cell_type": "code",
   "execution_count": null,
   "metadata": {
    "deletable": false,
    "editable": false,
    "nbgrader": {
     "cell_type": "code",
     "checksum": "b7b03893ed0aaf1a2af60ae612b4be37",
     "grade": false,
     "grade_id": "cell-befa13e6c82bd29b",
     "locked": true,
     "schema_version": 3,
     "solution": false,
     "task": false
    }
   },
   "outputs": [],
   "source": [
    "'''ตรวจสอบผลลัพธ์ของโปรแกรมด้วยการรันที่ cell นี้'''\n",
    "run()"
   ]
  },
  {
   "cell_type": "code",
   "execution_count": null,
   "metadata": {
    "deletable": false,
    "editable": false,
    "nbgrader": {
     "cell_type": "code",
     "checksum": "51309daa496029406f58e0ffe1d6e21d",
     "grade": false,
     "grade_id": "partial",
     "locked": true,
     "schema_version": 3,
     "solution": false,
     "task": false
    }
   },
   "outputs": [],
   "source": [
    "'''ตรวจสอบผลการคำนวณ'''\n",
    "from unittest.mock import patch\n",
    "from io import StringIO\n",
    "\n",
    "def test(inputs,expected_output): \n",
    "    with patch('builtins.input', side_effect=inputs), patch('sys.stdout', new_callable=StringIO) as mock_stdout:\n",
    "        run()\n",
    "        assert mock_stdout.getvalue() == expected_output,mock_stdout.getvalue()\n",
    "def test_easy_print(inputs,expected_output):\n",
    "    with patch('builtins.input', side_effect=inputs), patch('sys.stdout', new_callable=StringIO) as mock_stdout:\n",
    "        run()\n",
    "        assert expected_output in mock_stdout.getvalue(), mock_stdout.getvalue()"
   ]
  },
  {
   "cell_type": "code",
   "execution_count": null,
   "metadata": {
    "deletable": false,
    "editable": false,
    "nbgrader": {
     "cell_type": "code",
     "checksum": "6a896de5672f9c871d11168628b5dd75",
     "grade": true,
     "grade_id": "easy_print",
     "locked": true,
     "points": 1,
     "schema_version": 3,
     "solution": false,
     "task": false
    }
   },
   "outputs": [],
   "source": [
    "'''ตรวจสอบการแสดงผลลัพธ์อย่างง่าย'''\n",
    "test_easy_print(inputs=['61.3 kg','1.65 m'],expected_output='รูปร่าง')"
   ]
  },
  {
   "cell_type": "code",
   "execution_count": null,
   "metadata": {
    "deletable": false,
    "editable": false,
    "nbgrader": {
     "cell_type": "code",
     "checksum": "9aaf3c2ae4c9765bd3243ccd2524e2f6",
     "grade": true,
     "grade_id": "exact",
     "locked": false,
     "points": 1,
     "schema_version": 3,
     "solution": false
    }
   },
   "outputs": [],
   "source": [
    "'''ตรวจสอบผลการคำนวณและการแสดงผลลัพธ์ให้เหมือนกับโจทย์ที่กำหนดให้'''\n",
    "test(['61.3 kg','1.65 m'],'รูปร่างปกติ\\n')  # \n",
    "test(['61.3 kg','165 cm'],'รูปร่างปกติ\\n') \n",
    "test(['49.5 kg','5 ft'],'รูปร่างปกติ\\n') \n",
    "test(['110.8 lbs','150 cm'],'รูปร่างปกติ\\n') \n",
    "test(['110.8 lbs','1.50 m'],'รูปร่างปกติ\\n') \n",
    "test(['92.5 lbs','4.8 ft'],'รูปร่างปกติ\\n') "
   ]
  },
  {
   "cell_type": "code",
   "execution_count": null,
   "metadata": {
    "deletable": false,
    "editable": false,
    "nbgrader": {
     "cell_type": "code",
     "checksum": "b4e7695e6b3044754dd0d1fdfd7c6977",
     "grade": true,
     "grade_id": "cell-7074c62b5ac8ac0c",
     "locked": true,
     "points": 1,
     "schema_version": 3,
     "solution": false,
     "task": false
    }
   },
   "outputs": [],
   "source": [
    "'''ตรวจสอบผลการคำนวณและการแสดงผลลัพธ์ให้เหมือนกับโจทย์ที่กำหนดให้'''\n",
    "test(['94 kg','167.64 cm'],'อ้วนระดับ 2\\n')\n",
    "test(['94.2 kg','1.67 m'],'อ้วนระดับ 2\\n')\n",
    "test(['61.3 kg','1.5 ft'],'อ้วนระดับ 2\\n')\n",
    "test(['159.4215 lbs','155 cm'],'อ้วนระดับ 2\\n')\n",
    "test(['159.4215 lbs','1.5 m'],'อ้วนระดับ 2\\n')\n",
    "test(['159.3 lbs','4.92 ft'],'อ้วนระดับ 2\\n') # "
   ]
  },
  {
   "cell_type": "code",
   "execution_count": null,
   "metadata": {
    "deletable": false,
    "editable": false,
    "nbgrader": {
     "cell_type": "code",
     "checksum": "33a9ae82ec0467c1b3ae348697c7ae86",
     "grade": true,
     "grade_id": "cell-edf90ee888ed0103",
     "locked": true,
     "points": 1,
     "schema_version": 3,
     "solution": false,
     "task": false
    }
   },
   "outputs": [],
   "source": [
    "'''ตรวจสอบผลการคำนวณและการแสดงผลลัพธ์ให้เหมือนกับโจทย์ที่กำหนดให้'''\n",
    "test(['51.5 kg','167.0 cm'],'ผอม\\n') \n",
    "test(['51.3 kg','1.67 m'],'ผอม\\n') \n",
    "test(['50.3 kg','5.479002633 ft'],'ผอม\\n') \n",
    "test(['110.8 lbs','167 cm'],'ผอม\\n') #\n",
    "test(['110.8 lbs','1.67 m'],'ผอม\\n') \n",
    "test(['24 lbs','5 ft'],'ผอม\\n')"
   ]
  },
  {
   "cell_type": "code",
   "execution_count": null,
   "metadata": {
    "deletable": false,
    "editable": false,
    "nbgrader": {
     "cell_type": "code",
     "checksum": "86f9da457f791f1a3c89c59d1b3856a2",
     "grade": true,
     "grade_id": "cell-401eb542bb74a444",
     "locked": true,
     "points": 1,
     "schema_version": 3,
     "solution": false,
     "task": false
    }
   },
   "outputs": [],
   "source": [
    "'''ตรวจสอบผลการคำนวณและการแสดงผลลัพธ์ให้เหมือนกับโจทย์ที่กำหนดให้'''\n",
    "test(['92 kg','198 cm'],'รูปร่างอ้วน\\n')\n",
    "test(['92 kg','2.0 m'],'รูปร่างอ้วน\\n')\n",
    "test(['92 kg','6.56 ft'],'รูปร่างอ้วน\\n')\n",
    "test(['150 lbs','165 cm'],'รูปร่างอ้วน\\n')\n",
    "test(['150 lbs','1.65 m'],'รูปร่างอ้วน\\n')\n",
    "test(['120 lbs','5 ft'],'รูปร่างอ้วน\\n')"
   ]
  },
  {
   "cell_type": "code",
   "execution_count": null,
   "metadata": {
    "deletable": false,
    "editable": false,
    "nbgrader": {
     "cell_type": "code",
     "checksum": "a0f99c11a702b3199306d80d54673704",
     "grade": true,
     "grade_id": "cell-0497fd880a4d8063",
     "locked": true,
     "points": 1,
     "schema_version": 3,
     "solution": false,
     "task": false
    }
   },
   "outputs": [],
   "source": [
    "'''ตรวจสอบผลการคำนวณและการแสดงผลลัพธ์ให้เหมือนกับโจทย์ที่กำหนดให้'''\n",
    "test(['100 kg','2.0 m'],'อ้วนระดับ 1\\n')\n",
    "test(['100 kg','198 cm'],'อ้วนระดับ 1\\n')\n",
    "test(['100 kg','6.49 ft'],'อ้วนระดับ 1\\n')\n",
    "test(['91.5 lbs','128 cm'],'อ้วนระดับ 1\\n')\n",
    "test(['91.5 lbs','1.28 m'],'อ้วนระดับ 1\\n')\n",
    "test(['92.5 lbs','4.2 ft'],'อ้วนระดับ 1\\n')"
   ]
  },
  {
   "cell_type": "code",
   "execution_count": null,
   "metadata": {
    "deletable": false,
    "editable": false,
    "nbgrader": {
     "cell_type": "code",
     "checksum": "bb3f7b9e8c6ab97f0619b3a29808157c",
     "grade": true,
     "grade_id": "cell-3e7ca9673feeeb16",
     "locked": true,
     "points": 1,
     "schema_version": 3,
     "solution": false,
     "task": false
    }
   },
   "outputs": [],
   "source": [
    "'''เทสลับ1'''"
   ]
  },
  {
   "cell_type": "code",
   "execution_count": null,
   "metadata": {
    "deletable": false,
    "editable": false,
    "nbgrader": {
     "cell_type": "code",
     "checksum": "1512abc23224a8f2bea64f1b0b8c105b",
     "grade": true,
     "grade_id": "cell-103ec7631178de59",
     "locked": true,
     "points": 1,
     "schema_version": 3,
     "solution": false,
     "task": false
    }
   },
   "outputs": [],
   "source": [
    "'''เทสลับ2'''"
   ]
  },
  {
   "cell_type": "code",
   "execution_count": null,
   "metadata": {
    "deletable": false,
    "editable": false,
    "nbgrader": {
     "cell_type": "code",
     "checksum": "06f5a8f9f3daae8fe2fb32d1226607be",
     "grade": true,
     "grade_id": "cell-9a11c479ac7c0aac",
     "locked": true,
     "points": 1,
     "schema_version": 3,
     "solution": false,
     "task": false
    }
   },
   "outputs": [],
   "source": [
    "'''เทสลับ3'''"
   ]
  },
  {
   "cell_type": "code",
   "execution_count": null,
   "metadata": {
    "deletable": false,
    "editable": false,
    "nbgrader": {
     "cell_type": "code",
     "checksum": "3da9e86d5d1144d7bf19588af0681b2c",
     "grade": true,
     "grade_id": "cell-8ba21c4578c252e9",
     "locked": true,
     "points": 1,
     "schema_version": 3,
     "solution": false,
     "task": false
    }
   },
   "outputs": [],
   "source": [
    "'''เทสลับ4'''"
   ]
  },
  {
   "cell_type": "code",
   "execution_count": null,
   "metadata": {
    "deletable": false,
    "editable": false,
    "nbgrader": {
     "cell_type": "code",
     "checksum": "0074aea6f03308c9cb0b5bdaec957f53",
     "grade": true,
     "grade_id": "cell-20c60aeae56e1f47",
     "locked": true,
     "points": 1,
     "schema_version": 3,
     "solution": false,
     "task": false
    }
   },
   "outputs": [],
   "source": [
    "'''เทสลับ5'''"
   ]
  }
 ],
 "metadata": {
  "kernelspec": {
   "display_name": "Python 3 (ipykernel)",
   "language": "python",
   "name": "python3"
  },
  "language_info": {
   "codemirror_mode": {
    "name": "ipython",
    "version": 3
   },
   "file_extension": ".py",
   "mimetype": "text/x-python",
   "name": "python",
   "nbconvert_exporter": "python",
   "pygments_lexer": "ipython3",
   "version": "3.11.4"
  }
 },
 "nbformat": 4,
 "nbformat_minor": 1
}
