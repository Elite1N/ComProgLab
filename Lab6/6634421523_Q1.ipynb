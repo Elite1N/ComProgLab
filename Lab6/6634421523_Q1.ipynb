{
 "cells": [
  {
   "cell_type": "markdown",
   "metadata": {
    "deletable": false,
    "editable": false,
    "nbgrader": {
     "cell_type": "markdown",
     "checksum": "39674e166a8107789dd3f2238ecb0059",
     "grade": false,
     "grade_id": "cell-dbf37dcea5d7dc5c",
     "locked": true,
     "schema_version": 3,
     "solution": false,
     "task": false
    }
   },
   "source": [
    "## Q1 (3 points)\n",
    "จงเขียนโปรแกรมที่รับคำมาต่อกันเป็นประโยค โดยจะหยุดรับเมื่อรับ . มา"
   ]
  },
  {
   "cell_type": "markdown",
   "metadata": {
    "deletable": false,
    "editable": false,
    "nbgrader": {
     "cell_type": "markdown",
     "checksum": "f1a9571b071d167fe4e779716d838bae",
     "grade": false,
     "grade_id": "cell-7ae57c7b0fc2869d",
     "locked": true,
     "schema_version": 3,
     "solution": false,
     "task": false
    }
   },
   "source": [
    "### ตัวอย่างการทำงาน: \n",
    "\n",
    "Next word : **.** <br>\n",
    "Sentence:"
   ]
  },
  {
   "cell_type": "markdown",
   "metadata": {
    "deletable": false,
    "editable": false,
    "nbgrader": {
     "cell_type": "markdown",
     "checksum": "c9b8fdb4e715a90974f4539a3d150d74",
     "grade": false,
     "grade_id": "cell-1b10c564484fa711",
     "locked": true,
     "schema_version": 3,
     "solution": false,
     "task": false
    }
   },
   "source": [
    "### ตัวอย่างการทำงาน: \n",
    "\n",
    "Next word : **Bye** <br>\n",
    "Next word : **bye** <br>\n",
    "Next word : **.** <br>\n",
    "Sentence: Bye bye"
   ]
  },
  {
   "cell_type": "markdown",
   "metadata": {
    "deletable": false,
    "editable": false,
    "nbgrader": {
     "cell_type": "markdown",
     "checksum": "5c75840d0c609d9a6690f05b211ef1b9",
     "grade": false,
     "grade_id": "cell-fc86ada0a7d9d7ee",
     "locked": true,
     "schema_version": 3,
     "solution": false,
     "task": false
    }
   },
   "source": [
    "### ตัวอย่างการทำงาน: \n",
    "\n",
    "Next word : **My** <br>\n",
    "Next word : **name** <br>\n",
    "Next word : **is** <br>\n",
    "Next word : **next** <br>\n",
    "Next word : **word** <br>\n",
    "Next word : **.** <br>\n",
    "Sentence: My name is next word"
   ]
  },
  {
   "cell_type": "markdown",
   "metadata": {
    "deletable": false,
    "editable": false,
    "nbgrader": {
     "cell_type": "markdown",
     "checksum": "338cf90dc9883b8961610dd3c12709ec",
     "grade": false,
     "grade_id": "cell-7756331ade47aa76",
     "locked": true,
     "schema_version": 3,
     "solution": false,
     "task": false
    }
   },
   "source": [
    "### ตัวอย่างการทำงาน: \n",
    "\n",
    "Next word : **My** <br>\n",
    "Next word : **name** <br>\n",
    "Next word : **is** <br>\n",
    "Next word : **Chicky** <br>\n",
    "Next word : **Chicky!** <br>\n",
    "Next word : **.** <br>\n",
    "Sentence: My name is Chicky Chicky!"
   ]
  },
  {
   "cell_type": "code",
   "execution_count": 18,
   "metadata": {
    "deletable": false,
    "nbgrader": {
     "cell_type": "code",
     "checksum": "b200d6e6b1dcb53db9c7782614ea5d49",
     "grade": false,
     "grade_id": "name",
     "locked": false,
     "schema_version": 3,
     "solution": true
    }
   },
   "outputs": [],
   "source": [
    "def run():\n",
    "    word = input('Next word : ')\n",
    "    sentence =''\n",
    "    while word!='.':\n",
    "        sentence+=(' '+word)\n",
    "        word = input('Next word : ')\n",
    "    print (f'Sentence:{sentence}')"
   ]
  },
  {
   "cell_type": "code",
   "execution_count": 19,
   "metadata": {
    "deletable": false,
    "editable": false,
    "nbgrader": {
     "cell_type": "code",
     "checksum": "b7b03893ed0aaf1a2af60ae612b4be37",
     "grade": false,
     "grade_id": "cell-befa13e6c82bd29b",
     "locked": true,
     "schema_version": 3,
     "solution": false,
     "task": false
    }
   },
   "outputs": [
    {
     "name": "stdout",
     "output_type": "stream",
     "text": [
      "Next word : Bye\n",
      "Next word : bbye\n",
      "Next word : .\n",
      "Sentence:Bye bbye\n"
     ]
    }
   ],
   "source": [
    "'''ตรวจสอบผลลัพธ์ของโปรแกรมด้วยการรันที่ cell นี้'''\n",
    "run()"
   ]
  },
  {
   "cell_type": "code",
   "execution_count": 20,
   "metadata": {
    "deletable": false,
    "editable": false,
    "nbgrader": {
     "cell_type": "code",
     "checksum": "51309daa496029406f58e0ffe1d6e21d",
     "grade": false,
     "grade_id": "partial",
     "locked": true,
     "schema_version": 3,
     "solution": false,
     "task": false
    }
   },
   "outputs": [],
   "source": [
    "'''ตรวจสอบผลการคำนวณ'''\n",
    "from unittest.mock import patch\n",
    "from io import StringIO\n",
    "\n",
    "def test(inputs,expected_output): \n",
    "    with patch('builtins.input', side_effect=inputs), patch('sys.stdout', new_callable=StringIO) as mock_stdout:\n",
    "        run()\n",
    "        assert mock_stdout.getvalue() == expected_output,mock_stdout.getvalue()\n",
    "def test_easy_print(inputs,expected_output):\n",
    "    with patch('builtins.input', side_effect=inputs), patch('sys.stdout', new_callable=StringIO) as mock_stdout:\n",
    "        run()\n",
    "        assert expected_output in mock_stdout.getvalue(), mock_stdout.getvalue()"
   ]
  },
  {
   "cell_type": "code",
   "execution_count": 21,
   "metadata": {
    "deletable": false,
    "editable": false,
    "nbgrader": {
     "cell_type": "code",
     "checksum": "d2124f17945b6573406222e2cb105736",
     "grade": true,
     "grade_id": "easy_print",
     "locked": true,
     "points": 1,
     "schema_version": 3,
     "solution": false,
     "task": false
    }
   },
   "outputs": [],
   "source": [
    "'''ตรวจสอบการแสดงผลลัพธ์อย่างง่าย'''\n",
    "test_easy_print(inputs=['.'],expected_output='Sentence')"
   ]
  },
  {
   "cell_type": "code",
   "execution_count": 22,
   "metadata": {
    "deletable": false,
    "editable": false,
    "nbgrader": {
     "cell_type": "code",
     "checksum": "99841c63d05325fd92b1b4f1b65aa279",
     "grade": true,
     "grade_id": "exact",
     "locked": false,
     "points": 1,
     "schema_version": 3,
     "solution": false
    }
   },
   "outputs": [
    {
     "ename": "AssertionError",
     "evalue": "Sentence:Welcome\n",
     "output_type": "error",
     "traceback": [
      "\u001b[1;31m---------------------------------------------------------------------------\u001b[0m",
      "\u001b[1;31mAssertionError\u001b[0m                            Traceback (most recent call last)",
      "Cell \u001b[1;32mIn[22], line 3\u001b[0m\n\u001b[0;32m      1\u001b[0m \u001b[38;5;124;03m'''ตรวจสอบผลการคำนวณและการแสดงผลลัพธ์ให้เหมือนกับโจทย์ที่กำหนดให้'''\u001b[39;00m\n\u001b[0;32m      2\u001b[0m test([\u001b[38;5;124m'\u001b[39m\u001b[38;5;124m.\u001b[39m\u001b[38;5;124m'\u001b[39m],\u001b[38;5;124m'\u001b[39m\u001b[38;5;124mSentence:\u001b[39m\u001b[38;5;130;01m\\n\u001b[39;00m\u001b[38;5;124m'\u001b[39m) \n\u001b[1;32m----> 3\u001b[0m test([\u001b[38;5;124m'\u001b[39m\u001b[38;5;124mWelcome\u001b[39m\u001b[38;5;124m'\u001b[39m,\u001b[38;5;124m'\u001b[39m\u001b[38;5;124m.\u001b[39m\u001b[38;5;124m'\u001b[39m],\u001b[38;5;124m'\u001b[39m\u001b[38;5;124mSentence: Welcome\u001b[39m\u001b[38;5;130;01m\\n\u001b[39;00m\u001b[38;5;124m'\u001b[39m)\n\u001b[0;32m      4\u001b[0m test([\u001b[38;5;124m'\u001b[39m\u001b[38;5;124mComprog\u001b[39m\u001b[38;5;124m'\u001b[39m,\u001b[38;5;124m'\u001b[39m\u001b[38;5;124m.\u001b[39m\u001b[38;5;124m'\u001b[39m],\u001b[38;5;124m'\u001b[39m\u001b[38;5;124mSentence: Comprog\u001b[39m\u001b[38;5;130;01m\\n\u001b[39;00m\u001b[38;5;124m'\u001b[39m)\n\u001b[0;32m      5\u001b[0m test([\u001b[38;5;124m'\u001b[39m\u001b[38;5;124mBye\u001b[39m\u001b[38;5;124m'\u001b[39m,\u001b[38;5;124m'\u001b[39m\u001b[38;5;124mbye\u001b[39m\u001b[38;5;124m'\u001b[39m,\u001b[38;5;124m'\u001b[39m\u001b[38;5;124m.\u001b[39m\u001b[38;5;124m'\u001b[39m],\u001b[38;5;124m'\u001b[39m\u001b[38;5;124mSentence: Bye bye\u001b[39m\u001b[38;5;130;01m\\n\u001b[39;00m\u001b[38;5;124m'\u001b[39m) \n",
      "Cell \u001b[1;32mIn[20], line 8\u001b[0m, in \u001b[0;36mtest\u001b[1;34m(inputs, expected_output)\u001b[0m\n\u001b[0;32m      6\u001b[0m \u001b[38;5;28;01mwith\u001b[39;00m patch(\u001b[38;5;124m'\u001b[39m\u001b[38;5;124mbuiltins.input\u001b[39m\u001b[38;5;124m'\u001b[39m, side_effect\u001b[38;5;241m=\u001b[39minputs), patch(\u001b[38;5;124m'\u001b[39m\u001b[38;5;124msys.stdout\u001b[39m\u001b[38;5;124m'\u001b[39m, new_callable\u001b[38;5;241m=\u001b[39mStringIO) \u001b[38;5;28;01mas\u001b[39;00m mock_stdout:\n\u001b[0;32m      7\u001b[0m     run()\n\u001b[1;32m----> 8\u001b[0m     \u001b[38;5;28;01massert\u001b[39;00m mock_stdout\u001b[38;5;241m.\u001b[39mgetvalue() \u001b[38;5;241m==\u001b[39m expected_output,mock_stdout\u001b[38;5;241m.\u001b[39mgetvalue()\n",
      "\u001b[1;31mAssertionError\u001b[0m: Sentence:Welcome\n"
     ]
    }
   ],
   "source": [
    "'''ตรวจสอบผลการคำนวณและการแสดงผลลัพธ์ให้เหมือนกับโจทย์ที่กำหนดให้'''\n",
    "test(['.'],'Sentence:\\n') \n",
    "test(['Welcome','.'],'Sentence: Welcome\\n')\n",
    "test(['Comprog','.'],'Sentence: Comprog\\n')\n",
    "test(['Bye','bye','.'],'Sentence: Bye bye\\n') \n",
    "test(['I','love','Comprog','.'],'Sentence: I love Comprog\\n')\n",
    "test(['My','name','is','next','word','.'],'Sentence: My name is next word\\n')  \n",
    "test(['My','name','is','Chicky','Chicky!','.'],'Sentence: My name is Chicky Chicky!\\n')"
   ]
  },
  {
   "cell_type": "code",
   "execution_count": 23,
   "metadata": {
    "deletable": false,
    "editable": false,
    "nbgrader": {
     "cell_type": "code",
     "checksum": "c6e132f7a0c137fccd323d5172570145",
     "grade": true,
     "grade_id": "cell-8dfd2f6864f72128",
     "locked": true,
     "points": 1,
     "schema_version": 3,
     "solution": false,
     "task": false
    }
   },
   "outputs": [
    {
     "data": {
      "text/plain": [
       "'เทสลับ1'"
      ]
     },
     "execution_count": 23,
     "metadata": {},
     "output_type": "execute_result"
    }
   ],
   "source": [
    "'''เทสลับ1'''"
   ]
  }
 ],
 "metadata": {
  "kernelspec": {
   "display_name": "Python 3 (ipykernel)",
   "language": "python",
   "name": "python3"
  },
  "language_info": {
   "codemirror_mode": {
    "name": "ipython",
    "version": 3
   },
   "file_extension": ".py",
   "mimetype": "text/x-python",
   "name": "python",
   "nbconvert_exporter": "python",
   "pygments_lexer": "ipython3",
   "version": "3.11.4"
  }
 },
 "nbformat": 4,
 "nbformat_minor": 1
}
