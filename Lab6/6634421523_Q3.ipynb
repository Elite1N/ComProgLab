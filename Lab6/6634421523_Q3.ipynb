{
 "cells": [
  {
   "cell_type": "markdown",
   "metadata": {
    "deletable": false,
    "editable": false,
    "nbgrader": {
     "cell_type": "markdown",
     "checksum": "1204f2e24c8ed645b287bc3f5f5c95b6",
     "grade": false,
     "grade_id": "cell-dbf37dcea5d7dc5c",
     "locked": true,
     "schema_version": 3,
     "solution": false,
     "task": false
    }
   },
   "source": [
    "## Q3 (7 points)\n",
    "จงเขียนโปรแกรมที่วนรับอุณหภูมิสูงสุดของแต่ละวันในหนึ่งสัปดาห์ แล้วแสดงว่าวันใดมีอุณหภูมิลดลงจากวันก่อนหน้า"
   ]
  },
  {
   "cell_type": "markdown",
   "metadata": {
    "deletable": false,
    "editable": false,
    "nbgrader": {
     "cell_type": "markdown",
     "checksum": "138d7870c12e3e77775952354969a951",
     "grade": false,
     "grade_id": "cell-941573f39dc645a7",
     "locked": true,
     "schema_version": 3,
     "solution": false,
     "task": false
    }
   },
   "source": [
    "### ตัวอย่างการทำงาน:\n",
    "\n",
    "Day 1 : **32.6** <br>\n",
    "Day 2 : **34.4** <br>\n",
    "Day 3 : **35.0** <br>\n",
    "Day 4 : **34.6** <br>\n",
    "Temperature dropped on day 4 <br>\n",
    "Day 5 : **35.0** <br>\n",
    "Day 6 : **35.6** <br>\n",
    "Day 7 : **36** <br>"
   ]
  },
  {
   "cell_type": "markdown",
   "metadata": {
    "deletable": false,
    "editable": false,
    "nbgrader": {
     "cell_type": "markdown",
     "checksum": "a41b2fdbaecb0cf94b33883ea2a119fe",
     "grade": false,
     "grade_id": "cell-ba4526b034884cc7",
     "locked": true,
     "schema_version": 3,
     "solution": false,
     "task": false
    }
   },
   "source": [
    "### ตัวอย่างการทำงาน: \n",
    "\n",
    "Day 1 : **32.6** <br>\n",
    "Day 2 : **34.4** <br>\n",
    "Day 3 : **35.0** <br>\n",
    "Day 4 : **34.6** <br>\n",
    "Temperature dropped on day 4 <br>\n",
    "Day 5 : **35.2** <br>\n",
    "Day 6 : **35.6** <br>\n",
    "Day 7 : **34** <br>\n",
    "Temperature dropped on day 7"
   ]
  },
  {
   "cell_type": "markdown",
   "metadata": {
    "deletable": false,
    "editable": false,
    "nbgrader": {
     "cell_type": "markdown",
     "checksum": "eb4f9a443b31a2c1fa8302d8fafc5795",
     "grade": false,
     "grade_id": "cell-679ab39eeac1b48a",
     "locked": true,
     "schema_version": 3,
     "solution": false,
     "task": false
    }
   },
   "source": [
    "### ตัวอย่างการทำงาน: \n",
    "\n",
    "Day 1 : **32.6** <br>\n",
    "Day 2 : **34.4** <br>\n",
    "Day 3 : **35.0** <br>\n",
    "Day 4 : **34.6** <br>\n",
    "Temperature dropped on day 4 <br>\n",
    "Day 5 : **34.0** <br>\n",
    "Temperature dropped on day 5 <br>\n",
    "Day 6 : **35.6** <br>\n",
    "Day 7 : **34** <br>\n",
    "Temperature dropped on day 7"
   ]
  },
  {
   "cell_type": "code",
   "execution_count": 8,
   "metadata": {
    "deletable": false,
    "nbgrader": {
     "cell_type": "code",
     "checksum": "1b9d6a43210314c09c650d2c13fecad0",
     "grade": false,
     "grade_id": "temp",
     "locked": false,
     "schema_version": 3,
     "solution": true
    }
   },
   "outputs": [],
   "source": [
    "def run():\n",
    "    T=float(input(f'Day 1 : '))\n",
    "    last=T\n",
    "    for i in range(2,8):\n",
    "        T = float(input(f'Day {i} : '))\n",
    "        if T<last:\n",
    "            print (f'Temperature dropped on day {i}')\n",
    "        last=T\n",
    "        "
   ]
  },
  {
   "cell_type": "code",
   "execution_count": 9,
   "metadata": {
    "deletable": false,
    "editable": false,
    "nbgrader": {
     "cell_type": "code",
     "checksum": "b7b03893ed0aaf1a2af60ae612b4be37",
     "grade": false,
     "grade_id": "cell-befa13e6c82bd29b",
     "locked": true,
     "schema_version": 3,
     "solution": false,
     "task": false
    }
   },
   "outputs": [
    {
     "name": "stdout",
     "output_type": "stream",
     "text": [
      "Day 1 : 32.6\n",
      "Day 2 : 34.4\n",
      "Day 3 : 35.0\n",
      "Day 4 : 34.6\n",
      "Temperature dropped on day 4\n",
      "Day 5 : 35.2\n",
      "Day 6 : 35.6\n",
      "Day 7 : 34\n",
      "Temperature dropped on day 7\n"
     ]
    }
   ],
   "source": [
    "'''ตรวจสอบผลลัพธ์ของโปรแกรมด้วยการรันที่ cell นี้'''\n",
    "run()"
   ]
  },
  {
   "cell_type": "code",
   "execution_count": 3,
   "metadata": {
    "deletable": false,
    "editable": false,
    "nbgrader": {
     "cell_type": "code",
     "checksum": "51309daa496029406f58e0ffe1d6e21d",
     "grade": false,
     "grade_id": "partial",
     "locked": true,
     "schema_version": 3,
     "solution": false,
     "task": false
    }
   },
   "outputs": [],
   "source": [
    "'''ตรวจสอบผลการคำนวณ'''\n",
    "from unittest.mock import patch\n",
    "from io import StringIO\n",
    "\n",
    "def test(inputs,expected_output): \n",
    "    with patch('builtins.input', side_effect=inputs), patch('sys.stdout', new_callable=StringIO) as mock_stdout:\n",
    "        run()\n",
    "        assert mock_stdout.getvalue() == expected_output,mock_stdout.getvalue()\n",
    "def test_easy_print(inputs,expected_output):\n",
    "    with patch('builtins.input', side_effect=inputs), patch('sys.stdout', new_callable=StringIO) as mock_stdout:\n",
    "        run()\n",
    "        assert expected_output in mock_stdout.getvalue(), mock_stdout.getvalue()"
   ]
  },
  {
   "cell_type": "code",
   "execution_count": 4,
   "metadata": {
    "deletable": false,
    "editable": false,
    "nbgrader": {
     "cell_type": "code",
     "checksum": "8f1e9f82c8f244aaa52b1ecc8cbbd3c9",
     "grade": true,
     "grade_id": "easy_print",
     "locked": true,
     "points": 1,
     "schema_version": 3,
     "solution": false,
     "task": false
    }
   },
   "outputs": [],
   "source": [
    "'''ตรวจสอบการแสดงผลลัพธ์อย่างง่าย'''\n",
    "test_easy_print(inputs=['32.6','34.4','35.0','34.6','35','35.6','36'],expected_output='Temperature')"
   ]
  },
  {
   "cell_type": "code",
   "execution_count": 5,
   "metadata": {
    "deletable": false,
    "editable": false,
    "nbgrader": {
     "cell_type": "code",
     "checksum": "333ee40faf0785bfca194de662e09a67",
     "grade": true,
     "grade_id": "cell-cbc47179f27fefee",
     "locked": true,
     "points": 1,
     "schema_version": 3,
     "solution": false,
     "task": false
    }
   },
   "outputs": [],
   "source": [
    "'''ตรวจสอบผลการคำนวณและการแสดงผลลัพธ์ให้เหมือนกับโจทย์ที่กำหนดให้'''\n",
    "'''Drop 1 days'''\n",
    "test(['32.6','34.4','35.0','34.6','35','35.6','36'],'Temperature dropped on day 4\\n') \n",
    "test(['32.6','31.4','35.0','35.6','35.8','35.9','36'],'Temperature dropped on day 2\\n') \n",
    "test(['32.6','33.4','35.0','35.6','35.8','35.9','34'],'Temperature dropped on day 7\\n') "
   ]
  },
  {
   "cell_type": "code",
   "execution_count": 6,
   "metadata": {
    "deletable": false,
    "editable": false,
    "nbgrader": {
     "cell_type": "code",
     "checksum": "e8cad137f8d8e9d6367445a8c5db661a",
     "grade": true,
     "grade_id": "exact",
     "locked": false,
     "points": 1,
     "schema_version": 3,
     "solution": false
    }
   },
   "outputs": [],
   "source": [
    "'''ตรวจสอบผลการคำนวณและการแสดงผลลัพธ์ให้เหมือนกับโจทย์ที่กำหนดให้'''\n",
    "'''Drop 2 days'''\n",
    "test(['32.6','34.4','35.0','34.6','35.2','35.6','34'],'Temperature dropped on day 4\\nTemperature dropped on day 7\\n') \n",
    "test(['33.6','34.4','32.0','35.6','37.2','31.6','35'],'Temperature dropped on day 3\\nTemperature dropped on day 6\\n') \n",
    "test(['43.6','40.4','42.0','45.6','30.2','31.6','35'],'Temperature dropped on day 2\\nTemperature dropped on day 5\\n') "
   ]
  },
  {
   "cell_type": "code",
   "execution_count": 7,
   "metadata": {
    "deletable": false,
    "editable": false,
    "nbgrader": {
     "cell_type": "code",
     "checksum": "a76064d74c09a5520fa5bfaaf399041e",
     "grade": true,
     "grade_id": "cell-5646d4ae088951fe",
     "locked": true,
     "points": 1,
     "schema_version": 3,
     "solution": false,
     "task": false
    }
   },
   "outputs": [],
   "source": [
    "'''ตรวจสอบผลการคำนวณและการแสดงผลลัพธ์ให้เหมือนกับโจทย์ที่กำหนดให้'''\n",
    "'''Drop 3 days'''\n",
    "test(['32.6','34.4','35.0','34.6','34','35.6','34'],'Temperature dropped on day 4\\nTemperature dropped on day 5\\nTemperature dropped on day 7\\n') \n",
    "test(['43.6','40.4','39.0','45.6','30.2','31.6','35'],'Temperature dropped on day 2\\nTemperature dropped on day 3\\nTemperature dropped on day 5\\n')\n",
    "test(['33.6','34.4','32.0','31.5','37.2','31.6','35'],'Temperature dropped on day 3\\nTemperature dropped on day 4\\nTemperature dropped on day 6\\n') \n",
    "test(['45','45','45','45','45','45','45'],'')"
   ]
  },
  {
   "cell_type": "code",
   "execution_count": null,
   "metadata": {
    "deletable": false,
    "editable": false,
    "nbgrader": {
     "cell_type": "code",
     "checksum": "08708934887a0cfc8b7f88919bdd1e17",
     "grade": true,
     "grade_id": "cell-4cf323a44b865e68",
     "locked": true,
     "points": 1,
     "schema_version": 3,
     "solution": false,
     "task": false
    }
   },
   "outputs": [],
   "source": [
    "'''เทสลับ1'''"
   ]
  },
  {
   "cell_type": "code",
   "execution_count": null,
   "metadata": {
    "deletable": false,
    "editable": false,
    "nbgrader": {
     "cell_type": "code",
     "checksum": "50327776d49e612f0830171592754c23",
     "grade": true,
     "grade_id": "cell-287fa2644c308eb2",
     "locked": true,
     "points": 1,
     "schema_version": 3,
     "solution": false,
     "task": false
    }
   },
   "outputs": [],
   "source": [
    "'''เทสลับ2'''"
   ]
  },
  {
   "cell_type": "code",
   "execution_count": null,
   "metadata": {
    "deletable": false,
    "editable": false,
    "nbgrader": {
     "cell_type": "code",
     "checksum": "a3c43622dcdf56d51fa4d0918709518e",
     "grade": true,
     "grade_id": "cell-882df26a5bf4ad20",
     "locked": true,
     "points": 1,
     "schema_version": 3,
     "solution": false,
     "task": false
    }
   },
   "outputs": [],
   "source": [
    "'''เทสลับ3'''"
   ]
  }
 ],
 "metadata": {
  "kernelspec": {
   "display_name": "Python 3 (ipykernel)",
   "language": "python",
   "name": "python3"
  },
  "language_info": {
   "codemirror_mode": {
    "name": "ipython",
    "version": 3
   },
   "file_extension": ".py",
   "mimetype": "text/x-python",
   "name": "python",
   "nbconvert_exporter": "python",
   "pygments_lexer": "ipython3",
   "version": "3.11.4"
  }
 },
 "nbformat": 4,
 "nbformat_minor": 1
}
