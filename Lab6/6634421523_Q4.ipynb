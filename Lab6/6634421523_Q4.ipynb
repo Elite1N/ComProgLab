{
 "cells": [
  {
   "cell_type": "markdown",
   "metadata": {
    "deletable": false,
    "editable": false,
    "nbgrader": {
     "cell_type": "markdown",
     "checksum": "39dbfc4a986fdedb8918ba1c1a51a409",
     "grade": false,
     "grade_id": "cell-dbf37dcea5d7dc5c",
     "locked": true,
     "schema_version": 3,
     "solution": false,
     "task": false
    }
   },
   "source": [
    "## Q4 (6 points)\n",
    "จงเขียนโปรแกรมที่วนรับจำนวนเงินที่ต้องการเบิกจากบัญชี โดยจะยอมให้เบิกถ้ายังมีเงินในบัญชีพอ และวนรับจำนวนเงินที่ต้องการเบิกไปจนเงินในบัญชีหมดพอดี (กำหนดให้เริ่มต้นมีเงินในบัญชี 50,000 บาท)\n"
   ]
  },
  {
   "cell_type": "markdown",
   "metadata": {
    "deletable": false,
    "editable": false,
    "nbgrader": {
     "cell_type": "markdown",
     "checksum": "211b7c6b5ef3aaf59c4c5ea9ee29e845",
     "grade": false,
     "grade_id": "cell-7ae57c7b0fc2869d",
     "locked": true,
     "schema_version": 3,
     "solution": false,
     "task": false
    }
   },
   "source": [
    "### ตัวอย่างการทำงาน: \n",
    "\n",
    "withdraw : **50000** <br>\n",
    "Balance is 0"
   ]
  },
  {
   "cell_type": "markdown",
   "metadata": {
    "deletable": false,
    "editable": false,
    "nbgrader": {
     "cell_type": "markdown",
     "checksum": "df537268356b03183807824ac837f4ff",
     "grade": false,
     "grade_id": "cell-679ab39eeac1b48a",
     "locked": true,
     "schema_version": 3,
     "solution": false,
     "task": false
    }
   },
   "source": [
    "### ตัวอย่างการทำงาน: \n",
    "\n",
    "withdraw : **45000**  <br>\n",
    "withdraw : **5000**  <br>\n",
    "Balance is 0"
   ]
  },
  {
   "cell_type": "markdown",
   "metadata": {
    "deletable": false,
    "editable": false,
    "nbgrader": {
     "cell_type": "markdown",
     "checksum": "70fb1440ec1e491305f41fc057db54e0",
     "grade": false,
     "grade_id": "cell-400409b302bb64e5",
     "locked": true,
     "schema_version": 3,
     "solution": false,
     "task": false
    }
   },
   "source": [
    "### ตัวอย่างการทำงาน: \n",
    "\n",
    "withdraw : **60000**  <br>\n",
    "Insufficient fund. <br>\n",
    "withdraw : **40000**  <br>\n",
    "withdraw : **20000**  <br>\n",
    "Insufficient fund.<br>\n",
    "withdraw : **10000**  <br>\n",
    "Balance is 0"
   ]
  },
  {
   "cell_type": "code",
   "execution_count": null,
   "metadata": {
    "deletable": false,
    "nbgrader": {
     "cell_type": "code",
     "checksum": "2f66308565ed6accc90cc02c77df7cb5",
     "grade": false,
     "grade_id": "withdraw",
     "locked": false,
     "schema_version": 3,
     "solution": true
    }
   },
   "outputs": [],
   "source": [
    "def run():\n",
    "    bank=50_000\n",
    "    while bank >0:\n",
    "        withdraw=int(input('withdraw : '))\n",
    "        if withdraw > bank:\n",
    "            print ('Insufficient fund.')\n",
    "        else :\n",
    "            bank-=withdraw\n",
    "    print ('Balance is 0')"
   ]
  },
  {
   "cell_type": "code",
   "execution_count": null,
   "metadata": {
    "deletable": false,
    "editable": false,
    "nbgrader": {
     "cell_type": "code",
     "checksum": "b7b03893ed0aaf1a2af60ae612b4be37",
     "grade": false,
     "grade_id": "cell-befa13e6c82bd29b",
     "locked": true,
     "schema_version": 3,
     "solution": false,
     "task": false
    }
   },
   "outputs": [],
   "source": [
    "'''ตรวจสอบผลลัพธ์ของโปรแกรมด้วยการรันที่ cell นี้'''\n",
    "run()"
   ]
  },
  {
   "cell_type": "code",
   "execution_count": null,
   "metadata": {
    "deletable": false,
    "editable": false,
    "nbgrader": {
     "cell_type": "code",
     "checksum": "51309daa496029406f58e0ffe1d6e21d",
     "grade": false,
     "grade_id": "partial",
     "locked": true,
     "schema_version": 3,
     "solution": false,
     "task": false
    }
   },
   "outputs": [],
   "source": [
    "'''ตรวจสอบผลการคำนวณ'''\n",
    "from unittest.mock import patch\n",
    "from io import StringIO\n",
    "\n",
    "def test(inputs,expected_output): \n",
    "    with patch('builtins.input', side_effect=inputs), patch('sys.stdout', new_callable=StringIO) as mock_stdout:\n",
    "        run()\n",
    "        assert mock_stdout.getvalue() == expected_output,mock_stdout.getvalue()\n",
    "def test_easy_print(inputs,expected_output):\n",
    "    with patch('builtins.input', side_effect=inputs), patch('sys.stdout', new_callable=StringIO) as mock_stdout:\n",
    "        run()\n",
    "        assert expected_output in mock_stdout.getvalue(), mock_stdout.getvalue()"
   ]
  },
  {
   "cell_type": "code",
   "execution_count": null,
   "metadata": {
    "deletable": false,
    "editable": false,
    "nbgrader": {
     "cell_type": "code",
     "checksum": "262a075240229d37d870c7d5d47679ec",
     "grade": true,
     "grade_id": "easy_print",
     "locked": true,
     "points": 1,
     "schema_version": 3,
     "solution": false,
     "task": false
    }
   },
   "outputs": [],
   "source": [
    "'''ตรวจสอบการแสดงผลลัพธ์อย่างง่าย'''\n",
    "test_easy_print(inputs=['50000'],expected_output='Balance')"
   ]
  },
  {
   "cell_type": "code",
   "execution_count": null,
   "metadata": {
    "deletable": false,
    "editable": false,
    "nbgrader": {
     "cell_type": "code",
     "checksum": "41ff77dd7c0842cb8db520bb9ffc96e6",
     "grade": true,
     "grade_id": "exact",
     "locked": false,
     "points": 1,
     "schema_version": 3,
     "solution": false
    }
   },
   "outputs": [],
   "source": [
    "'''ตรวจสอบผลการคำนวณและการแสดงผลลัพธ์ให้เหมือนกับโจทย์ที่กำหนดให้'''\n",
    "test(['50000'],'Balance is 0\\n') \n",
    "test(['25000','0','25000'],'Balance is 0\\n') "
   ]
  },
  {
   "cell_type": "code",
   "execution_count": null,
   "metadata": {
    "deletable": false,
    "editable": false,
    "nbgrader": {
     "cell_type": "code",
     "checksum": "16d4ebfbfdad1b3dc9c4ec8dd69d985f",
     "grade": true,
     "grade_id": "cell-5646d4ae088951fe",
     "locked": true,
     "points": 1,
     "schema_version": 3,
     "solution": false,
     "task": false
    }
   },
   "outputs": [],
   "source": [
    "'''ตรวจสอบผลการคำนวณและการแสดงผลลัพธ์ให้เหมือนกับโจทย์ที่กำหนดให้'''\n",
    "test(['45000','5000'],'Balance is 0\\n')  \n",
    "test(['20000','30000'],'Balance is 0\\n')  \n",
    "test(['98723','50000'],'Insufficient fund.\\nBalance is 0\\n')  \n",
    "test(['73568','50000'],'Insufficient fund.\\nBalance is 0\\n') "
   ]
  },
  {
   "cell_type": "code",
   "execution_count": null,
   "metadata": {
    "deletable": false,
    "editable": false,
    "nbgrader": {
     "cell_type": "code",
     "checksum": "463c3d4bd265e38ef057c9ecec3b8dbb",
     "grade": true,
     "grade_id": "cell-cbc47179f27fefee",
     "locked": true,
     "points": 1,
     "schema_version": 3,
     "solution": false,
     "task": false
    }
   },
   "outputs": [],
   "source": [
    "'''ตรวจสอบผลการคำนวณและการแสดงผลลัพธ์ให้เหมือนกับโจทย์ที่กำหนดให้'''\n",
    "test(['60000','40000','20000','10000'],'Insufficient fund.\\nInsufficient fund.\\nBalance is 0\\n')\n",
    "test(['100000','60000','30000','20000'],'Insufficient fund.\\nInsufficient fund.\\nBalance is 0\\n')\n",
    "test(['98765','56789','43210','6790'],'Insufficient fund.\\nInsufficient fund.\\nBalance is 0\\n')\n",
    "test(['98765','43210','12345','6660','130'],'Insufficient fund.\\nInsufficient fund.\\nBalance is 0\\n')"
   ]
  },
  {
   "cell_type": "code",
   "execution_count": null,
   "metadata": {
    "deletable": false,
    "editable": false,
    "nbgrader": {
     "cell_type": "code",
     "checksum": "a2e0a047d11f3f492dc2775bf90fd598",
     "grade": true,
     "grade_id": "cell-d4781a6782b18bd3",
     "locked": true,
     "points": 1,
     "schema_version": 3,
     "solution": false,
     "task": false
    }
   },
   "outputs": [],
   "source": [
    "'''เทสลับ1'''"
   ]
  },
  {
   "cell_type": "code",
   "execution_count": null,
   "metadata": {
    "deletable": false,
    "editable": false,
    "nbgrader": {
     "cell_type": "code",
     "checksum": "0a56c62c393b1bb999a871f58e359981",
     "grade": true,
     "grade_id": "cell-8c593928885cf777",
     "locked": true,
     "points": 1,
     "schema_version": 3,
     "solution": false,
     "task": false
    }
   },
   "outputs": [],
   "source": [
    "'''เทสลับ2'''"
   ]
  }
 ],
 "metadata": {
  "kernelspec": {
   "display_name": "Python 3 (ipykernel)",
   "language": "python",
   "name": "python3"
  },
  "language_info": {
   "codemirror_mode": {
    "name": "ipython",
    "version": 3
   },
   "file_extension": ".py",
   "mimetype": "text/x-python",
   "name": "python",
   "nbconvert_exporter": "python",
   "pygments_lexer": "ipython3",
   "version": "3.11.4"
  }
 },
 "nbformat": 4,
 "nbformat_minor": 1
}
