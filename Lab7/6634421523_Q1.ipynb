{
 "cells": [
  {
   "cell_type": "markdown",
   "metadata": {
    "deletable": false,
    "editable": false,
    "id": "28w5nobIZpsx",
    "nbgrader": {
     "cell_type": "markdown",
     "checksum": "e8a2bbc746ddcbc7e9b1eeb2fd8a77d9",
     "grade": false,
     "grade_id": "cell-dbf37dcea5d7dc5c",
     "locked": true,
     "schema_version": 3,
     "solution": false,
     "task": false
    }
   },
   "source": [
    "## Q1 (5 points)\n",
    "จงเขียนโปรแกรมที่รับตำแหน่ง (x,y) (x และ y เป็นจำนวนเต็ม) ซึ่งเป็นจุดเริ่มต้นของหุ่นยนต์จากผู้ใช้ แล้วอ่านลำดับของคำสั่งที่ให้หุ่นยนต์เดินไปทางซ้าย (L) ขวา (R) ขึ้นบน (U) ลงล่าง (D) ครั้งละ 1 หน่วย จากไฟล์ **move\\<n\\>.txt** แล้วหาว่าเมื่อจบโปรแกรมหุ่นยนต์จะไปอยู่ที่ตำแหน่งใดและแสดงผลลัพธ์ดังตัวอย่างข้างล่างนี้ <br>\n"
   ]
  },
  {
   "cell_type": "markdown",
   "metadata": {
    "deletable": false,
    "editable": false,
    "id": "PUvFUmc6Zpsz",
    "nbgrader": {
     "cell_type": "markdown",
     "checksum": "1ff0127d6143e4dad6a432504bba73a8",
     "grade": false,
     "grade_id": "cell-7ae57c7b0fc2869d",
     "locked": true,
     "schema_version": 3,
     "solution": false,
     "task": false
    }
   },
   "source": [
    "### ตัวอย่างการทำงาน: \n",
    "\n",
    "ไฟล์ move1.txt:<br>\n",
    "L <br>\n",
    "L <br>\n",
    "U <br>\n",
    "U <br>\n",
    "D <br>\n",
    "R <br>\n",
    "R <br>\n",
    "U <br>\n",
    "U <br>\n",
    "L <br>\n",
    "L <br>\n",
    "----\n",
    "Choose your movefile: **move1.txt** <br>\n",
    "Initial position : **10,20** <br>\n",
    "Robot stops at 8,23\n"
   ]
  },
  {
   "cell_type": "markdown",
   "metadata": {
    "deletable": false,
    "editable": false,
    "id": "izlaUqFSZpsz",
    "nbgrader": {
     "cell_type": "markdown",
     "checksum": "565de72459e946c839f53983083d2a67",
     "grade": false,
     "grade_id": "cell-1b10c564484fa711",
     "locked": true,
     "schema_version": 3,
     "solution": false,
     "task": false
    }
   },
   "source": [
    "### ตัวอย่างการทำงาน: \n",
    "\n",
    "ไฟล์ move2.txt: <br>\n",
    "L <br>\n",
    "L <br>\n",
    "X <br>\n",
    "U <br>\n",
    "D <br>\n",
    "Z <br>\n",
    "R <br>\n",
    "----\n",
    "Choose your movefile: **move2.txt** <br>\n",
    "Initial position : **10,20** <br>\n",
    "Invalid command"
   ]
  },
  {
   "cell_type": "code",
   "execution_count": 5,
   "metadata": {
    "deletable": false,
    "id": "481-8TCfZps0",
    "nbgrader": {
     "cell_type": "code",
     "checksum": "f890af7f5634c9ae49d370cf87f48efc",
     "grade": false,
     "grade_id": "answer",
     "locked": false,
     "schema_version": 3,
     "solution": true
    }
   },
   "outputs": [],
   "source": [
    "def run():\n",
    "    \n",
    "    file=input('Choose your movefile: ')\n",
    "    f = open(file , 'r')\n",
    "    x,y=input().split(',')\n",
    "    x,y=int(x),int(y)\n",
    "    check=0\n",
    "    for line in f:\n",
    "        line=line.strip()\n",
    "        if line not in ['L','R','U','D']:\n",
    "            print('Invalid command')\n",
    "            check+=1\n",
    "            break\n",
    "        if line=='L':\n",
    "            x-=1\n",
    "        elif line=='R':\n",
    "            x+=1\n",
    "        elif line=='U':\n",
    "            y+=1\n",
    "        elif line=='D':\n",
    "            y-=1\n",
    "    if check==0:\n",
    "        print (f'Robot stops at {x},{y}')\n",
    "    f.close()"
   ]
  },
  {
   "cell_type": "code",
   "execution_count": 6,
   "metadata": {
    "colab": {
     "base_uri": "https://localhost:8080/"
    },
    "deletable": false,
    "editable": false,
    "id": "Bd2rVvFiZps1",
    "nbgrader": {
     "cell_type": "code",
     "checksum": "b7b03893ed0aaf1a2af60ae612b4be37",
     "grade": false,
     "grade_id": "cell-befa13e6c82bd29b",
     "locked": true,
     "schema_version": 3,
     "solution": false,
     "task": false
    },
    "outputId": "f19d0787-3f54-4c8b-c704-126d27a1a07f"
   },
   "outputs": [
    {
     "name": "stdout",
     "output_type": "stream",
     "text": [
      "Choose your movefile: move1.txt\n",
      "10,20\n",
      "Robot stops at 8,23\n"
     ]
    }
   ],
   "source": [
    "'''ตรวจสอบผลลัพธ์ของโปรแกรมด้วยการรันที่ cell นี้'''\n",
    "run()"
   ]
  },
  {
   "cell_type": "code",
   "execution_count": 3,
   "metadata": {
    "deletable": false,
    "editable": false,
    "id": "ubx3rdB2Zps1",
    "nbgrader": {
     "cell_type": "code",
     "checksum": "98777bef341b333d2832a797ee356d8a",
     "grade": false,
     "grade_id": "partial",
     "locked": true,
     "schema_version": 3,
     "solution": false,
     "task": false
    }
   },
   "outputs": [],
   "source": [
    "'''ตรวจสอบผลการคำนวณ'''\n",
    "from unittest.mock import patch\n",
    "from io import StringIO\n",
    "import math\n",
    "\n",
    "def test(inputs,expected_output): \n",
    "    with patch('builtins.input', side_effect=inputs), patch('sys.stdout', new_callable=StringIO) as mock_stdout:\n",
    "        run()\n",
    "        assert mock_stdout.getvalue() == expected_output,mock_stdout.getvalue()\n",
    "def test_easy_print(inputs,expected_output):\n",
    "    with patch('builtins.input', side_effect=inputs), patch('sys.stdout', new_callable=StringIO) as mock_stdout:\n",
    "        run()\n",
    "        assert expected_output in mock_stdout.getvalue(), mock_stdout.getvalue()"
   ]
  },
  {
   "cell_type": "code",
   "execution_count": 4,
   "metadata": {
    "collapsed": true,
    "deletable": false,
    "editable": false,
    "nbgrader": {
     "cell_type": "code",
     "checksum": "edcc6ceaaaabc257d0284848cdb8168f",
     "grade": true,
     "grade_id": "easy_print",
     "locked": true,
     "points": 1,
     "schema_version": 3,
     "solution": false,
     "task": false
    }
   },
   "outputs": [
    {
     "ename": "ValueError",
     "evalue": "not enough values to unpack (expected 2, got 1)",
     "output_type": "error",
     "traceback": [
      "\u001b[1;31m---------------------------------------------------------------------------\u001b[0m",
      "\u001b[1;31mValueError\u001b[0m                                Traceback (most recent call last)",
      "Cell \u001b[1;32mIn[4], line 2\u001b[0m\n\u001b[0;32m      1\u001b[0m \u001b[38;5;124;03m'''ตรวจสอบการแสดงผลลัพธ์อย่างง่าย'''\u001b[39;00m\n\u001b[1;32m----> 2\u001b[0m test_easy_print(inputs\u001b[38;5;241m=\u001b[39m[\u001b[38;5;124m'\u001b[39m\u001b[38;5;124mmove1.txt\u001b[39m\u001b[38;5;124m'\u001b[39m,\u001b[38;5;124m'\u001b[39m\u001b[38;5;124m10,20\u001b[39m\u001b[38;5;124m'\u001b[39m],expected_output\u001b[38;5;241m=\u001b[39m\u001b[38;5;124m'\u001b[39m\u001b[38;5;124mRobot\u001b[39m\u001b[38;5;124m'\u001b[39m)\n",
      "Cell \u001b[1;32mIn[3], line 12\u001b[0m, in \u001b[0;36mtest_easy_print\u001b[1;34m(inputs, expected_output)\u001b[0m\n\u001b[0;32m     10\u001b[0m \u001b[38;5;28;01mdef\u001b[39;00m \u001b[38;5;21mtest_easy_print\u001b[39m(inputs,expected_output):\n\u001b[0;32m     11\u001b[0m     \u001b[38;5;28;01mwith\u001b[39;00m patch(\u001b[38;5;124m'\u001b[39m\u001b[38;5;124mbuiltins.input\u001b[39m\u001b[38;5;124m'\u001b[39m, side_effect\u001b[38;5;241m=\u001b[39minputs), patch(\u001b[38;5;124m'\u001b[39m\u001b[38;5;124msys.stdout\u001b[39m\u001b[38;5;124m'\u001b[39m, new_callable\u001b[38;5;241m=\u001b[39mStringIO) \u001b[38;5;28;01mas\u001b[39;00m mock_stdout:\n\u001b[1;32m---> 12\u001b[0m         run()\n\u001b[0;32m     13\u001b[0m         \u001b[38;5;28;01massert\u001b[39;00m expected_output \u001b[38;5;129;01min\u001b[39;00m mock_stdout\u001b[38;5;241m.\u001b[39mgetvalue(), mock_stdout\u001b[38;5;241m.\u001b[39mgetvalue()\n",
      "Cell \u001b[1;32mIn[1], line 5\u001b[0m, in \u001b[0;36mrun\u001b[1;34m()\u001b[0m\n\u001b[0;32m      3\u001b[0m file\u001b[38;5;241m=\u001b[39m\u001b[38;5;28minput\u001b[39m(\u001b[38;5;124m'\u001b[39m\u001b[38;5;124mChoose your movefile: \u001b[39m\u001b[38;5;124m'\u001b[39m)\n\u001b[0;32m      4\u001b[0m f \u001b[38;5;241m=\u001b[39m \u001b[38;5;28mopen\u001b[39m(file , \u001b[38;5;124m'\u001b[39m\u001b[38;5;124mr\u001b[39m\u001b[38;5;124m'\u001b[39m)\n\u001b[1;32m----> 5\u001b[0m x,y\u001b[38;5;241m=\u001b[39m\u001b[38;5;28minput\u001b[39m()\u001b[38;5;241m.\u001b[39msplit()\n\u001b[0;32m      6\u001b[0m x,y\u001b[38;5;241m=\u001b[39m\u001b[38;5;28mint\u001b[39m(x),\u001b[38;5;28mint\u001b[39m(y)\n\u001b[0;32m      7\u001b[0m check\u001b[38;5;241m=\u001b[39m\u001b[38;5;241m0\u001b[39m\n",
      "\u001b[1;31mValueError\u001b[0m: not enough values to unpack (expected 2, got 1)"
     ]
    }
   ],
   "source": [
    "'''ตรวจสอบการแสดงผลลัพธ์อย่างง่าย'''\n",
    "test_easy_print(inputs=['move1.txt','10,20'],expected_output='Robot')"
   ]
  },
  {
   "cell_type": "code",
   "execution_count": null,
   "metadata": {
    "deletable": false,
    "editable": false,
    "id": "keisuEReZps2",
    "nbgrader": {
     "cell_type": "code",
     "checksum": "ec66bb4ab81c70b4d6057932c1356ed2",
     "grade": true,
     "grade_id": "exact",
     "locked": false,
     "points": 1,
     "schema_version": 3,
     "solution": false
    }
   },
   "outputs": [],
   "source": [
    "'''ตรวจสอบผลการคำนวณและการแสดงผลลัพธ์ให้เหมือนกับโจทย์ที่กำหนดให้'''\n",
    "'''Robot can stop at position x,y'''\n",
    "test(['move1.txt','10,20'],'Robot stops at 8,23\\n') # ++\n",
    "test(['move1.txt','7,5'],'Robot stops at 5,8\\n') #++\n",
    "test(['move1.txt','100,-20'],'Robot stops at 98,-17\\n')  #+-\n",
    "test(['move1.txt','-100,50'],'Robot stops at -102,53\\n')  #-+\n",
    "test(['move1.txt','-100,-100'],'Robot stops at -102,-97\\n')  #--"
   ]
  },
  {
   "cell_type": "code",
   "execution_count": null,
   "metadata": {
    "deletable": false,
    "editable": false,
    "id": "YBNk9rP_Zps3",
    "nbgrader": {
     "cell_type": "code",
     "checksum": "617eb7cc709fa45f0859b442864c759d",
     "grade": true,
     "grade_id": "cell-cbc47179f27fefee",
     "locked": true,
     "points": 1,
     "schema_version": 3,
     "solution": false,
     "task": false
    }
   },
   "outputs": [],
   "source": [
    "'''ตรวจสอบผลการคำนวณและการแสดงผลลัพธ์ให้เหมือนกับโจทย์ที่กำหนดให้'''\n",
    "'''Invalid command'''\n",
    "test(['move2.txt','15,20'],'Invalid command\\n') #\n",
    "test(['move2.txt','1,1'],'Invalid command\\n') #"
   ]
  },
  {
   "cell_type": "code",
   "execution_count": null,
   "metadata": {
    "deletable": false,
    "editable": false,
    "id": "MdyUFFS5dzOX",
    "nbgrader": {
     "cell_type": "code",
     "checksum": "cee2ea1eab2f2f98e44ab0c74844698c",
     "grade": true,
     "grade_id": "cell-bbefc28bedac83a8",
     "locked": true,
     "points": 1,
     "schema_version": 3,
     "solution": false,
     "task": false
    }
   },
   "outputs": [],
   "source": [
    "'''เทสลับ1'''"
   ]
  },
  {
   "cell_type": "code",
   "execution_count": null,
   "metadata": {
    "deletable": false,
    "editable": false,
    "id": "YgP9a23SZps3",
    "nbgrader": {
     "cell_type": "code",
     "checksum": "110d6439bf690b1c30c2ac39e634bcf0",
     "grade": true,
     "grade_id": "cell-4c547bf9d492d10f",
     "locked": true,
     "points": 1,
     "schema_version": 3,
     "solution": false,
     "task": false
    }
   },
   "outputs": [],
   "source": [
    "'''เทสลับ2'''"
   ]
  }
 ],
 "metadata": {
  "colab": {
   "provenance": []
  },
  "kernelspec": {
   "display_name": "Python 3 (ipykernel)",
   "language": "python",
   "name": "python3"
  },
  "language_info": {
   "codemirror_mode": {
    "name": "ipython",
    "version": 3
   },
   "file_extension": ".py",
   "mimetype": "text/x-python",
   "name": "python",
   "nbconvert_exporter": "python",
   "pygments_lexer": "ipython3",
   "version": "3.11.4"
  }
 },
 "nbformat": 4,
 "nbformat_minor": 1
}
