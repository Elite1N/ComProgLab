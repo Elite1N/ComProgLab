{
 "cells": [
  {
   "cell_type": "markdown",
   "metadata": {
    "deletable": false,
    "editable": false,
    "id": "U-8BwmEJEqku",
    "nbgrader": {
     "cell_type": "markdown",
     "checksum": "1e0700b1e26028f1f7ba531f4325f983",
     "grade": false,
     "grade_id": "cell-dbf37dcea5d7dc5c",
     "locked": true,
     "schema_version": 3,
     "solution": false,
     "task": false
    }
   },
   "source": [
    "## Q3 (5 points)\n",
    "จงเขียนฟังก์ชัน f(x) ที่คำนวณ 1/x! และฟังก์ชัน summation(a,b) ที่ใช้ฟังก์ชัน f และ คำนวณผลรวมของ f(x) เมื่อ x = a, a+1,..., b (นั่นคือ 1/a! + 1/(a+1)! + ... + 1/b!) โดยที่ a ต้องไม่มากกว่า b <br>\n",
    "โดยใช้ ฟังก์ชัน factorial จาก module math <br>\n",
    "\n",
    "จากนั้นให้เขียนโปรแกรมหลักที่รับ**จำนวนเต็มบวก 2 จำนวน m และ n** (m อาจมากกว่าหรือน้อยกว่า n) แล้วเรียกใช้ฟังก์ชัน summation เพื่อ คำนวณหาผลรวมของ f(x) เมื่อ x มีค่าตั้งแต่ m ถึง n <br>\n",
    "**แสดงผลลัพธ์เป็นตัวเลขทศนิยม 4 ตำแหน่ง โดยใช้ ฟังก์ชัน round**"
   ]
  },
  {
   "cell_type": "markdown",
   "metadata": {
    "deletable": false,
    "editable": false,
    "id": "-_nBaU19Eqky",
    "nbgrader": {
     "cell_type": "markdown",
     "checksum": "335253310c887f63ae8d81ad9685d15e",
     "grade": false,
     "grade_id": "cell-679ab39eeac1b48a",
     "locked": true,
     "schema_version": 3,
     "solution": false,
     "task": false
    }
   },
   "source": [
    "### ตัวอย่างการทำงาน:\n",
    "\n",
    "Enter m: **1** <br>\n",
    "Enter n: **3** <br>\n",
    "1.6667\n"
   ]
  },
  {
   "cell_type": "markdown",
   "metadata": {
    "deletable": false,
    "editable": false,
    "id": "k_HL-GndEqk0",
    "nbgrader": {
     "cell_type": "markdown",
     "checksum": "68bcad310b8cf5519acfd53663044702",
     "grade": false,
     "grade_id": "cell-7ae57c7b0fc2869d",
     "locked": true,
     "schema_version": 3,
     "solution": false,
     "task": false
    }
   },
   "source": [
    "### ตัวอย่างการทำงาน:\n",
    "\n",
    "Enter m: **3** <br>\n",
    "Enter n: **1** <br>\n",
    "1.6667"
   ]
  },
  {
   "cell_type": "markdown",
   "metadata": {
    "deletable": false,
    "editable": false,
    "id": "8nloNdt9Eqk1",
    "nbgrader": {
     "cell_type": "markdown",
     "checksum": "662fb7ac8e225a1e43bd9a5c88e20f15",
     "grade": false,
     "grade_id": "cell-400409b302bb64e5",
     "locked": true,
     "schema_version": 3,
     "solution": false,
     "task": false
    }
   },
   "source": [
    "### ตัวอย่างการทำงาน:\n",
    "\n",
    "Enter m: **3** <br>\n",
    "Enter n: **6** <br>\n",
    "0.2181"
   ]
  },
  {
   "cell_type": "code",
   "execution_count": 1,
   "metadata": {
    "deletable": false,
    "id": "iTB6bgtoEqk2",
    "nbgrader": {
     "cell_type": "code",
     "checksum": "b20de013c1a25b44a99755b00a9d2003",
     "grade": false,
     "grade_id": "answer",
     "locked": false,
     "schema_version": 3,
     "solution": true
    }
   },
   "outputs": [],
   "source": [
    "import math\n",
    "def f(x):\n",
    "    return 1/math.factorial(x)\n",
    "def summation(a, b):\n",
    "    sum = 0\n",
    "    sorting = [a,b]\n",
    "    sorting.sort()\n",
    "    for i in range(sorting[0],sorting[1]+1):\n",
    "        sum+=f(i)\n",
    "    return sum\n",
    "def run():\n",
    "    '''main program'''\n",
    "    m,n = int(input('Enter m: ')),int(input('Enter n: '))\n",
    "    print(round(summation(m,n), 4))"
   ]
  },
  {
   "cell_type": "code",
   "execution_count": 2,
   "metadata": {
    "deletable": false,
    "editable": false,
    "id": "YPsPVsBsEqk5",
    "nbgrader": {
     "cell_type": "code",
     "checksum": "b7b03893ed0aaf1a2af60ae612b4be37",
     "grade": false,
     "grade_id": "cell-befa13e6c82bd29b",
     "locked": true,
     "schema_version": 3,
     "solution": false,
     "task": false
    }
   },
   "outputs": [
    {
     "name": "stdout",
     "output_type": "stream",
     "text": [
      "Enter m: 1\n",
      "Enter n: 3\n",
      "1.6667\n"
     ]
    }
   ],
   "source": [
    "'''ตรวจสอบผลลัพธ์ของโปรแกรมด้วยการรันที่ cell นี้'''\n",
    "run()"
   ]
  },
  {
   "cell_type": "code",
   "execution_count": 12,
   "metadata": {
    "deletable": false,
    "editable": false,
    "id": "c0WfuE2JEqk6",
    "nbgrader": {
     "cell_type": "code",
     "checksum": "98777bef341b333d2832a797ee356d8a",
     "grade": false,
     "grade_id": "partial",
     "locked": true,
     "schema_version": 3,
     "solution": false,
     "task": false
    }
   },
   "outputs": [],
   "source": [
    "'''ตรวจสอบผลการคำนวณ'''\n",
    "from unittest.mock import patch\n",
    "from io import StringIO\n",
    "import math\n",
    "\n",
    "def test(inputs,expected_output):\n",
    "    with patch('builtins.input', side_effect=inputs), patch('sys.stdout', new_callable=StringIO) as mock_stdout:\n",
    "        run()\n",
    "        assert mock_stdout.getvalue() == expected_output,mock_stdout.getvalue()\n",
    "def test_easy_print(inputs,expected_output):\n",
    "    with patch('builtins.input', side_effect=inputs), patch('sys.stdout', new_callable=StringIO) as mock_stdout:\n",
    "        run()\n",
    "        assert expected_output in mock_stdout.getvalue(), mock_stdout.getvalue()"
   ]
  },
  {
   "cell_type": "code",
   "execution_count": 13,
   "metadata": {
    "deletable": false,
    "editable": false,
    "id": "t9D6719tEqk7",
    "nbgrader": {
     "cell_type": "code",
     "checksum": "cd540882eec7a336ed413c938a44555b",
     "grade": true,
     "grade_id": "easy_print",
     "locked": true,
     "points": 1,
     "schema_version": 3,
     "solution": false,
     "task": false
    }
   },
   "outputs": [],
   "source": [
    "'''ตรวจสอบการแสดงผลลัพธ์อย่างง่าย'''\n",
    "test_easy_print(inputs=['1','3'],expected_output='1')"
   ]
  },
  {
   "cell_type": "code",
   "execution_count": 14,
   "metadata": {
    "deletable": false,
    "editable": false,
    "id": "9nOsO-tGEqk8",
    "nbgrader": {
     "cell_type": "code",
     "checksum": "98d4f1a1d9151fb1c924f2abc2af5888",
     "grade": true,
     "grade_id": "cell-4f7b8ee5a68b76a7",
     "locked": true,
     "points": 1,
     "schema_version": 3,
     "solution": false,
     "task": false
    }
   },
   "outputs": [],
   "source": [
    "'''ตรวจสอบผลการคำนวณและการแสดงผลลัพธ์ให้เหมือนกับโจทย์ที่กำหนดให้'''\n",
    "test(['1','3'],'1.6667\\n')\n",
    "test(['3','6'],'0.2181\\n')\n",
    "test(['5','6'],'0.0097\\n')\n",
    "test(['3','4'],'0.2083\\n')"
   ]
  },
  {
   "cell_type": "code",
   "execution_count": 15,
   "metadata": {
    "deletable": false,
    "editable": false,
    "id": "nsOGeQ5kEqk9",
    "nbgrader": {
     "cell_type": "code",
     "checksum": "574d968ce518ac6c9bceb2dd4f67177a",
     "grade": true,
     "grade_id": "cell-9becccc26c51e026",
     "locked": true,
     "points": 1,
     "schema_version": 3,
     "solution": false,
     "task": false
    }
   },
   "outputs": [],
   "source": [
    "'''ตรวจสอบผลการคำนวณและการแสดงผลลัพธ์ให้เหมือนกับโจทย์ที่กำหนดให้'''\n",
    "test(['3','1'],'1.6667\\n')\n",
    "test(['9','2'],'0.7183\\n')\n",
    "test(['5','2'],'0.7167\\n')"
   ]
  },
  {
   "cell_type": "code",
   "execution_count": 16,
   "metadata": {
    "deletable": false,
    "editable": false,
    "id": "KYjZ_53gEqk-",
    "nbgrader": {
     "cell_type": "code",
     "checksum": "6ddd3a9d8b1280000c5e5bba79c68d97",
     "grade": true,
     "grade_id": "cell-97ebb19bdacf1da4",
     "locked": true,
     "points": 1,
     "schema_version": 3,
     "solution": false,
     "task": false
    }
   },
   "outputs": [
    {
     "data": {
      "text/plain": [
       "'เทสลับ'"
      ]
     },
     "execution_count": 16,
     "metadata": {},
     "output_type": "execute_result"
    }
   ],
   "source": [
    "'''เทสลับ'''"
   ]
  },
  {
   "cell_type": "code",
   "execution_count": 8,
   "metadata": {
    "deletable": false,
    "editable": false,
    "id": "95s0MD8TEqk_",
    "nbgrader": {
     "cell_type": "code",
     "checksum": "79ac6fd00f80784c529facfa6e918aee",
     "grade": true,
     "grade_id": "exact",
     "locked": false,
     "points": 1,
     "schema_version": 3,
     "solution": false
    }
   },
   "outputs": [
    {
     "data": {
      "text/plain": [
       "'เทสลับ'"
      ]
     },
     "execution_count": 8,
     "metadata": {},
     "output_type": "execute_result"
    }
   ],
   "source": [
    "'''เทสลับ'''"
   ]
  }
 ],
 "metadata": {
  "colab": {
   "provenance": []
  },
  "kernelspec": {
   "display_name": "Python 3 (ipykernel)",
   "language": "python",
   "name": "python3"
  },
  "language_info": {
   "codemirror_mode": {
    "name": "ipython",
    "version": 3
   },
   "file_extension": ".py",
   "mimetype": "text/x-python",
   "name": "python",
   "nbconvert_exporter": "python",
   "pygments_lexer": "ipython3",
   "version": "3.11.4"
  },
  "vscode": {
   "interpreter": {
    "hash": "318f2c383d48220c821fefd227250c35bb828f95042f5889a5ad1704b1baf79c"
   }
  }
 },
 "nbformat": 4,
 "nbformat_minor": 1
}
