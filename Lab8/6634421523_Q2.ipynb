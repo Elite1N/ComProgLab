{
 "cells": [
  {
   "cell_type": "markdown",
   "metadata": {
    "deletable": false,
    "editable": false,
    "nbgrader": {
     "cell_type": "markdown",
     "checksum": "a9d1d53c86134a1997531e2283324c3e",
     "grade": false,
     "grade_id": "cell-dbf37dcea5d7dc5c",
     "locked": true,
     "schema_version": 3,
     "solution": false,
     "task": false
    }
   },
   "source": [
    "## Q2 (9 points)\n",
    "จงเขียนโปรแกรมที่อ่านเฉลยของข้อสอบปรนัยจากไฟล์ sol\\<n\\>.txt (ข้อสอบมี 10 ข้อ ) \n",
    "และอ่านคำตอบของนักเรียนจากไฟล์ exam\\<n\\>.txt ที่มีคำตอบจากนักเรียนแต่ละคนอยู่ใน 1 บรรทัด\n",
    "(ถือว่านักเรียนต้องตอบข้อสอบทุกข้อ)\n",
    "และมีนักเรียนอยู่ 8 คน จากนั้นให้ตรวจคำตอบของนักเรียนทุกคน แล้วหา\n",
    "- คะแนนของนักเรียนแต่ละคน\n",
    "- คะแนนเฉลี่ยของข้อสอบแต่ละข้อ\n",
    "- ข้อสอบข้อที่นักเรียนทำคะแนนได้น้อยสุด (แสดงให้ครบทุกข้อ หากคะแนนเท่ากันหลายข้อ )\n",
    "- ข้อสอบข้อที่นักเรียนทำคะแนนได้มากสุด (แสดงให้ครบทุกข้อ หากคะแนนเท่ากันหลายข้อ )\n",
    "\n",
    "**หมายเหตุ ให้ใช้ลิสต์ในข้อนี้ และสามารถใช้ฟังก์ชัน min และ max เพื่อหาค่าน้อยสุดและมากสุดในลิสต์ได้**"
   ]
  },
  {
   "cell_type": "markdown",
   "metadata": {
    "deletable": false,
    "editable": false,
    "nbgrader": {
     "cell_type": "markdown",
     "checksum": "a70a4e7cbda8c186989eb046f3320c57",
     "grade": false,
     "grade_id": "cell-7ae57c7b0fc2869d",
     "locked": true,
     "schema_version": 3,
     "solution": false,
     "task": false
    }
   },
   "source": [
    "### ตัวอย่างไฟล์: \n",
    "ไฟล์ sol1.txt: <br>\n",
    "A A B A D C C D A B<br>\n",
    "---\n",
    "ไฟล์ exam1.txt: <br>\n",
    "A A D A D C C D A B <br>\n",
    "C A C A D C C D B C <br>\n",
    "A A B A D C B D A B <br>\n",
    "B A B A D C C C A B <br>\n",
    "A A D B D C B D A B <br> \n",
    "B A B A D C C C A C <br>\n",
    "A A D A D C C D A B <br>\n",
    "A A B A C C C D B B <br>\n",
    "---\n",
    "ไฟล์ sol2.txt: <br>\n",
    "C A B A D A C C A B <br>\n",
    "---\n",
    "ไฟล์ exam2.txt: <br>\n",
    "A A B A C C C D B B <br>\n",
    "A A B A D C B D A B <br>\n",
    "B A C A D B C D B C <br>\n",
    "A A D B D C B D A B <br>\n",
    "A A B A D C C D A B <br>\n",
    "A A D A D C C D A B <br>\n",
    "C A B A D A C C A C <br>\n",
    "A A D A D C C D A B <br>"
   ]
  },
  {
   "cell_type": "markdown",
   "metadata": {
    "deletable": false,
    "editable": false,
    "nbgrader": {
     "cell_type": "markdown",
     "checksum": "9520eafded2423f3aefb25b24c193061",
     "grade": false,
     "grade_id": "cell-28c9c5a1fd452032",
     "locked": true,
     "schema_version": 3,
     "solution": false,
     "task": false
    }
   },
   "source": [
    "### ตัวอย่างการทำงาน: \n",
    "Choose your solution file: **sol1.txt** <br>\n",
    "Choose your exam file: **exam1.txt** <br>\n",
    "Student score : [9, 6, 9, 8, 7, 7, 9, 8]<br>\n",
    "\n",
    "Question 1 : 0.625 <br>\n",
    "Question 2 : 1.0 <br>\n",
    "Question 3 : 0.5 <br>\n",
    "Question 4 : 0.875 <br>\n",
    "Question 5 : 0.875 <br>\n",
    "Question 6 : 1.0 <br>\n",
    "Question 7 : 0.75 <br>\n",
    "Question 8 : 0.75 <br>\n",
    "Question 9 : 0.75 <br>\n",
    "Question 10 : 0.75 <br>\n",
    "\n",
    "Hardest : 3 <br>\n",
    "Easiest : 2 6 <br>"
   ]
  },
  {
   "cell_type": "code",
   "execution_count": 1,
   "metadata": {
    "deletable": false,
    "nbgrader": {
     "cell_type": "code",
     "checksum": "b200d6e6b1dcb53db9c7782614ea5d49",
     "grade": false,
     "grade_id": "name",
     "locked": false,
     "schema_version": 3,
     "solution": true
    }
   },
   "outputs": [],
   "source": [
    "def run():\n",
    "    f = open(input('Choose your solution file: '))\n",
    "    sol = f.read().strip().split() #เก็บ solution แต่ละข้อใน list\n",
    "    f.close\n",
    "    \n",
    "    f = open(input('Choose your exam file: '))\n",
    "    exam = [i.strip().split() for i in f] #list ใหญ่ มี listคำตอบย่อยเรียงคน\n",
    "    \n",
    "    student_score = [] #list เก็บคะแนนรายคน\n",
    "    question_average = [0]*len(sol) #list ที่เก็บค่าคะแนนทั้งหมดรายข้อ\n",
    "    for person in exam: #check รายคน\n",
    "        score=0\n",
    "        for n in range(len(sol)):  #check รายข้อ\n",
    "            if sol[n]==person[n]:\n",
    "                score+=1\n",
    "                question_average[n]+=1\n",
    "        student_score.append(score)\n",
    "    question_average = [i/len(student_score) for i in question_average] #average = คะแนน/จำนวนข้อมูล\n",
    "    \n",
    "    highscore = max(question_average) #คะแนนสูงสุด\n",
    "    lowscore = min(question_average) #คะแนนต่ำสุด\n",
    "    hardest = ''\n",
    "    easiest = ''\n",
    "    \n",
    "    for i in range(len(question_average)): #หาข้อที่มีคะแนนน้อยสุด/มากสุด\n",
    "        if question_average[i] == lowscore: \n",
    "            hardest += ' ' + str(i+1)\n",
    "        if question_average[i] == highscore: \n",
    "            easiest += ' ' + str(i+1)            \n",
    "    \n",
    "    print (f'Student score : {student_score}')\n",
    "    print()\n",
    "    for i in range(len(question_average)) :\n",
    "        print (f'Question {i+1} : {question_average[i]}')\n",
    "    print()\n",
    "    print (f'Hardest :{hardest}')\n",
    "    print (f'Easiest :{easiest}')"
   ]
  },
  {
   "cell_type": "code",
   "execution_count": 2,
   "metadata": {
    "deletable": false,
    "editable": false,
    "nbgrader": {
     "cell_type": "code",
     "checksum": "b7b03893ed0aaf1a2af60ae612b4be37",
     "grade": false,
     "grade_id": "cell-befa13e6c82bd29b",
     "locked": true,
     "schema_version": 3,
     "solution": false,
     "task": false
    }
   },
   "outputs": [
    {
     "name": "stdout",
     "output_type": "stream",
     "text": [
      "Choose your solution file: sol1.txt\n",
      "Choose your exam file: exam2.txt\n",
      "Student score : [8, 9, 5, 7, 10, 9, 6, 9]\n",
      "\n",
      "Question 1 : 0.75\n",
      "Question 2 : 1.0\n",
      "Question 3 : 0.5\n",
      "Question 4 : 0.875\n",
      "Question 5 : 0.875\n",
      "Question 6 : 0.75\n",
      "Question 7 : 0.75\n",
      "Question 8 : 0.875\n",
      "Question 9 : 0.75\n",
      "Question 10 : 0.75\n",
      "\n",
      "Hardest : 3\n",
      "Easiest : 2\n"
     ]
    }
   ],
   "source": [
    "'''ตรวจสอบผลลัพธ์ของโปรแกรมด้วยการรันที่ cell นี้'''\n",
    "run()"
   ]
  },
  {
   "cell_type": "code",
   "execution_count": 22,
   "metadata": {
    "deletable": false,
    "editable": false,
    "nbgrader": {
     "cell_type": "code",
     "checksum": "51309daa496029406f58e0ffe1d6e21d",
     "grade": false,
     "grade_id": "partial",
     "locked": true,
     "schema_version": 3,
     "solution": false,
     "task": false
    }
   },
   "outputs": [],
   "source": [
    "'''ตรวจสอบผลการคำนวณ'''\n",
    "from unittest.mock import patch\n",
    "from io import StringIO\n",
    "\n",
    "def test(inputs,expected_output): \n",
    "    with patch('builtins.input', side_effect=inputs), patch('sys.stdout', new_callable=StringIO) as mock_stdout:\n",
    "        run()\n",
    "        assert mock_stdout.getvalue() == expected_output,mock_stdout.getvalue()\n",
    "def test_easy_print(inputs,expected_output):\n",
    "    with patch('builtins.input', side_effect=inputs), patch('sys.stdout', new_callable=StringIO) as mock_stdout:\n",
    "        run()\n",
    "        assert expected_output in mock_stdout.getvalue(), mock_stdout.getvalue()"
   ]
  },
  {
   "cell_type": "code",
   "execution_count": 23,
   "metadata": {
    "deletable": false,
    "editable": false,
    "nbgrader": {
     "cell_type": "code",
     "checksum": "86da37fe05394240197a54ae3b10d8f2",
     "grade": true,
     "grade_id": "easy_print",
     "locked": true,
     "points": 1,
     "schema_version": 3,
     "solution": false,
     "task": false
    }
   },
   "outputs": [],
   "source": [
    "'''ตรวจสอบการแสดงผลลัพธ์อย่างง่าย'''\n",
    "test_easy_print(inputs=['sol1.txt','exam1.txt'],expected_output='Student')"
   ]
  },
  {
   "cell_type": "code",
   "execution_count": 24,
   "metadata": {
    "deletable": false,
    "editable": false,
    "nbgrader": {
     "cell_type": "code",
     "checksum": "eb076173ec367d4ac7f716fe167b3a8b",
     "grade": true,
     "grade_id": "exact",
     "locked": false,
     "points": 1,
     "schema_version": 3,
     "solution": false
    }
   },
   "outputs": [
    {
     "name": "stdout",
     "output_type": "stream",
     "text": [
      "OK\n"
     ]
    }
   ],
   "source": [
    "'''ตรวจสอบผลการคำนวณและการแสดงผลลัพธ์ให้เหมือนกับโจทย์ที่กำหนดให้'''\n",
    "'''sol1-exam1'''\n",
    "test(['sol1.txt','exam1.txt'],'Student score : [9, 6, 9, 8, 7, 7, 9, 8]\\n\\n\\\n",
    "Question 1 : 0.625\\nQuestion 2 : 1.0\\nQuestion 3 : 0.5\\nQuestion 4 : 0.875\\n\\\n",
    "Question 5 : 0.875\\nQuestion 6 : 1.0\\nQuestion 7 : 0.75\\nQuestion 8 : 0.75\\n\\\n",
    "Question 9 : 0.75\\nQuestion 10 : 0.75\\n\\nHardest : 3\\n\\\n",
    "Easiest : 2 6\\n') \n",
    "print('OK')"
   ]
  },
  {
   "cell_type": "code",
   "execution_count": 25,
   "metadata": {
    "deletable": false,
    "editable": false,
    "nbgrader": {
     "cell_type": "code",
     "checksum": "9fc0ff8600dd01f0680ddfc13623887e",
     "grade": true,
     "grade_id": "cell-0c38a636281d4f0d",
     "locked": true,
     "points": 1,
     "schema_version": 3,
     "solution": false,
     "task": false
    }
   },
   "outputs": [
    {
     "name": "stdout",
     "output_type": "stream",
     "text": [
      "OK\n"
     ]
    }
   ],
   "source": [
    "'''ตรวจสอบผลการคำนวณและการแสดงผลลัพธ์ให้เหมือนกับโจทย์ที่กำหนดให้'''\n",
    "'''sol1-exam2'''\n",
    "test(['sol1.txt','exam2.txt'],'Student score : [8, 9, 5, 7, 10, 9, 6, 9]\\n\\n\\\n",
    "Question 1 : 0.75\\nQuestion 2 : 1.0\\nQuestion 3 : 0.5\\nQuestion 4 : 0.875\\n\\\n",
    "Question 5 : 0.875\\nQuestion 6 : 0.75\\nQuestion 7 : 0.75\\n\\\n",
    "Question 8 : 0.875\\nQuestion 9 : 0.75\\nQuestion 10 : 0.75\\n\\n\\\n",
    "Hardest : 3\\nEasiest : 2\\n') \n",
    "print('OK')"
   ]
  },
  {
   "cell_type": "code",
   "execution_count": 26,
   "metadata": {
    "deletable": false,
    "editable": false,
    "nbgrader": {
     "cell_type": "code",
     "checksum": "e87a6d03fca6dd909d3b3f4bbb4238bd",
     "grade": true,
     "grade_id": "cell-fd46675f2047b1a8",
     "locked": true,
     "points": 1,
     "schema_version": 3,
     "solution": false,
     "task": false
    }
   },
   "outputs": [
    {
     "name": "stdout",
     "output_type": "stream",
     "text": [
      "OK\n"
     ]
    }
   ],
   "source": [
    "'''ตรวจสอบผลการคำนวณและการแสดงผลลัพธ์ให้เหมือนกับโจทย์ที่กำหนดให้'''\n",
    "'''sol2-exam1'''\n",
    "test(['sol2.txt','exam1.txt'],'Student score : [6, 5, 6, 8, 4, 7, 6, 5]\\n\\n\\\n",
    "Question 1 : 0.125\\nQuestion 2 : 1.0\\nQuestion 3 : 0.5\\nQuestion 4 : 0.875\\n\\\n",
    "Question 5 : 0.875\\nQuestion 6 : 0.0\\nQuestion 7 : 0.75\\nQuestion 8 : 0.25\\n\\\n",
    "Question 9 : 0.75\\nQuestion 10 : 0.75\\n\\nHardest : 6\\n\\\n",
    "Easiest : 2\\n') \n",
    "print('OK')"
   ]
  },
  {
   "cell_type": "code",
   "execution_count": 27,
   "metadata": {
    "deletable": false,
    "editable": false,
    "nbgrader": {
     "cell_type": "code",
     "checksum": "01384eec373648aa310993c2d08a9175",
     "grade": true,
     "grade_id": "cell-bdf63c4f416d44e6",
     "locked": true,
     "points": 1,
     "schema_version": 3,
     "solution": false,
     "task": false
    }
   },
   "outputs": [
    {
     "name": "stdout",
     "output_type": "stream",
     "text": [
      "OK\n"
     ]
    }
   ],
   "source": [
    "'''ตรวจสอบผลการคำนวณและการแสดงผลลัพธ์ให้เหมือนกับโจทย์ที่กำหนดให้'''\n",
    "'''sol2-exam2'''\n",
    "test(['sol2.txt','exam2.txt'],'Student score : [5, 6, 4, 4, 7, 6, 9, 6]\\n\\n\\\n",
    "Question 1 : 0.125\\nQuestion 2 : 1.0\\nQuestion 3 : 0.5\\nQuestion 4 : 0.875\\n\\\n",
    "Question 5 : 0.875\\nQuestion 6 : 0.125\\nQuestion 7 : 0.75\\nQuestion 8 : 0.125\\n\\\n",
    "Question 9 : 0.75\\nQuestion 10 : 0.75\\n\\nHardest : 1 6 8\\n\\\n",
    "Easiest : 2\\n') \n",
    "print('OK')"
   ]
  },
  {
   "cell_type": "code",
   "execution_count": 28,
   "metadata": {
    "deletable": false,
    "editable": false,
    "nbgrader": {
     "cell_type": "code",
     "checksum": "61ca89b950cda397a0a4b8c0f74a4923",
     "grade": true,
     "grade_id": "cell-41d5dc3a57709824",
     "locked": true,
     "points": 1,
     "schema_version": 3,
     "solution": false,
     "task": false
    }
   },
   "outputs": [
    {
     "data": {
      "text/plain": [
       "'เทสลับ1'"
      ]
     },
     "execution_count": 28,
     "metadata": {},
     "output_type": "execute_result"
    }
   ],
   "source": [
    "'''เทสลับ1'''"
   ]
  },
  {
   "cell_type": "code",
   "execution_count": 29,
   "metadata": {
    "deletable": false,
    "editable": false,
    "nbgrader": {
     "cell_type": "code",
     "checksum": "a583f42f964cf2675886d7e3123bfbfc",
     "grade": true,
     "grade_id": "cell-88f757b5f3a1c322",
     "locked": true,
     "points": 1,
     "schema_version": 3,
     "solution": false,
     "task": false
    }
   },
   "outputs": [
    {
     "data": {
      "text/plain": [
       "'เทสลับ2'"
      ]
     },
     "execution_count": 29,
     "metadata": {},
     "output_type": "execute_result"
    }
   ],
   "source": [
    "'''เทสลับ2'''"
   ]
  },
  {
   "cell_type": "code",
   "execution_count": 21,
   "metadata": {
    "deletable": false,
    "editable": false,
    "nbgrader": {
     "cell_type": "code",
     "checksum": "6be8dbadd45d3c4ddf5b162aabd33df9",
     "grade": true,
     "grade_id": "cell-a70719962a52d414",
     "locked": true,
     "points": 1,
     "schema_version": 3,
     "solution": false,
     "task": false
    }
   },
   "outputs": [
    {
     "data": {
      "text/plain": [
       "'เทสลับ3'"
      ]
     },
     "execution_count": 21,
     "metadata": {},
     "output_type": "execute_result"
    }
   ],
   "source": [
    "'''เทสลับ3'''"
   ]
  },
  {
   "cell_type": "code",
   "execution_count": 12,
   "metadata": {
    "deletable": false,
    "editable": false,
    "nbgrader": {
     "cell_type": "code",
     "checksum": "d1e4ab7715eda7f0b5a7759936974eab",
     "grade": true,
     "grade_id": "cell-7c1a16c0210ba75d",
     "locked": true,
     "points": 1,
     "schema_version": 3,
     "solution": false,
     "task": false
    }
   },
   "outputs": [
    {
     "data": {
      "text/plain": [
       "'เทสลับ4'"
      ]
     },
     "execution_count": 12,
     "metadata": {},
     "output_type": "execute_result"
    }
   ],
   "source": [
    "'''เทสลับ4'''"
   ]
  }
 ],
 "metadata": {
  "kernelspec": {
   "display_name": "Python 3 (ipykernel)",
   "language": "python",
   "name": "python3"
  },
  "language_info": {
   "codemirror_mode": {
    "name": "ipython",
    "version": 3
   },
   "file_extension": ".py",
   "mimetype": "text/x-python",
   "name": "python",
   "nbconvert_exporter": "python",
   "pygments_lexer": "ipython3",
   "version": "3.11.4"
  }
 },
 "nbformat": 4,
 "nbformat_minor": 1
}
