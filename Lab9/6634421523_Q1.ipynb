{
 "cells": [
  {
   "cell_type": "markdown",
   "metadata": {
    "deletable": false,
    "editable": false,
    "nbgrader": {
     "cell_type": "markdown",
     "checksum": "b438d4963f5d414d3cb2f7d32c125d51",
     "grade": false,
     "grade_id": "cell-dbf37dcea5d7dc5c",
     "locked": true,
     "schema_version": 3,
     "solution": false,
     "task": false
    }
   },
   "source": [
    "## Q1 (8 points)\n",
    "จงเขียนโปรแกรมที่แสดงตัวเลือกให้ผู้ใช้ 6 ตัวเลือกได้แก่ <br>\n",
    "1 เพิ่มสินค้าไว้ลำดับท้ายสุดในลิสต์, <br>\n",
    "2 เปลี่ยนสินค้าในลิสต์, <br>\n",
    "3 เพิ่มสินค้าตามตำแหน่งที่ระบุในลิสต์, <br>\n",
    "4 ลบสินค้าในลิสต์, <br>\n",
    "5 แสดงสินค้าในลิสต์, <br>\n",
    "6 ออกจากโปรแกรม <br>\n",
    "\n",
    "จากนั้นวนรับตัวเลือกจากผู้ใช้และทำงานตามตัวเลือก โดยให้สร้างเป็นฟังก์ชันสำหรับแต่ละตัวเลือกและรายละเอียดสำหรับแต่ละตัวเลือกมีดังนี้<br>\n",
    "\n",
    "**การเพิ่มสินค้าไว้ลำดับท้ายสุดในลิสต์** <br>\n",
    "def add_item(item_list): <br>\n",
    "โดย item_list คือลิสต์ที่จะเพิ่มสินค้าลงไป <br>\n",
    "การทำงาน <br>\n",
    "- รับข้อมูลชื่อสินค้าที่จะเพิ่มจากผู้ใช้ <br>\n",
    "- หากสินค้านั้นยังไม่ปรากฏในลิสต์ จะเพิ่มสินค้าลงในลิสต์ แล้วแสดงข้อความว่า Item has been added <br>\n",
    "- หากสินค้านั้นปรากฏในลิสต์อยู่แล้ว จะไม่เพิ่มสินค้าซ้ำลงไป แต่จะแสดงข้อความว่า Item is already in the list  <br>\n",
    "\n",
    "**การเปลี่ยนสินค้าในลิสต์**  <br>\n",
    "def change_item(item_list):\n",
    "การทำงาน\n",
    "- รับข้อมูลชื่อสินค้าที่จะเปลี่ยนชื่อจากผู้ใช้ <br>\n",
    "- หากชื่อสินค้านั้นมีในลิสต์ ให้รับชื่อสินค้าใหม่ แล้วเปลี่ยนชื่อสินค้า จากนั้นแสดงข้อความว่า Item has been changed <br>\n",
    "- หากชื่อสินค้านั้นไม่มีในลิสต์ ให้แสดงข้อความว่า Item is not in the list <br>\n",
    "\n",
    "**เพิ่มสินค้าตามตำแหน่งที่ระบุในลิสต์**  <br>\n",
    "def insert_item(item_list):\n",
    "การทำงาน\n",
    "- รับข้อมูลชื่อสินค้าที่จะเพิ่มจากผู้ใช้<br>\n",
    "- รับตำแหน่งที่ต้องการจะเพิ่ม <br>\n",
    "- เพิ่มชื่อสินค้าตามตำแหน่งที่ระบุ <br>\n",
    "- แสดงข้อความว่า Item has been inserted<br>\n",
    "\n",
    "**ลบสินค้าในลิสต์** <br>\n",
    "def remove_item(item_list): <br>\n",
    "การทำงาน <br>\n",
    "- รับข้อมูลชื่อสินค้าที่จะลบจากผู้ใช้ <br>\n",
    "- หากชื่อสินค้านั้นมีในลิสต์ ให้ลบชื่อสินค้าออกจากลิสต์ จากนั้นแสดงข้อความว่า Item has been removed <br>\n",
    "- หากชื่อสินค้านั้นไม่มีในลิสต์ ให้แสดงข้อความว่า This item is not in the list <br>\n",
    "\n",
    "**แสดงสินค้าในลิสต์** <br>\n",
    "def show_items(item_list): <br>\n",
    "การทำงาน <br>\n",
    "- แสดงสินค้าในลิสต์ แต่หากเริ่มแรกสุดยังไม่มีสินค้าให้แสดงข้อความว่า The list is currently empty <br>\n",
    " "
   ]
  },
  {
   "cell_type": "markdown",
   "metadata": {
    "deletable": false,
    "editable": false,
    "nbgrader": {
     "cell_type": "markdown",
     "checksum": "ffa87f20ac98056be90b2d9a9d205142",
     "grade": false,
     "grade_id": "cell-e91b292e332e6674",
     "locked": true,
     "schema_version": 3,
     "solution": false,
     "task": false
    }
   },
   "source": [
    "### ตัวอย่างการทำงาน def show items and exit: \n",
    "\n",
    "What would you like to do? <br>\n",
    "1: add item <br>\n",
    "2: change item <br>\n",
    "3: insert item <br>\n",
    "4: remove item <br>\n",
    "5: show items <br>\n",
    "6: exit <br>\n",
    "---\n",
    "Enter a number: **5** <br> \n",
    "The list is currently empty <br>\n",
    "Enter a number: **6** <br>"
   ]
  },
  {
   "cell_type": "markdown",
   "metadata": {
    "deletable": false,
    "editable": false,
    "nbgrader": {
     "cell_type": "markdown",
     "checksum": "26d1c954f949b609e29a4455dda99d0e",
     "grade": false,
     "grade_id": "cell-499ab6a0d9ea06fe",
     "locked": true,
     "schema_version": 3,
     "solution": false,
     "task": false
    }
   },
   "source": [
    "### ตัวอย่างการทำงาน def add item and exit: \n",
    "What would you like to do? <br>\n",
    "1: add item <br>\n",
    "2: change item <br>\n",
    "3: insert item <br>\n",
    "4: remove item <br>\n",
    "5: show items <br>\n",
    "6: exit <br>\n",
    "---\n",
    "Enter a number: **1** <br>\n",
    "Enter item: **Pen** <br>\n",
    "Item has been added <br> \n",
    "Enter a number: **1** <br>\n",
    "Enter item: **Eraser** <br>\n",
    "Item has been added <br>\n",
    "Enter a number: **1** <br>\n",
    "Enter item: **Pen** <br>\n",
    "Item is already in the list <br>\n",
    "Enter a number: **5** <br>\n",
    "['Pen', 'Eraser'] <br>\n",
    "Enter a number: **6** <br>"
   ]
  },
  {
   "cell_type": "markdown",
   "metadata": {
    "deletable": false,
    "editable": false,
    "nbgrader": {
     "cell_type": "markdown",
     "checksum": "eb6da9375d8be1d7a54036462ff6972e",
     "grade": false,
     "grade_id": "cell-215eb9258ba379ac",
     "locked": true,
     "schema_version": 3,
     "solution": false,
     "task": false
    }
   },
   "source": [
    "### ตัวอย่างการทำงาน def change item and exit: \n",
    "What would you like to do? <br>\n",
    "1: add item <br>\n",
    "2: change item <br>\n",
    "3: insert item <br>\n",
    "4: remove item <br>\n",
    "5: show items <br>\n",
    "6: exit <br>\n",
    "---\n",
    "Enter a number: **1** <br>\n",
    "Enter item: **Pen** <br>\n",
    "Item has been added <br> \n",
    "Enter a number: **1** <br>\n",
    "Enter item: **Eraser** <br>\n",
    "Item has been added <br>\n",
    "Enter a number: **2** <br>\n",
    "Enter item you want to change: **Rubber** <br>\n",
    "Item is not in the list <br>\n",
    "Enter a number: **2** <br>\n",
    "Enter item you want to change: **Eraser** <br>\n",
    "Enter new item: **Ruler** <br>\n",
    "Item has been changed <br>\n",
    "Enter a number: **5** <br>\n",
    "['Pen', 'Ruler'] <br>\n",
    "Enter a number: **6** <br>"
   ]
  },
  {
   "cell_type": "markdown",
   "metadata": {
    "deletable": false,
    "editable": false,
    "nbgrader": {
     "cell_type": "markdown",
     "checksum": "4cd657bc066d11e05ded16ded494e697",
     "grade": false,
     "grade_id": "cell-39d603e94a813ebd",
     "locked": true,
     "schema_version": 3,
     "solution": false,
     "task": false
    }
   },
   "source": [
    "### ตัวอย่างการทำงาน def insert item  and exit: \n",
    "What would you like to do? <br>\n",
    "1: add item <br>\n",
    "2: change item <br>\n",
    "3: insert item <br>\n",
    "4: remove item <br>\n",
    "5: show items <br>\n",
    "6: exit <br>\n",
    "---\n",
    "Enter a number: **1** <br>\n",
    "Enter item: **Pen** <br>\n",
    "Item has been added <br> \n",
    "Enter a number: **1** <br>\n",
    "Enter item: **Eraser** <br>\n",
    "Item has been added <br>\n",
    "Enter a number: **3** <br>\n",
    "Enter item: **Pencil** <br>\n",
    "Enter location that you want to insert: **0** <br>\n",
    "Item has been inserted <br>\n",
    "Enter a number: **5** <br>\n",
    "['Pencil', 'Pen', 'Eraser'] <br>\n",
    "Enter a number: **6** <br>"
   ]
  },
  {
   "cell_type": "markdown",
   "metadata": {
    "deletable": false,
    "editable": false,
    "nbgrader": {
     "cell_type": "markdown",
     "checksum": "f5efe6371e9e36573674e374c0193f50",
     "grade": false,
     "grade_id": "cell-3542b8b29a515630",
     "locked": true,
     "schema_version": 3,
     "solution": false,
     "task": false
    }
   },
   "source": [
    "### ตัวอย่างการทำงาน def remove item  and exit: \n",
    "What would you like to do? <br>\n",
    "1: add item <br>\n",
    "2: change item <br>\n",
    "3: insert item <br>\n",
    "4: remove item <br>\n",
    "5: show items <br>\n",
    "6: exit <br>\n",
    "---\n",
    "Enter a number: **1** <br>\n",
    "Enter item: **Pen** <br>\n",
    "Item has been added <br> \n",
    "Enter a number: **1** <br>\n",
    "Enter item: **Eraser** <br>\n",
    "Item has been added <br>\n",
    "Enter a number: **1** <br>\n",
    "Enter item: **Pencil** <br>\n",
    "Item has been added <br>\n",
    "Enter a number: **4** <br>\n",
    "Enter item you want to remove: **Sharpener** <br>\n",
    "This item is not in the list <br>\n",
    "Enter a number: **4** <br>\n",
    "Enter item you want to remove: **Pen** <br>\n",
    "Item has been removed <br>\n",
    "Enter a number: **5** <br>\n",
    "['Eraser', 'Pencil'] <br>\n",
    "Enter a number: **6** <br>"
   ]
  },
  {
   "cell_type": "code",
   "execution_count": 3,
   "metadata": {
    "deletable": false,
    "nbgrader": {
     "cell_type": "code",
     "checksum": "e36571637794cfd0bcee143f71f8778e",
     "grade": false,
     "grade_id": "name",
     "locked": false,
     "schema_version": 3,
     "solution": true
    }
   },
   "outputs": [],
   "source": [
    "def add_item(item_list) :\n",
    "    item = input('Enter item: ')\n",
    "    \n",
    "    if item not in item_list:\n",
    "        item_list.append(item)\n",
    "        print ('Item has been added')\n",
    "    \n",
    "    else:\n",
    "        print ('Item is already in the list')\n",
    "    \n",
    "    return item_list\n",
    "    \n",
    "def change_item(item_list) :\n",
    "    item = input('Enter item you want to change: ')\n",
    "    \n",
    "    if item in item_list:\n",
    "        newitem = input('Enter new item: ')\n",
    "        item_list[item_list.index(item)] = newitem\n",
    "        print ('Item has been changed')\n",
    "    else:\n",
    "        print ('Item is not in the list')\n",
    "    \n",
    "    return item_list\n",
    "    \n",
    "def insert_item(item_list) :\n",
    "    item = input('Enter item: ')\n",
    "    location = int(input('Enter location that you want to insert: '))\n",
    "    \n",
    "    item_list.insert(location,item)\n",
    "    print ('Item has been inserted')\n",
    "    return item_list\n",
    "\n",
    "def remove_item(item_list) :\n",
    "    item = input('Enter item you want to remove: ')\n",
    "    if item in item_list:\n",
    "        item_list.remove(item)\n",
    "        print ('Item has been removed')\n",
    "    else:\n",
    "        print ('This item is not in the list')\n",
    "    return item_list\n",
    "\n",
    "def show_item(item_list) :\n",
    "    if item_list:\n",
    "        print (item_list)\n",
    "    else:\n",
    "        print ('The list is currently empty')\n",
    "\n",
    "    \n",
    "def run():\n",
    "    '''main program'''  \n",
    "    item_list = []\n",
    "    print('What would you like to do?\\n1: add item\\n2: change item\\n3: insert item\\n4: remove item\\n5: show items\\n6: exit')\n",
    "    while True:\n",
    "        number = input(\"Enter a number: \")\n",
    "        if number == '1':\n",
    "            item_list = add_item(item_list)\n",
    "        elif number == '2':\n",
    "            item_list = change_item(item_list)\n",
    "        elif number == '3':\n",
    "            item_list = insert_item(item_list)\n",
    "        elif number == '4':\n",
    "            item_list = remove_item(item_list)\n",
    "        elif number == '5':\n",
    "            show_item(item_list)\n",
    "        else:\n",
    "            break"
   ]
  },
  {
   "cell_type": "code",
   "execution_count": 4,
   "metadata": {
    "deletable": false,
    "editable": false,
    "nbgrader": {
     "cell_type": "code",
     "checksum": "b7b03893ed0aaf1a2af60ae612b4be37",
     "grade": false,
     "grade_id": "cell-befa13e6c82bd29b",
     "locked": true,
     "schema_version": 3,
     "solution": false,
     "task": false
    },
    "scrolled": false
   },
   "outputs": [
    {
     "name": "stdout",
     "output_type": "stream",
     "text": [
      "What would you like to do?\n",
      "1: add item\n",
      "2: change item\n",
      "3: insert item\n",
      "4: remove item\n",
      "5: show items\n",
      "6: exit\n",
      "Enter a number: 1\n",
      "Enter item: Pen\n",
      "Item has been added\n",
      "Enter a number: 1\n",
      "Enter item: Eraser\n",
      "Item has been added\n",
      "Enter a number: 2\n",
      "Enter item you want to change: Rubber\n",
      "Item is not in the list\n",
      "Enter a number: 2\n",
      "Enter item you want to change: Eraser\n",
      "Enter new item: Ruler\n",
      "Enter a number: 5\n",
      "['Pen', 'Ruler']\n",
      "Enter a number: 6\n"
     ]
    }
   ],
   "source": [
    "'''ตรวจสอบผลลัพธ์ของโปรแกรมด้วยการรันที่ cell นี้'''\n",
    "run()"
   ]
  },
  {
   "cell_type": "code",
   "execution_count": 5,
   "metadata": {
    "deletable": false,
    "editable": false,
    "nbgrader": {
     "cell_type": "code",
     "checksum": "51309daa496029406f58e0ffe1d6e21d",
     "grade": false,
     "grade_id": "partial",
     "locked": true,
     "schema_version": 3,
     "solution": false,
     "task": false
    }
   },
   "outputs": [],
   "source": [
    "'''ตรวจสอบผลการคำนวณ'''\n",
    "from unittest.mock import patch\n",
    "from io import StringIO\n",
    "\n",
    "def test(inputs,expected_output): \n",
    "    with patch('builtins.input', side_effect=inputs), patch('sys.stdout', new_callable=StringIO) as mock_stdout:\n",
    "        run()\n",
    "        assert mock_stdout.getvalue() == expected_output,mock_stdout.getvalue()\n",
    "def test_easy_print(inputs,expected_output):\n",
    "    with patch('builtins.input', side_effect=inputs), patch('sys.stdout', new_callable=StringIO) as mock_stdout:\n",
    "        run()\n",
    "        assert expected_output in mock_stdout.getvalue(), mock_stdout.getvalue()"
   ]
  },
  {
   "cell_type": "code",
   "execution_count": 6,
   "metadata": {
    "deletable": false,
    "editable": false,
    "nbgrader": {
     "cell_type": "code",
     "checksum": "e665f9d47aada33999cbf1aebc03989a",
     "grade": true,
     "grade_id": "easy_print",
     "locked": true,
     "points": 1,
     "schema_version": 3,
     "solution": false,
     "task": false
    }
   },
   "outputs": [],
   "source": [
    "'''ตรวจสอบการแสดงผลลัพธ์อย่างง่าย'''\n",
    "test_easy_print(inputs=['5','6'],expected_output='What')"
   ]
  },
  {
   "cell_type": "code",
   "execution_count": 7,
   "metadata": {
    "deletable": false,
    "editable": false,
    "nbgrader": {
     "cell_type": "code",
     "checksum": "73e090f07d0cd167e804c22a37bea94b",
     "grade": true,
     "grade_id": "exact",
     "locked": false,
     "points": 1,
     "schema_version": 3,
     "solution": false
    }
   },
   "outputs": [
    {
     "name": "stdout",
     "output_type": "stream",
     "text": [
      "OK\n"
     ]
    }
   ],
   "source": [
    "'''ตรวจสอบผลการคำนวณและการแสดงผลลัพธ์ให้เหมือนกับโจทย์ที่กำหนดให้'''\n",
    "'''Test function show'''\n",
    "test(['5','6'],'What would you like to do?\\n1: add item\\n2: change item\\n3: insert item\\n\\\n",
    "4: remove item\\n5: show items\\n6: exit\\nThe list is currently empty\\n')\n",
    "print('OK')"
   ]
  },
  {
   "cell_type": "code",
   "execution_count": 8,
   "metadata": {
    "deletable": false,
    "editable": false,
    "nbgrader": {
     "cell_type": "code",
     "checksum": "89ccf2813c46c43328b1970cca03f3dc",
     "grade": true,
     "grade_id": "cell-c73870cae5a59dfa",
     "locked": true,
     "points": 1,
     "schema_version": 3,
     "solution": false,
     "task": false
    }
   },
   "outputs": [
    {
     "name": "stdout",
     "output_type": "stream",
     "text": [
      "OK\n"
     ]
    }
   ],
   "source": [
    "'''ตรวจสอบผลการคำนวณและการแสดงผลลัพธ์ให้เหมือนกับโจทย์ที่กำหนดให้'''\n",
    "'''Test function add'''\n",
    "test(['1','Pen','1','Eraser','1','Pen','5','6'],'What would you like to do?\\n1: add item\\n2: change item\\n3: insert item\\n\\\n",
    "4: remove item\\n5: show items\\n6: exit\\nItem has been added\\nItem has been added\\nItem is already in the list\\n[\\'Pen\\', \\'Eraser\\']\\n')\n",
    "print('OK')"
   ]
  },
  {
   "cell_type": "code",
   "execution_count": 9,
   "metadata": {
    "deletable": false,
    "editable": false,
    "nbgrader": {
     "cell_type": "code",
     "checksum": "7f5ecf38f8190c0478918bd1ccd3c1a8",
     "grade": true,
     "grade_id": "cell-cbc47179f27fefee",
     "locked": true,
     "points": 1,
     "schema_version": 3,
     "solution": false,
     "task": false
    }
   },
   "outputs": [
    {
     "ename": "AssertionError",
     "evalue": "What would you like to do?\n1: add item\n2: change item\n3: insert item\n4: remove item\n5: show items\n6: exit\nItem has been added\nItem has been added\nItem is not in the list\n['Pen', 'Ruler']\n",
     "output_type": "error",
     "traceback": [
      "\u001b[1;31m---------------------------------------------------------------------------\u001b[0m",
      "\u001b[1;31mAssertionError\u001b[0m                            Traceback (most recent call last)",
      "Cell \u001b[1;32mIn[9], line 3\u001b[0m\n\u001b[0;32m      1\u001b[0m \u001b[38;5;124;03m'''ตรวจสอบผลการคำนวณและการแสดงผลลัพธ์ให้เหมือนกับโจทย์ที่กำหนดให้'''\u001b[39;00m\n\u001b[0;32m      2\u001b[0m \u001b[38;5;124;03m'''Test function change'''\u001b[39;00m\n\u001b[1;32m----> 3\u001b[0m test([\u001b[38;5;124m'\u001b[39m\u001b[38;5;124m1\u001b[39m\u001b[38;5;124m'\u001b[39m,\u001b[38;5;124m'\u001b[39m\u001b[38;5;124mPen\u001b[39m\u001b[38;5;124m'\u001b[39m,\u001b[38;5;124m'\u001b[39m\u001b[38;5;124m1\u001b[39m\u001b[38;5;124m'\u001b[39m,\u001b[38;5;124m'\u001b[39m\u001b[38;5;124mEraser\u001b[39m\u001b[38;5;124m'\u001b[39m,\u001b[38;5;124m'\u001b[39m\u001b[38;5;124m2\u001b[39m\u001b[38;5;124m'\u001b[39m,\u001b[38;5;124m'\u001b[39m\u001b[38;5;124mRubber\u001b[39m\u001b[38;5;124m'\u001b[39m,\u001b[38;5;124m'\u001b[39m\u001b[38;5;124m2\u001b[39m\u001b[38;5;124m'\u001b[39m,\u001b[38;5;124m'\u001b[39m\u001b[38;5;124mEraser\u001b[39m\u001b[38;5;124m'\u001b[39m,\u001b[38;5;124m'\u001b[39m\u001b[38;5;124mRuler\u001b[39m\u001b[38;5;124m'\u001b[39m,\u001b[38;5;124m'\u001b[39m\u001b[38;5;124m5\u001b[39m\u001b[38;5;124m'\u001b[39m,\u001b[38;5;124m'\u001b[39m\u001b[38;5;124m6\u001b[39m\u001b[38;5;124m'\u001b[39m],\u001b[38;5;124m'\u001b[39m\u001b[38;5;124mWhat would you like to do?\u001b[39m\u001b[38;5;130;01m\\n\u001b[39;00m\u001b[38;5;124m1: add item\u001b[39m\u001b[38;5;130;01m\\n\u001b[39;00m\u001b[38;5;124m2: change item\u001b[39m\u001b[38;5;130;01m\\n\u001b[39;00m\u001b[38;5;124m3: insert item\u001b[39m\u001b[38;5;130;01m\\n\u001b[39;00m\u001b[38;5;130;01m\\\u001b[39;00m\n\u001b[0;32m      4\u001b[0m \u001b[38;5;124m4: remove item\u001b[39m\u001b[38;5;130;01m\\n\u001b[39;00m\u001b[38;5;124m5: show items\u001b[39m\u001b[38;5;130;01m\\n\u001b[39;00m\u001b[38;5;124m6: exit\u001b[39m\u001b[38;5;130;01m\\n\u001b[39;00m\u001b[38;5;124mItem has been added\u001b[39m\u001b[38;5;130;01m\\n\u001b[39;00m\u001b[38;5;124mItem has been added\u001b[39m\u001b[38;5;130;01m\\n\u001b[39;00m\u001b[38;5;124mItem is not in the list\u001b[39m\u001b[38;5;130;01m\\n\u001b[39;00m\u001b[38;5;130;01m\\\u001b[39;00m\n\u001b[0;32m      5\u001b[0m \u001b[38;5;124mItem has been changed\u001b[39m\u001b[38;5;130;01m\\n\u001b[39;00m\u001b[38;5;124m[\u001b[39m\u001b[38;5;130;01m\\'\u001b[39;00m\u001b[38;5;124mPen\u001b[39m\u001b[38;5;130;01m\\'\u001b[39;00m\u001b[38;5;124m, \u001b[39m\u001b[38;5;130;01m\\'\u001b[39;00m\u001b[38;5;124mRuler\u001b[39m\u001b[38;5;130;01m\\'\u001b[39;00m\u001b[38;5;124m]\u001b[39m\u001b[38;5;130;01m\\n\u001b[39;00m\u001b[38;5;124m'\u001b[39m)\n\u001b[0;32m      6\u001b[0m \u001b[38;5;28mprint\u001b[39m(\u001b[38;5;124m'\u001b[39m\u001b[38;5;124mOK\u001b[39m\u001b[38;5;124m'\u001b[39m)\n",
      "Cell \u001b[1;32mIn[5], line 8\u001b[0m, in \u001b[0;36mtest\u001b[1;34m(inputs, expected_output)\u001b[0m\n\u001b[0;32m      6\u001b[0m \u001b[38;5;28;01mwith\u001b[39;00m patch(\u001b[38;5;124m'\u001b[39m\u001b[38;5;124mbuiltins.input\u001b[39m\u001b[38;5;124m'\u001b[39m, side_effect\u001b[38;5;241m=\u001b[39minputs), patch(\u001b[38;5;124m'\u001b[39m\u001b[38;5;124msys.stdout\u001b[39m\u001b[38;5;124m'\u001b[39m, new_callable\u001b[38;5;241m=\u001b[39mStringIO) \u001b[38;5;28;01mas\u001b[39;00m mock_stdout:\n\u001b[0;32m      7\u001b[0m     run()\n\u001b[1;32m----> 8\u001b[0m     \u001b[38;5;28;01massert\u001b[39;00m mock_stdout\u001b[38;5;241m.\u001b[39mgetvalue() \u001b[38;5;241m==\u001b[39m expected_output,mock_stdout\u001b[38;5;241m.\u001b[39mgetvalue()\n",
      "\u001b[1;31mAssertionError\u001b[0m: What would you like to do?\n1: add item\n2: change item\n3: insert item\n4: remove item\n5: show items\n6: exit\nItem has been added\nItem has been added\nItem is not in the list\n['Pen', 'Ruler']\n"
     ]
    }
   ],
   "source": [
    "'''ตรวจสอบผลการคำนวณและการแสดงผลลัพธ์ให้เหมือนกับโจทย์ที่กำหนดให้'''\n",
    "'''Test function change'''\n",
    "test(['1','Pen','1','Eraser','2','Rubber','2','Eraser','Ruler','5','6'],'What would you like to do?\\n1: add item\\n2: change item\\n3: insert item\\n\\\n",
    "4: remove item\\n5: show items\\n6: exit\\nItem has been added\\nItem has been added\\nItem is not in the list\\n\\\n",
    "Item has been changed\\n[\\'Pen\\', \\'Ruler\\']\\n')\n",
    "print('OK')"
   ]
  },
  {
   "cell_type": "code",
   "execution_count": 10,
   "metadata": {
    "deletable": false,
    "editable": false,
    "nbgrader": {
     "cell_type": "code",
     "checksum": "8562a915f94054fb67a1b077fd5d6f00",
     "grade": true,
     "grade_id": "cell-0ec36ba71a93f61f",
     "locked": true,
     "points": 1,
     "schema_version": 3,
     "solution": false,
     "task": false
    }
   },
   "outputs": [
    {
     "name": "stdout",
     "output_type": "stream",
     "text": [
      "OK\n"
     ]
    }
   ],
   "source": [
    "'''ตรวจสอบผลการคำนวณและการแสดงผลลัพธ์ให้เหมือนกับโจทย์ที่กำหนดให้'''\n",
    "'''Test function insert'''\n",
    "test(['1','Pen','1','Eraser','3','Pencil','0','5','6'],'What would you like to do?\\n1: add item\\n2: change item\\n3: insert item\\n\\\n",
    "4: remove item\\n5: show items\\n6: exit\\nItem has been added\\nItem has been added\\nItem has been inserted\\n[\\'Pencil\\', \\'Pen\\', \\'Eraser\\']\\n')\n",
    "print('OK')"
   ]
  },
  {
   "cell_type": "code",
   "execution_count": 11,
   "metadata": {
    "deletable": false,
    "editable": false,
    "nbgrader": {
     "cell_type": "code",
     "checksum": "2a8b27c9f4c2d02ea185e1ad69e6947e",
     "grade": true,
     "grade_id": "cell-f59ccd5b163fae70",
     "locked": true,
     "points": 1,
     "schema_version": 3,
     "solution": false,
     "task": false
    },
    "scrolled": true
   },
   "outputs": [
    {
     "name": "stdout",
     "output_type": "stream",
     "text": [
      "OK\n"
     ]
    }
   ],
   "source": [
    "'''ตรวจสอบผลการคำนวณและการแสดงผลลัพธ์ให้เหมือนกับโจทย์ที่กำหนดให้'''\n",
    "'''Test function remove'''\n",
    "test(['1','Pen','1','Eraser','1','Pencil','4','Sharpener','4','Pen','5','6'],'What would you like to do?\\n1: add item\\n2: change item\\n3: insert item\\n\\\n",
    "4: remove item\\n5: show items\\n6: exit\\nItem has been added\\nItem has been added\\nItem has been added\\nThis item is not in the list\\nItem has been removed\\n\\\n",
    "[\\'Eraser\\', \\'Pencil\\']\\n')\n",
    "print('OK')"
   ]
  },
  {
   "cell_type": "code",
   "execution_count": null,
   "metadata": {
    "deletable": false,
    "editable": false,
    "nbgrader": {
     "cell_type": "code",
     "checksum": "9f0d63ca62a9c420c52883f305685256",
     "grade": true,
     "grade_id": "cell-f3ee952f2dbff837",
     "locked": true,
     "points": 1,
     "schema_version": 3,
     "solution": false,
     "task": false
    }
   },
   "outputs": [],
   "source": [
    "'''เทสลับ1'''"
   ]
  },
  {
   "cell_type": "code",
   "execution_count": null,
   "metadata": {
    "deletable": false,
    "editable": false,
    "nbgrader": {
     "cell_type": "code",
     "checksum": "30e10292795a72b302426e58bd5d26a0",
     "grade": true,
     "grade_id": "cell-2b9456ba0c0822b0",
     "locked": true,
     "points": 1,
     "schema_version": 3,
     "solution": false,
     "task": false
    }
   },
   "outputs": [],
   "source": [
    "'''เทสลับ2'''"
   ]
  }
 ],
 "metadata": {
  "kernelspec": {
   "display_name": "Python 3 (ipykernel)",
   "language": "python",
   "name": "python3"
  },
  "language_info": {
   "codemirror_mode": {
    "name": "ipython",
    "version": 3
   },
   "file_extension": ".py",
   "mimetype": "text/x-python",
   "name": "python",
   "nbconvert_exporter": "python",
   "pygments_lexer": "ipython3",
   "version": "3.11.4"
  },
  "vscode": {
   "interpreter": {
    "hash": "318f2c383d48220c821fefd227250c35bb828f95042f5889a5ad1704b1baf79c"
   }
  }
 },
 "nbformat": 4,
 "nbformat_minor": 1
}
